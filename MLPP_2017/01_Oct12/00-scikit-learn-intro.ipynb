{
 "cells": [
  {
   "cell_type": "markdown",
   "metadata": {
    "slideshow": {
     "slide_type": "slide"
    }
   },
   "source": [
    "# Introduciton to Scikit-Learn \n",
    "\n",
    "Scikit-Learn is a Machine Learning library in Python that has all well-known and well-performing algorithms, and other useful tools to solve practical problems.\n",
    "\n",
    "Python package name is `sklearn`.\n",
    "\n",
    "Note:\n",
    "* Deep Learning uses own libraries build by major companies (Google's *tensorflow*, Amazon's *mxnet*, Nvidia's *CUDA* and *cuDNN*) and universities (*Caffe*, MIT's *keras*, abandoned *Theano* from Deep Learning pioneers)\n",
    "* Database is a separate package called *Pandas* with its parallel version *Dask*. They are non-relational databases. Actual data can be stored anywhere, including distributed file systems like HDFS.\n",
    "* Low-level mathematic operations are done with *Numpy*, that uses C-code libraries suitable for your computer."
   ]
  },
  {
   "cell_type": "code",
   "execution_count": 1,
   "metadata": {
    "collapsed": true
   },
   "outputs": [],
   "source": [
    "import sklearn\n",
    "from sklearn import linear_model"
   ]
  },
  {
   "cell_type": "markdown",
   "metadata": {},
   "source": [
    "## Example usage of Scikit-Learn"
   ]
  },
  {
   "cell_type": "code",
   "execution_count": 2,
   "metadata": {
    "collapsed": true
   },
   "outputs": [],
   "source": [
    "from sklearn import datasets\n",
    "iris = datasets.load_iris()"
   ]
  },
  {
   "cell_type": "code",
   "execution_count": 3,
   "metadata": {},
   "outputs": [
    {
     "data": {
      "text/plain": [
       "dict_keys(['data', 'target', 'target_names', 'DESCR', 'feature_names'])"
      ]
     },
     "execution_count": 3,
     "metadata": {},
     "output_type": "execute_result"
    }
   ],
   "source": [
    "iris.keys()"
   ]
  },
  {
   "cell_type": "code",
   "execution_count": 4,
   "metadata": {
    "collapsed": true
   },
   "outputs": [],
   "source": [
    "X = iris['data']\n",
    "Y = iris['target']"
   ]
  },
  {
   "cell_type": "markdown",
   "metadata": {},
   "source": [
    "#### We will use a test set to estimate generalization performance"
   ]
  },
  {
   "cell_type": "code",
   "execution_count": 5,
   "metadata": {
    "collapsed": true
   },
   "outputs": [],
   "source": [
    "from sklearn.model_selection import train_test_split"
   ]
  },
  {
   "cell_type": "code",
   "execution_count": 6,
   "metadata": {
    "collapsed": true
   },
   "outputs": [],
   "source": [
    "X_train, X_test, Y_train, Y_test = train_test_split(X, Y)"
   ]
  },
  {
   "cell_type": "markdown",
   "metadata": {},
   "source": [
    "#### Now train a linear model for classification"
   ]
  },
  {
   "cell_type": "code",
   "execution_count": 7,
   "metadata": {
    "collapsed": true
   },
   "outputs": [],
   "source": [
    "from sklearn.linear_model import LogisticRegression"
   ]
  },
  {
   "cell_type": "code",
   "execution_count": 8,
   "metadata": {},
   "outputs": [
    {
     "data": {
      "text/plain": [
       "LogisticRegression(C=1.0, class_weight=None, dual=False, fit_intercept=True,\n",
       "          intercept_scaling=1, max_iter=100, multi_class='ovr', n_jobs=1,\n",
       "          penalty='l2', random_state=None, solver='liblinear', tol=0.0001,\n",
       "          verbose=0, warm_start=False)"
      ]
     },
     "execution_count": 8,
     "metadata": {},
     "output_type": "execute_result"
    }
   ],
   "source": [
    "model = LogisticRegression()\n",
    "model.fit(X_train, Y_train)"
   ]
  },
  {
   "cell_type": "markdown",
   "metadata": {},
   "source": [
    "#### Evaluate how close are model-computed numbers to real flower species"
   ]
  },
  {
   "cell_type": "code",
   "execution_count": 9,
   "metadata": {},
   "outputs": [
    {
     "data": {
      "text/plain": [
       "0.97368421052631582"
      ]
     },
     "execution_count": 9,
     "metadata": {},
     "output_type": "execute_result"
    }
   ],
   "source": [
    "model.score(X_test, Y_test)"
   ]
  },
  {
   "cell_type": "markdown",
   "metadata": {},
   "source": [
    "### Altogether\n",
    "\n",
    "This code has all parts needed to run Machine Learning.\n",
    "1. Get a dataset with training and testing parts.\n",
    "2. Fit the model - find values of model parameters\n",
    "3. Evaluate that a model performance is good enough for the task\n",
    "4. Calculate model predictions and connect them to real quantities"
   ]
  },
  {
   "cell_type": "code",
   "execution_count": 10,
   "metadata": {
    "collapsed": true
   },
   "outputs": [],
   "source": [
    "from sklearn.linear_model import LogisticRegression\n",
    "from sklearn.model_selection import train_test_split"
   ]
  },
  {
   "cell_type": "code",
   "execution_count": 11,
   "metadata": {
    "collapsed": true
   },
   "outputs": [],
   "source": [
    "X_train, X_test, Y_train, Y_test = train_test_split(X, Y)\n",
    "model = LogisticRegression()\n",
    "model.fit(X_train, Y_train)\n",
    "score = model.score(X_test, Y_test)\n",
    "y_hat = model.predict(X_test)"
   ]
  },
  {
   "cell_type": "code",
   "execution_count": 12,
   "metadata": {},
   "outputs": [
    {
     "name": "stdout",
     "output_type": "stream",
     "text": [
      "Estimate of generalization performance:  0.973684210526\n",
      "True class of a test sample: 1 (versicolor)\n",
      "Predicted class of a test sample: 1 (versicolor)\n"
     ]
    }
   ],
   "source": [
    "print('Estimate of generalization performance: ', score)\n",
    "print('True class of a test sample: {} ({})'.format(Y_test[0], iris['target_names'][Y_test[0]]))\n",
    "print('Predicted class of a test sample: {} ({})'.format(y_hat[0], iris['target_names'][y_hat[0]]))"
   ]
  },
  {
   "cell_type": "code",
   "execution_count": null,
   "metadata": {
    "collapsed": true
   },
   "outputs": [],
   "source": []
  },
  {
   "cell_type": "markdown",
   "metadata": {},
   "source": [
    "# 20 Newsgroups Dataset for homeworks\n",
    "\n",
    "This dataset has text of news articles, a total of 20,000 articles from 20 topics. Our goal is to predict the topic of a new article. Dataset already split into training and test parts based on time (test articles published later than training).\n",
    "\n",
    "Scikit-Learn has a function to download the whole dataset: `sklearn.datasets.fetch_20newsgroups`"
   ]
  },
  {
   "cell_type": "code",
   "execution_count": 13,
   "metadata": {
    "collapsed": true
   },
   "outputs": [],
   "source": [
    "news = datasets.fetch_20newsgroups(subset='train')\n",
    "news_test = datasets.fetch_20newsgroups(subset='test')"
   ]
  },
  {
   "cell_type": "code",
   "execution_count": 14,
   "metadata": {},
   "outputs": [
    {
     "data": {
      "text/plain": [
       "dict_keys(['data', 'filenames', 'target_names', 'target', 'DESCR', 'description'])"
      ]
     },
     "execution_count": 14,
     "metadata": {},
     "output_type": "execute_result"
    }
   ],
   "source": [
    "news.keys()"
   ]
  },
  {
   "cell_type": "code",
   "execution_count": 15,
   "metadata": {
    "collapsed": true
   },
   "outputs": [],
   "source": [
    "Text_train = news.data\n",
    "Y_train = news.target"
   ]
  },
  {
   "cell_type": "code",
   "execution_count": 16,
   "metadata": {
    "collapsed": true
   },
   "outputs": [],
   "source": [
    "Text_test = news_test.data\n",
    "Y_test = news_test.target"
   ]
  },
  {
   "cell_type": "code",
   "execution_count": 17,
   "metadata": {},
   "outputs": [
    {
     "data": {
      "text/plain": [
       "\"From: lerxst@wam.umd.edu (where's my thing)\\nSubject: WHAT car is this!?\\nNntp-Posting-Host: rac3.wam.umd.edu\\nOrganization: University of Maryland, College Park\\nLines: 15\\n\\n I was wondering if anyone out there could enlighten me on this car I saw\\nthe other day. It was a 2-door sports car, looked to be from the late 60s/\\nearly 70s. It was called a Bricklin. The doors were really small. In addition,\\nthe front bumper was separate from the rest of the body. This is \\nall I know. If anyone can tellme a model name, engine specs, years\\nof production, where this car is made, history, or whatever info you\\nhave on this funky looking car, please e-mail.\\n\\nThanks,\\n- IL\\n   ---- brought to you by your neighborhood Lerxst ----\\n\\n\\n\\n\\n\""
      ]
     },
     "execution_count": 17,
     "metadata": {},
     "output_type": "execute_result"
    }
   ],
   "source": [
    "Text_train[0]"
   ]
  },
  {
   "cell_type": "code",
   "execution_count": 18,
   "metadata": {},
   "outputs": [
    {
     "data": {
      "text/plain": [
       "'rec.autos'"
      ]
     },
     "execution_count": 18,
     "metadata": {},
     "output_type": "execute_result"
    }
   ],
   "source": [
    "news.target_names[Y_train[0]]"
   ]
  },
  {
   "cell_type": "markdown",
   "metadata": {},
   "source": [
    "### Machine Learning can work only with numbers, not the text.\n",
    "\n",
    "Let's create a vocabulary of the most common 5,000 words in the news articles. Then replace each piece of text by a vector with 5,000 values representing the number of times a corresponding vocabulary word is used in the text.\n",
    "\n",
    "Scikit-Learn has a function for that, called `CountVectorizer()`"
   ]
  },
  {
   "cell_type": "code",
   "execution_count": 19,
   "metadata": {
    "collapsed": true
   },
   "outputs": [],
   "source": [
    "from sklearn.feature_extraction.text import CountVectorizer"
   ]
  },
  {
   "cell_type": "code",
   "execution_count": 20,
   "metadata": {
    "scrolled": true
   },
   "outputs": [
    {
     "data": {
      "text/plain": [
       "CountVectorizer(analyzer='word', binary=False, decode_error='strict',\n",
       "        dtype=<class 'numpy.int64'>, encoding='utf-8', input='content',\n",
       "        lowercase=True, max_df=1.0, max_features=5000, min_df=1,\n",
       "        ngram_range=(1, 1), preprocessor=None, stop_words='english',\n",
       "        strip_accents=None, token_pattern='(?u)\\\\b\\\\w\\\\w+\\\\b',\n",
       "        tokenizer=None, vocabulary=None)"
      ]
     },
     "execution_count": 20,
     "metadata": {},
     "output_type": "execute_result"
    }
   ],
   "source": [
    "processor = CountVectorizer(max_features=5000, stop_words='english')\n",
    "processor.fit(Text_train)"
   ]
  },
  {
   "cell_type": "code",
   "execution_count": 21,
   "metadata": {},
   "outputs": [
    {
     "data": {
      "text/plain": [
       "{'wam': 4826,\n",
       " 'umd': 4656,\n",
       " 'edu': 1594,\n",
       " 'thing': 4500,\n",
       " 'subject': 4331,\n",
       " 'car': 894,\n",
       " 'nntp': 3111,\n",
       " 'posting': 3474,\n",
       " 'host': 2228,\n",
       " 'organization': 3239,\n",
       " 'university': 4676,\n",
       " 'maryland': 2822,\n",
       " 'college': 1072,\n",
       " 'park': 3302,\n",
       " 'lines': 2683,\n",
       " '15': 50,\n",
       " 'wondering': 4917,\n",
       " 'saw': 3959,\n",
       " 'day': 1346,\n",
       " 'door': 1523,\n",
       " 'sports': 4231,\n",
       " 'looked': 2724,\n",
       " 'late': 2595,\n",
       " 'early': 1570,\n",
       " 'called': 864,\n",
       " 'doors': 1524,\n",
       " 'really': 3705,\n",
       " 'small': 4159,\n",
       " 'addition': 346,\n",
       " 'separate': 4044,\n",
       " 'rest': 3823,\n",
       " 'body': 757,\n",
       " 'know': 2563,\n",
       " 'model': 2959,\n",
       " 'engine': 1638,\n",
       " 'specs': 4216,\n",
       " 'years': 4978,\n",
       " 'production': 3552,\n",
       " 'history': 2187,\n",
       " 'info': 2353,\n",
       " 'looking': 2725,\n",
       " 'mail': 2775,\n",
       " 'thanks': 4492,\n",
       " 'il': 2291,\n",
       " 'brought': 809,\n",
       " 'carson': 911,\n",
       " 'washington': 4837,\n",
       " 'guy': 2089,\n",
       " 'si': 4106,\n",
       " 'clock': 1051,\n",
       " 'final': 1835,\n",
       " 'summary': 4356,\n",
       " 'reports': 3794,\n",
       " 'keywords': 2540,\n",
       " 'upgrade': 4689,\n",
       " 'article': 530,\n",
       " '11': 29,\n",
       " 'fair': 1769,\n",
       " 'number': 3145,\n",
       " 'shared': 4080,\n",
       " 'experiences': 1726,\n",
       " 'send': 4033,\n",
       " 'brief': 799,\n",
       " 'message': 2887,\n",
       " 'procedure': 3541,\n",
       " 'speed': 4219,\n",
       " 'cpu': 1253,\n",
       " 'rated': 3679,\n",
       " 'add': 343,\n",
       " 'cards': 896,\n",
       " 'heat': 2152,\n",
       " 'hour': 2230,\n",
       " 'usage': 4697,\n",
       " 'floppy': 1864,\n",
       " 'disk': 1487,\n",
       " '800': 249,\n",
       " 'especially': 1676,\n",
       " 'days': 1347,\n",
       " 'network': 3084,\n",
       " 'knowledge': 2565,\n",
       " 'base': 649,\n",
       " 'haven': 2136,\n",
       " 'answered': 461,\n",
       " 'ecn': 1582,\n",
       " 'purdue': 3612,\n",
       " 'thomas': 4505,\n",
       " 'questions': 3638,\n",
       " 'engineering': 1640,\n",
       " 'computer': 1133,\n",
       " 'distribution': 1493,\n",
       " 'usa': 4696,\n",
       " '36': 157,\n",
       " 'folks': 1873,\n",
       " 'mac': 2762,\n",
       " 'plus': 3435,\n",
       " 'finally': 1836,\n",
       " 'gave': 1964,\n",
       " 'weekend': 4860,\n",
       " 'starting': 4259,\n",
       " 'life': 2670,\n",
       " 'way': 4847,\n",
       " '1985': 69,\n",
       " 'market': 2814,\n",
       " 'new': 3087,\n",
       " 'machine': 2763,\n",
       " 'bit': 727,\n",
       " 'intended': 2396,\n",
       " 'powerbook': 3482,\n",
       " '160': 53,\n",
       " 'maybe': 2843,\n",
       " 'bunch': 830,\n",
       " 'hopefully': 2221,\n",
       " 'somebody': 4181,\n",
       " 'answer': 460,\n",
       " 'does': 1512,\n",
       " 'anybody': 466,\n",
       " 'round': 3895,\n",
       " 'expected': 1721,\n",
       " 'heard': 2149,\n",
       " 'supposed': 4371,\n",
       " 'make': 2785,\n",
       " 'summer': 4357,\n",
       " 'anymore': 467,\n",
       " 'don': 1520,\n",
       " 'access': 313,\n",
       " 'price': 3515,\n",
       " 'line': 2681,\n",
       " 'like': 2673,\n",
       " 'ones': 3206,\n",
       " 'duo': 1562,\n",
       " 'just': 2516,\n",
       " 'went': 4867,\n",
       " 'recently': 3720,\n",
       " 'impression': 2316,\n",
       " 'display': 1489,\n",
       " 'probably': 3537,\n",
       " 'got': 2033,\n",
       " '120': 34,\n",
       " 'feel': 1808,\n",
       " 'better': 706,\n",
       " 'looks': 2726,\n",
       " 'great': 2054,\n",
       " 'store': 4301,\n",
       " 'wow': 4938,\n",
       " 'good': 2029,\n",
       " 'opinions': 3220,\n",
       " 'people': 3344,\n",
       " 'use': 4699,\n",
       " 'worth': 4934,\n",
       " 'taking': 4411,\n",
       " 'size': 4142,\n",
       " 'money': 2972,\n",
       " 'hit': 2188,\n",
       " 'active': 332,\n",
       " 'realize': 3703,\n",
       " 'real': 3701,\n",
       " 'subjective': 4332,\n",
       " 'question': 3637,\n",
       " 've': 4751,\n",
       " 'played': 3425,\n",
       " 'machines': 2764,\n",
       " 'figured': 1826,\n",
       " 'actually': 337,\n",
       " 'uses': 4707,\n",
       " 'daily': 1321,\n",
       " 'prove': 3584,\n",
       " 'helpful': 2164,\n",
       " 'perform': 3349,\n",
       " 'advance': 358,\n",
       " 'email': 1619,\n",
       " 'll': 2705,\n",
       " 'post': 3470,\n",
       " 'news': 3089,\n",
       " 'reading': 3696,\n",
       " 'time': 4529,\n",
       " 'finals': 1837,\n",
       " 'corner': 1226,\n",
       " 'tom': 4548,\n",
       " 'electrical': 1612,\n",
       " 'dangerous': 1329,\n",
       " 'truth': 4599,\n",
       " 'lies': 2669,\n",
       " 'joe': 2484,\n",
       " 'green': 2061,\n",
       " 'harris': 2127,\n",
       " 'systems': 4404,\n",
       " 'division': 1497,\n",
       " '14': 44,\n",
       " 'world': 4928,\n",
       " 'ssd': 4240,\n",
       " 'csd': 1286,\n",
       " 'com': 1082,\n",
       " 'newsreader': 3095,\n",
       " 'tin': 4534,\n",
       " 'version': 4761,\n",
       " 'pl9': 3404,\n",
       " 'robert': 3870,\n",
       " 'rob': 3869,\n",
       " 'uucp': 4721,\n",
       " 'wrote': 4949,\n",
       " 'iastate': 2261,\n",
       " 'writes': 4944,\n",
       " 'graphics': 2050,\n",
       " 'chip': 988,\n",
       " 'far': 1785,\n",
       " 'low': 2742,\n",
       " 'level': 2648,\n",
       " 'stuff': 4325,\n",
       " 'goes': 2023,\n",
       " 'pretty': 3510,\n",
       " 'nice': 3100,\n",
       " 'command': 1090,\n",
       " 'requires': 3807,\n",
       " 'points': 3445,\n",
       " 'address': 348,\n",
       " 'phone': 3374,\n",
       " 'information': 2355,\n",
       " 'corporation': 1229,\n",
       " 'person': 3357,\n",
       " 'sense': 4037,\n",
       " 'humor': 2248,\n",
       " 'jonathan': 2492,\n",
       " 'head': 2142,\n",
       " 'harvard': 2130,\n",
       " 'shuttle': 4105,\n",
       " 'launch': 2599,\n",
       " 'observatory': 3167,\n",
       " 'cambridge': 872,\n",
       " 'ma': 2761,\n",
       " 'sci': 3974,\n",
       " '23': 114,\n",
       " 'std': 4275,\n",
       " 'baker': 635,\n",
       " 'cs': 1284,\n",
       " 'cmu': 1061,\n",
       " 'pack': 3277,\n",
       " 'clear': 1040,\n",
       " 'warning': 4832,\n",
       " 'memory': 2877,\n",
       " 'errors': 1670,\n",
       " 'error': 1669,\n",
       " 'sorry': 4186,\n",
       " 'dumb': 1561,\n",
       " 'previously': 3514,\n",
       " 'known': 2566,\n",
       " 'conditions': 1148,\n",
       " 'yes': 4980,\n",
       " 'knew': 2561,\n",
       " 'curious': 1298,\n",
       " 'meaning': 2855,\n",
       " 'quote': 3645,\n",
       " 'understanding': 4663,\n",
       " 'basically': 654,\n",
       " 'bugs': 823,\n",
       " 'software': 4171,\n",
       " 'things': 4501,\n",
       " 'checked': 975,\n",
       " 'right': 3852,\n",
       " 'values': 4740,\n",
       " 'aren': 508,\n",
       " 'set': 4060,\n",
       " 'till': 4527,\n",
       " 'fix': 1854,\n",
       " 'code': 1066,\n",
       " 'possibly': 3469,\n",
       " 'tell': 4462,\n",
       " 'crew': 1269,\n",
       " 'ok': 3197,\n",
       " 'ignore': 2285,\n",
       " 'fi': 1818,\n",
       " 'douglas': 1530,\n",
       " 'second': 4006,\n",
       " 'amendment': 426,\n",
       " 'ideas': 2273,\n",
       " '58': 201,\n",
       " '4t': 185,\n",
       " 'transfer': 4579,\n",
       " 'stratus': 4308,\n",
       " 'cdt': 934,\n",
       " 'sw': 4388,\n",
       " 'tavares': 4432,\n",
       " '1993apr20': 86,\n",
       " 'oulu': 3259,\n",
       " 'ulowell': 4648,\n",
       " 'john': 2486,\n",
       " 'lawrence': 2603,\n",
       " 'massive': 2827,\n",
       " 'power': 3481,\n",
       " 'modern': 2963,\n",
       " 'weapons': 4853,\n",
       " 'makes': 2786,\n",
       " 'cost': 1233,\n",
       " 'mass': 2824,\n",
       " 'destruction': 1426,\n",
       " 'need': 3071,\n",
       " 'control': 1198,\n",
       " 'government': 2036,\n",
       " 'individual': 2343,\n",
       " 'result': 3826,\n",
       " 'deaths': 1361,\n",
       " 'millions': 2920,\n",
       " 'bear': 669,\n",
       " 'non': 3113,\n",
       " 'coming': 1088,\n",
       " 'say': 3960,\n",
       " 'disagree': 1474,\n",
       " 'count': 1237,\n",
       " 'believe': 688,\n",
       " 'individuals': 2344,\n",
       " 'hard': 2121,\n",
       " 'support': 4366,\n",
       " 'neighbor': 3075,\n",
       " 'nuclear': 3143,\n",
       " 'gas': 1961,\n",
       " 'property': 3572,\n",
       " 'agree': 377,\n",
       " 'keeping': 2528,\n",
       " 'hands': 2112,\n",
       " 'hope': 2220,\n",
       " 'sign': 4111,\n",
       " 'course': 1243,\n",
       " 'term': 4471,\n",
       " 'defined': 1381,\n",
       " 'doug': 1529,\n",
       " 'says': 3962,\n",
       " 'means': 2856,\n",
       " 'street': 4310,\n",
       " 'semi': 4029,\n",
       " 'automatic': 595,\n",
       " 'doubt': 1528,\n",
       " 'using': 4708,\n",
       " 'immediately': 2303,\n",
       " 'follows': 1878,\n",
       " 'thousands': 4511,\n",
       " 'killed': 2546,\n",
       " 'year': 4977,\n",
       " 'handguns': 2107,\n",
       " 'easily': 1573,\n",
       " 'reduced': 3731,\n",
       " 'putting': 3621,\n",
       " 'reasonable': 3708,\n",
       " 'restrictions': 3825,\n",
       " 'mean': 2854,\n",
       " 'read': 3692,\n",
       " 'argument': 515,\n",
       " 'commonly': 1101,\n",
       " 'understood': 4664,\n",
       " 'switching': 4395,\n",
       " 'topics': 4558,\n",
       " 'point': 3440,\n",
       " 'allowed': 412,\n",
       " 'later': 2596,\n",
       " 'analysis': 437,\n",
       " 'given': 2003,\n",
       " 'consider': 1167,\n",
       " 'class': 1034,\n",
       " 'rocket': 3877,\n",
       " 'speak': 4204,\n",
       " 'company': 1108,\n",
       " 'write': 4942,\n",
       " 'today': 4545,\n",
       " 'special': 4209,\n",
       " 'packet': 3281,\n",
       " 'uchicago': 4630,\n",
       " 'brian': 798,\n",
       " 'brain': 786,\n",
       " 'treatment': 4585,\n",
       " 'reply': 3791,\n",
       " 'midway': 2910,\n",
       " 'chicago': 983,\n",
       " '12': 33,\n",
       " 'responded': 3817,\n",
       " 'request': 3801,\n",
       " 'couldn': 1235,\n",
       " 'thank': 4491,\n",
       " 'directly': 1469,\n",
       " 'sean': 3998,\n",
       " 'thought': 4508,\n",
       " 'publicly': 3601,\n",
       " 'sure': 4374,\n",
       " 'glad': 2010,\n",
       " 'instead': 2381,\n",
       " 'rm': 3866,\n",
       " 'trying': 4603,\n",
       " 'file': 1829,\n",
       " 'hmmm': 2197,\n",
       " 'nmsu': 3110,\n",
       " 'ide': 2270,\n",
       " 'vs': 4807,\n",
       " 'scsi': 3993,\n",
       " 'mexico': 2896,\n",
       " 'state': 4263,\n",
       " 'nm': 3109,\n",
       " '44': 176,\n",
       " 'psuvm': 3593,\n",
       " 'psu': 3592,\n",
       " 'pc': 3333,\n",
       " 'magazine': 2770,\n",
       " 'april': 497,\n",
       " '27': 125,\n",
       " '1993': 77,\n",
       " '29': 129,\n",
       " 'twice': 4619,\n",
       " 'esdi': 1674,\n",
       " '20': 100,\n",
       " 'faster': 1788,\n",
       " 'devices': 1442,\n",
       " 'acceptance': 310,\n",
       " 'long': 2721,\n",
       " 'problems': 3540,\n",
       " 'installation': 2377,\n",
       " 'love': 2739,\n",
       " 'stupid': 4326,\n",
       " 'statements': 4266,\n",
       " 'performance': 3350,\n",
       " 'numbers': 3146,\n",
       " 'list': 2688,\n",
       " 'actual': 336,\n",
       " 'convince': 1211,\n",
       " 'statement': 4265,\n",
       " 'ii': 2288,\n",
       " 'standard': 4248,\n",
       " 'versions': 4762,\n",
       " 'shows': 4103,\n",
       " 'range': 3674,\n",
       " 'controller': 1200,\n",
       " 'burst': 836,\n",
       " 'note': 3126,\n",
       " 'increase': 2330,\n",
       " 'quadra': 3631,\n",
       " 'exist': 1713,\n",
       " 'mode': 2958,\n",
       " '16': 52,\n",
       " 'wide': 4874,\n",
       " 'fast': 1787,\n",
       " '32': 149,\n",
       " 'data': 1336,\n",
       " 'correct': 1230,\n",
       " 'reach': 3689,\n",
       " '96': 271,\n",
       " 'facts': 1764,\n",
       " 'posted': 3471,\n",
       " 'newsgroup': 3090,\n",
       " 'ibm': 2262,\n",
       " 'sheet': 4084,\n",
       " 'available': 601,\n",
       " 'ftp': 1933,\n",
       " 'stanford': 4253,\n",
       " 'report': 3792,\n",
       " 'compare': 1110,\n",
       " 'problem': 3539,\n",
       " 'apple': 481,\n",
       " 'said': 3935,\n",
       " 'maximum': 2841,\n",
       " 'slower': 4158,\n",
       " 'interface': 2403,\n",
       " 'think': 4502,\n",
       " 'driven': 1544,\n",
       " 'true': 4596,\n",
       " 'understand': 4662,\n",
       " 'going': 2024,\n",
       " 'reference': 3734,\n",
       " 'digital': 1464,\n",
       " 'review': 3836,\n",
       " '21': 106,\n",
       " '1991': 75,\n",
       " 'uni': 4666,\n",
       " 'win': 4886,\n",
       " 'icon': 2266,\n",
       " 'help': 2162,\n",
       " 'northern': 3122,\n",
       " 'iowa': 2422,\n",
       " '10': 19,\n",
       " 'bmp': 747,\n",
       " 'figure': 1825,\n",
       " 'change': 956,\n",
       " 'appreciated': 488,\n",
       " 'thanx': 4493,\n",
       " 'ps': 3591,\n",
       " 'cso': 1288,\n",
       " 'uiuc': 4645,\n",
       " 'stan': 4246,\n",
       " 'designs': 1418,\n",
       " 'double': 1527,\n",
       " 'illinois': 2294,\n",
       " 'urbana': 4695,\n",
       " 'po': 3438,\n",
       " 'cwru': 1311,\n",
       " 'joseph': 2496,\n",
       " 'board': 751,\n",
       " 'hardware': 2124,\n",
       " 'compression': 1130,\n",
       " 'works': 4925,\n",
       " 'work': 4921,\n",
       " 'technologies': 4451,\n",
       " 'owners': 3267,\n",
       " 'technology': 4452,\n",
       " 'writing': 4945,\n",
       " 'lost': 2734,\n",
       " 'wrong': 4948,\n",
       " 'fault': 1792,\n",
       " 'usually': 4711,\n",
       " 'mentioned': 2881,\n",
       " 'expansion': 1719,\n",
       " 'utility': 4716,\n",
       " 'compressed': 1129,\n",
       " 'unless': 4679,\n",
       " 'installed': 2378,\n",
       " 'product': 3551,\n",
       " 'unlikely': 4681,\n",
       " 'holes': 2204,\n",
       " 'related': 3759,\n",
       " 'fixed': 1855,\n",
       " 'sad': 3931,\n",
       " 'buy': 842,\n",
       " 'hey': 2173,\n",
       " 'competition': 1115,\n",
       " 'computing': 1135,\n",
       " 'communications': 1103,\n",
       " 'services': 4058,\n",
       " 'office': 3185,\n",
       " '333': 152,\n",
       " 'lonestar': 2720,\n",
       " 'org': 3238,\n",
       " 'expires': 1731,\n",
       " 'sat': 3949,\n",
       " '05': 7,\n",
       " '00': 0,\n",
       " 'gmt': 2015,\n",
       " 'richardson': 3845,\n",
       " 'tx': 4620,\n",
       " '13': 40,\n",
       " 'runs': 3913,\n",
       " 'paint': 3287,\n",
       " 'brown': 810,\n",
       " 'oil': 3194,\n",
       " '1st': 98,\n",
       " 'shop': 4095,\n",
       " 'sold': 4174,\n",
       " 'bike': 718,\n",
       " 'owner': 3266,\n",
       " 'want': 4827,\n",
       " 'thinking': 4503,\n",
       " 'stable': 4242,\n",
       " 'dod': 1510,\n",
       " 'david': 1342,\n",
       " 'ericsson': 1667,\n",
       " 'se': 3996,\n",
       " 'popular': 3457,\n",
       " 'morality': 2982,\n",
       " 'electronics': 1614,\n",
       " 'england': 1642,\n",
       " '77': 239,\n",
       " 'freenet': 1922,\n",
       " 'carleton': 903,\n",
       " 'ca': 853,\n",
       " 'james': 2456,\n",
       " 'previous': 3513,\n",
       " 'hold': 2200,\n",
       " 'end': 1629,\n",
       " 'different': 1459,\n",
       " 'stick': 4292,\n",
       " 'look': 2723,\n",
       " 'intent': 2397,\n",
       " 'moral': 2981,\n",
       " 'god': 2021,\n",
       " 'main': 2778,\n",
       " 'saying': 3961,\n",
       " 'jew': 2474,\n",
       " 'jewish': 2475,\n",
       " 'jews': 2476,\n",
       " 'case': 913,\n",
       " 'follow': 1874,\n",
       " 'mankind': 2798,\n",
       " 'decide': 1367,\n",
       " 'fall': 1772,\n",
       " 'believed': 689,\n",
       " 'required': 3804,\n",
       " 'interpretation': 2410,\n",
       " 'lead': 2614,\n",
       " 'biblical': 714,\n",
       " 'man': 2791,\n",
       " 'christian': 998,\n",
       " 'necessarily': 3068,\n",
       " 'indicate': 2339,\n",
       " 'outside': 3263,\n",
       " 'relationship': 3761,\n",
       " 'comes': 1086,\n",
       " 'mind': 2923,\n",
       " 'created': 1264,\n",
       " 'image': 2296,\n",
       " 'committed': 1098,\n",
       " 'live': 2697,\n",
       " 'christ': 997,\n",
       " 'example': 1703,\n",
       " 'argue': 513,\n",
       " 'kind': 2548,\n",
       " 'trouble': 4594,\n",
       " 'come': 1085,\n",
       " 'conclusion': 1145,\n",
       " 'wants': 4829,\n",
       " 'foundation': 1904,\n",
       " 'mix': 2950,\n",
       " 'living': 2701,\n",
       " 'little': 2696,\n",
       " 'jesus': 2471,\n",
       " 'followers': 1876,\n",
       " 'references': 3735,\n",
       " 'revelation': 3834,\n",
       " 'aside': 536,\n",
       " 'hand': 2104,\n",
       " 'worse': 4931,\n",
       " 'attempt': 577,\n",
       " 'christianity': 999,\n",
       " 'bible': 713,\n",
       " 'interpret': 2409,\n",
       " 'humanity': 2246,\n",
       " 'guess': 2081,\n",
       " 'faith': 1771,\n",
       " 'inherent': 2360,\n",
       " 'multiple': 3023,\n",
       " 'codes': 1067,\n",
       " 'absolute': 299,\n",
       " 'founded': 1905,\n",
       " 'parent': 3300,\n",
       " 'child': 985,\n",
       " 'assume': 553,\n",
       " 'simply': 4130,\n",
       " 'told': 4547,\n",
       " 'pub': 3598,\n",
       " 'bar': 646,\n",
       " 'children': 986,\n",
       " 'quite': 3644,\n",
       " 'happy': 2119,\n",
       " 'animals': 448,\n",
       " 'analogy': 436,\n",
       " 'water': 4843,\n",
       " 'knows': 2567,\n",
       " 'type': 4621,\n",
       " 'young': 4984,\n",
       " 'gets': 1992,\n",
       " 'older': 3203,\n",
       " 'religion': 3769,\n",
       " 'oh': 3191,\n",
       " 'sea': 3997,\n",
       " 'fc': 1798,\n",
       " 'hp': 2236,\n",
       " 'rod': 3880,\n",
       " 'hewlett': 2172,\n",
       " 'packard': 3280,\n",
       " 'fort': 1900,\n",
       " 'collins': 1073,\n",
       " 'pl8': 3403,\n",
       " 'regards': 3746,\n",
       " 'ms': 3014,\n",
       " '37': 158,\n",
       " 'east': 1574,\n",
       " 'rd': 3688,\n",
       " '__': 280,\n",
       " 'lerc': 2642,\n",
       " 'nasa': 3045,\n",
       " 'gov': 2035,\n",
       " 'space': 4199,\n",
       " 'station': 4269,\n",
       " 'jsc': 2503,\n",
       " 'alternative': 419,\n",
       " 'lewis': 2651,\n",
       " 'research': 3808,\n",
       " 'center': 939,\n",
       " 'cleveland': 1042,\n",
       " 'ohio': 3193,\n",
       " '102': 23,\n",
       " 'vax': 4750,\n",
       " 'vms': 4796,\n",
       " 'vnews': 4798,\n",
       " '41': 172,\n",
       " 'description': 1414,\n",
       " 'external': 1748,\n",
       " 'tank': 4419,\n",
       " 'option': 3227,\n",
       " 'deleted': 1387,\n",
       " 'mark': 2813,\n",
       " 'proposed': 3576,\n",
       " 'design': 1416,\n",
       " 'committee': 1099,\n",
       " 'crystal': 1283,\n",
       " 'city': 1019,\n",
       " 'received': 3716,\n",
       " 'hear': 2148,\n",
       " 'based': 651,\n",
       " 'likely': 2675,\n",
       " 'ken': 2532,\n",
       " 'let': 2643,\n",
       " 'options': 3229,\n",
       " 'edition': 1589,\n",
       " 'york': 4983,\n",
       " 'times': 4531,\n",
       " 'panel': 3293,\n",
       " 'dropped': 1550,\n",
       " 'fuel': 1934,\n",
       " 'tanks': 4420,\n",
       " 'used': 4700,\n",
       " 'building': 825,\n",
       " 'existing': 1716,\n",
       " 'wings': 4891,\n",
       " 'removed': 3781,\n",
       " 'currently': 1300,\n",
       " 'considered': 1169,\n",
       " 'presented': 3505,\n",
       " 'meeting': 2867,\n",
       " 'yesterday': 4981,\n",
       " 'reported': 3793,\n",
       " 'approach': 490,\n",
       " 'team': 4444,\n",
       " 'teams': 4445,\n",
       " 'larc': 2588,\n",
       " 'supporting': 4368,\n",
       " 'site': 4137,\n",
       " 'helping': 2165,\n",
       " 'activities': 333,\n",
       " 'key': 2537,\n",
       " 'features': 1801,\n",
       " 'bus': 837,\n",
       " 'developed': 1438,\n",
       " 'lockheed': 2713,\n",
       " 'provides': 3589,\n",
       " 'propulsion': 3577,\n",
       " 'management': 2794,\n",
       " 'air': 389,\n",
       " 'force': 1885,\n",
       " 'capability': 888,\n",
       " 'obtained': 3170,\n",
       " 'solar': 4173,\n",
       " 'provide': 3587,\n",
       " 'vehicle': 4753,\n",
       " 'environment': 1656,\n",
       " 'missions': 2943,\n",
       " 'source': 4192,\n",
       " '30': 141,\n",
       " 'human': 2245,\n",
       " 'opposed': 3223,\n",
       " 'old': 3202,\n",
       " 'common': 1100,\n",
       " 'module': 2967,\n",
       " 'modified': 2965,\n",
       " 'lab': 2575,\n",
       " 'ports': 3463,\n",
       " 'added': 344,\n",
       " 'international': 2407,\n",
       " 'partners': 3308,\n",
       " 'labs': 2579,\n",
       " 'place': 3405,\n",
       " '60': 204,\n",
       " 'permanent': 3353,\n",
       " 'presence': 3503,\n",
       " '3rd': 166,\n",
       " 'return': 3830,\n",
       " 'freedom': 1919,\n",
       " 'mike': 2911,\n",
       " 'alot': 416,\n",
       " 'assembly': 545,\n",
       " '51': 192,\n",
       " 'orbit': 3231,\n",
       " 'build': 824,\n",
       " 'occurs': 3177,\n",
       " 'initial': 2362,\n",
       " 'reached': 3690,\n",
       " 'language': 2587,\n",
       " 'supply': 4365,\n",
       " '2nd': 134,\n",
       " 'finish': 1842,\n",
       " '24': 116,\n",
       " 'exception': 1706,\n",
       " 'major': 2783,\n",
       " 'changes': 958,\n",
       " 'single': 4132,\n",
       " 'core': 1223,\n",
       " 'ft': 1932,\n",
       " 'cylinder': 1314,\n",
       " '92': 267,\n",
       " 'engines': 1641,\n",
       " 'nose': 3125,\n",
       " 'attached': 572,\n",
       " 'regular': 3752,\n",
       " 'solid': 4176,\n",
       " 'complete': 1121,\n",
       " 'ground': 2068,\n",
       " 'mounted': 3001,\n",
       " 'protection': 3581,\n",
       " 'orbital': 3232,\n",
       " 'centerline': 940,\n",
       " 'volume': 4803,\n",
       " 'approximately': 494,\n",
       " '26': 124,\n",
       " '000': 1,\n",
       " 'feet': 1812,\n",
       " 'channels': 961,\n",
       " 'dual': 1559,\n",
       " 'environmental': 1657,\n",
       " 'increased': 2331,\n",
       " 'micro': 2905,\n",
       " 'acsu': 327,\n",
       " 'buffalo': 820,\n",
       " 'lee': 2631,\n",
       " 'moving': 3009,\n",
       " 'sale': 3939,\n",
       " 'ub': 4627,\n",
       " 'prices': 3516,\n",
       " 'forsale': 1899,\n",
       " 'brother': 807,\n",
       " 'moved': 3005,\n",
       " 'offer': 3182,\n",
       " 'black': 734,\n",
       " 'portable': 3460,\n",
       " 'purchased': 3611,\n",
       " '1000': 21,\n",
       " 'player': 3426,\n",
       " 'fm': 1870,\n",
       " 'band': 642,\n",
       " 'high': 2179,\n",
       " 'tape': 4422,\n",
       " 'sound': 4190,\n",
       " 'bet': 704,\n",
       " '80': 248,\n",
       " '25': 120,\n",
       " 'japan': 2459,\n",
       " 'includes': 2325,\n",
       " '50': 188,\n",
       " 'hair': 2095,\n",
       " 'ask': 537,\n",
       " 'bag': 634,\n",
       " 'brand': 790,\n",
       " 'speeds': 4220,\n",
       " 'extra': 1749,\n",
       " 'angle': 445,\n",
       " 'dry': 1554,\n",
       " 'contact': 1179,\n",
       " 'included': 2324,\n",
       " 'mathew': 2835,\n",
       " 'mantis': 2800,\n",
       " 'uk': 4646,\n",
       " 'political': 3449,\n",
       " 'atheists': 563,\n",
       " 'v1': 4732,\n",
       " '01': 2,\n",
       " '22': 111,\n",
       " 'kmr4': 2559,\n",
       " 'keith': 2530,\n",
       " 'ryan': 3922,\n",
       " 'immediate': 2302,\n",
       " 'method': 2892,\n",
       " 'death': 1360,\n",
       " 'insert': 2373,\n",
       " 'form': 1894,\n",
       " 'ethnic': 1685,\n",
       " 'minority': 2933,\n",
       " 'groups': 2072,\n",
       " 'unusual': 4684,\n",
       " 'constitution': 1174,\n",
       " 'punishment': 3609,\n",
       " 'trial': 4587,\n",
       " 'standards': 4249,\n",
       " 'happened': 2116,\n",
       " 'japanese': 2460,\n",
       " 'citizens': 1018,\n",
       " 'war': 4830,\n",
       " 'prepared': 3502,\n",
       " 'camp': 875,\n",
       " 'short': 4096,\n",
       " 'step': 4282,\n",
       " 'nazis': 3055,\n",
       " 'originally': 3246,\n",
       " 'solution': 4178,\n",
       " 'afford': 368,\n",
       " 'run': 3911,\n",
       " 'caused': 923,\n",
       " 'total': 4561,\n",
       " 'weren': 4868,\n",
       " 'generally': 1976,\n",
       " 'died': 1454,\n",
       " 'disease': 1485,\n",
       " 'ab': 293,\n",
       " 'nova': 3132,\n",
       " 'cc': 927,\n",
       " 'allen': 409,\n",
       " 'tiff': 4526,\n",
       " 'significance': 4116,\n",
       " '42': 174,\n",
       " '39': 161,\n",
       " 'ac': 303,\n",
       " 'martin': 2820,\n",
       " 'pd': 3334,\n",
       " 'library': 2664,\n",
       " 'files': 1831,\n",
       " 'took': 4553,\n",
       " 'minutes': 2935,\n",
       " 'start': 4257,\n",
       " 'app': 474,\n",
       " 'certainly': 948,\n",
       " 'led': 2630,\n",
       " 'programs': 3560,\n",
       " 'poor': 3454,\n",
       " 'making': 2787,\n",
       " 'load': 2707,\n",
       " 'images': 2297,\n",
       " 'save': 3955,\n",
       " 'general': 1975,\n",
       " 'despite': 1423,\n",
       " 'fact': 1760,\n",
       " 'worried': 4929,\n",
       " 'big': 715,\n",
       " 'abuse': 302,\n",
       " 'format': 1895,\n",
       " 'words': 4920,\n",
       " 'spec': 4208,\n",
       " 'page': 3283,\n",
       " 'emphasis': 1621,\n",
       " 'sort': 4187,\n",
       " 'success': 4337,\n",
       " 'designed': 1417,\n",
       " 'powerful': 3484,\n",
       " 'expense': 1722,\n",
       " 'takes': 4410,\n",
       " 'effort': 1604,\n",
       " 'handle': 2109,\n",
       " 'specification': 4213,\n",
       " 'application': 482,\n",
       " 'job': 2481,\n",
       " 'able': 297,\n",
       " 'applications': 483,\n",
       " 'program': 3557,\n",
       " 'won': 4914,\n",
       " 'deal': 1353,\n",
       " 'reasoning': 3710,\n",
       " 'vm': 4795,\n",
       " 'kevin': 2536,\n",
       " 'insurance': 2387,\n",
       " 'rates': 3680,\n",
       " 'cars': 910,\n",
       " 'tech': 4447,\n",
       " 'asking': 539,\n",
       " 'male': 2789,\n",
       " 'drivers': 1546,\n",
       " 'paying': 3332,\n",
       " 'replies': 3790,\n",
       " 'close': 1053,\n",
       " '1992': 76,\n",
       " 'dodge': 1511,\n",
       " 'stealth': 4277,\n",
       " 'rt': 3905,\n",
       " 'turbo': 4609,\n",
       " 'tickets': 4523,\n",
       " 'accidents': 315,\n",
       " 'house': 2232,\n",
       " 'taken': 4409,\n",
       " 'defensive': 1378,\n",
       " 'driving': 1548,\n",
       " 'security': 4015,\n",
       " '500': 189,\n",
       " 'farm': 1786,\n",
       " 'additional': 347,\n",
       " '100': 20,\n",
       " 'policy': 3448,\n",
       " '300': 142,\n",
       " 'bought': 775,\n",
       " 'accident': 314,\n",
       " 'ticket': 4522,\n",
       " 'quoted': 3646,\n",
       " 'helps': 2166,\n",
       " 'steve': 4287,\n",
       " '45': 177,\n",
       " 'correctly': 1232,\n",
       " 'asked': 538,\n",
       " 'similar': 4124,\n",
       " 'situation': 4140,\n",
       " 'age': 370,\n",
       " 'record': 3726,\n",
       " 'clean': 1039,\n",
       " 'turn': 4613,\n",
       " 'higher': 2180,\n",
       " 'rate': 3678,\n",
       " 'couple': 1242,\n",
       " 'friends': 1930,\n",
       " 'pay': 3331,\n",
       " 'ins': 2371,\n",
       " 'companies': 1107,\n",
       " 'lucky': 2746,\n",
       " 'dan': 1327,\n",
       " 'mot': 2989,\n",
       " 'motorola': 2997,\n",
       " 'cellular': 938,\n",
       " 'group': 2071,\n",
       " '38': 159,\n",
       " 'norman': 3118,\n",
       " 'oklahoma': 3200,\n",
       " 'drive': 1543,\n",
       " '89': 259,\n",
       " 'sc': 3964,\n",
       " 'claim': 1026,\n",
       " 'stop': 4297,\n",
       " ...}"
      ]
     },
     "execution_count": 21,
     "metadata": {},
     "output_type": "execute_result"
    }
   ],
   "source": [
    "processor.vocabulary_"
   ]
  },
  {
   "cell_type": "markdown",
   "metadata": {},
   "source": [
    "#### Now transform the texts\n",
    "\n",
    "Note that we fit a processor on training data only, because test data is used to estimate generalization performance on *future* data that we have not seen.\n",
    "\n",
    "Transformations are done with the same processor on both training and test sets. "
   ]
  },
  {
   "cell_type": "code",
   "execution_count": 22,
   "metadata": {
    "collapsed": true
   },
   "outputs": [],
   "source": [
    "X_train = processor.transform(Text_train)\n",
    "X_test = processor.transform(Text_test)"
   ]
  },
  {
   "cell_type": "code",
   "execution_count": 23,
   "metadata": {},
   "outputs": [
    {
     "data": {
      "text/plain": [
       "<11314x5000 sparse matrix of type '<class 'numpy.int64'>'\n",
       "\twith 874806 stored elements in Compressed Sparse Row format>"
      ]
     },
     "execution_count": 23,
     "metadata": {},
     "output_type": "execute_result"
    }
   ],
   "source": [
    "X_train"
   ]
  },
  {
   "cell_type": "markdown",
   "metadata": {},
   "source": [
    "#### Let's check one data sample"
   ]
  },
  {
   "cell_type": "code",
   "execution_count": 24,
   "metadata": {
    "scrolled": true
   },
   "outputs": [
    {
     "data": {
      "text/plain": [
       "\"From: lerxst@wam.umd.edu (where's my thing)\\nSubject: WHAT car is this!?\\nNntp-Posting-Host: rac3.wam.umd.edu\\nOrganization: University of Maryland, College Park\\nLines: 15\\n\\n I was wondering if anyone out there could enlighten me on this car I saw\\nthe other day. It was a 2-door sports car, looked to be from the late 60s/\\nearly 70s. It was called a Bricklin. The doors were really small. In addition,\\nthe front bumper was separate from the rest of the body. This is \\nall I know. If anyone can tellme a model name, engine specs, years\\nof production, where this car is made, history, or whatever info you\\nhave on this funky looking car, please e-mail.\\n\\nThanks,\\n- IL\\n   ---- brought to you by your neighborhood Lerxst ----\\n\\n\\n\\n\\n\""
      ]
     },
     "execution_count": 24,
     "metadata": {},
     "output_type": "execute_result"
    }
   ],
   "source": [
    "Text_train[0]"
   ]
  },
  {
   "cell_type": "markdown",
   "metadata": {},
   "source": [
    "#### Sparse matrix\n",
    "\n",
    "Sparse matrix stores only non-zero elements. Our *Compressed Sparse Row* matrix stores values, positions of values, and a total number of values in one row/column."
   ]
  },
  {
   "cell_type": "code",
   "execution_count": 25,
   "metadata": {},
   "outputs": [
    {
     "data": {
      "text/plain": [
       "array([1, 1, 1, 1, 1, 5, 1, 1, 1, 1, 1, 2, 1, 1, 1, 1, 1, 1, 1, 1, 1, 1, 1,\n",
       "       1, 1, 1, 1, 1, 1, 1, 1, 1, 1, 1, 1, 1, 1, 1, 1, 1, 2, 1, 2, 1, 1])"
      ]
     },
     "execution_count": 25,
     "metadata": {},
     "output_type": "execute_result"
    }
   ],
   "source": [
    "x1 = X_train[0]\n",
    "x1.data"
   ]
  },
  {
   "cell_type": "code",
   "execution_count": 26,
   "metadata": {},
   "outputs": [
    {
     "data": {
      "text/plain": [
       "array([  50,  346,  757,  809,  864,  894, 1072, 1346, 1523, 1524, 1570,\n",
       "       1594, 1638, 2187, 2228, 2291, 2353, 2563, 2595, 2683, 2724, 2725,\n",
       "       2775, 2822, 2959, 3111, 3239, 3302, 3474, 3552, 3705, 3823, 3959,\n",
       "       4044, 4159, 4216, 4231, 4331, 4492, 4500, 4656, 4676, 4826, 4917,\n",
       "       4978], dtype=int32)"
      ]
     },
     "execution_count": 26,
     "metadata": {},
     "output_type": "execute_result"
    }
   ],
   "source": [
    "x1.indices"
   ]
  },
  {
   "cell_type": "code",
   "execution_count": 27,
   "metadata": {},
   "outputs": [
    {
     "data": {
      "text/plain": [
       "array([ 0, 45], dtype=int32)"
      ]
     },
     "execution_count": 27,
     "metadata": {},
     "output_type": "execute_result"
    }
   ],
   "source": [
    "x1.indptr"
   ]
  },
  {
   "cell_type": "markdown",
   "metadata": {},
   "source": [
    "#### What is that most common word with 5 occurrences, at index 894?"
   ]
  },
  {
   "cell_type": "code",
   "execution_count": 28,
   "metadata": {},
   "outputs": [
    {
     "name": "stdout",
     "output_type": "stream",
     "text": [
      "car 894\n"
     ]
    }
   ],
   "source": [
    "for a,b in processor.vocabulary_.items():\n",
    "    if b == 894:\n",
    "        print(a,b)"
   ]
  },
  {
   "cell_type": "markdown",
   "metadata": {},
   "source": [
    "## Convert sparse matrix to dense\n",
    "\n",
    "We can convert sparse matrix to dense, if there is enough memory. Check memory beforehand from the size of a sparse matrix.\n",
    "\n",
    "Many methods work directly with sparse matrices. Only convert sparse matrix to dense if really needed."
   ]
  },
  {
   "cell_type": "code",
   "execution_count": 29,
   "metadata": {},
   "outputs": [
    {
     "data": {
      "text/plain": [
       "<11314x5000 sparse matrix of type '<class 'numpy.int64'>'\n",
       "\twith 874806 stored elements in Compressed Sparse Row format>"
      ]
     },
     "execution_count": 29,
     "metadata": {},
     "output_type": "execute_result"
    }
   ],
   "source": [
    "X_train"
   ]
  },
  {
   "cell_type": "code",
   "execution_count": 30,
   "metadata": {},
   "outputs": [
    {
     "name": "stdout",
     "output_type": "stream",
     "text": [
      "Memory in GB:  0.42147934436798096\n"
     ]
    }
   ],
   "source": [
    "memory_bytes = 11314 * 5000 * 8  # int64 / 8 bits per byte = 8 bytes per number\n",
    "print('Memory in GB: ', memory_bytes / 2**30)"
   ]
  },
  {
   "cell_type": "code",
   "execution_count": 31,
   "metadata": {
    "collapsed": true
   },
   "outputs": [],
   "source": [
    "import numpy as np"
   ]
  },
  {
   "cell_type": "code",
   "execution_count": 32,
   "metadata": {
    "collapsed": true
   },
   "outputs": [],
   "source": [
    "D_train = np.array(X_train.todense())\n",
    "D_test = np.array(X_test.todense())"
   ]
  },
  {
   "cell_type": "markdown",
   "metadata": {},
   "source": [
    "### Altogether"
   ]
  },
  {
   "cell_type": "code",
   "execution_count": 1,
   "metadata": {
    "collapsed": true
   },
   "outputs": [],
   "source": [
    "from sklearn.datasets import fetch_20newsgroups\n",
    "from sklearn.feature_extraction.text import CountVectorizer\n",
    "import numpy as np"
   ]
  },
  {
   "cell_type": "code",
   "execution_count": 3,
   "metadata": {},
   "outputs": [],
   "source": [
    "news = fetch_20newsgroups(subset='train')\n",
    "Text_train = news.data\n",
    "Y_train = news.target\n",
    "\n",
    "news_test = fetch_20newsgroups(subset='test')\n",
    "Text_test = news_test.data\n",
    "Y_test = news_test.target"
   ]
  },
  {
   "cell_type": "code",
   "execution_count": 6,
   "metadata": {},
   "outputs": [
    {
     "data": {
      "text/plain": [
       "['alt.atheism',\n",
       " 'comp.graphics',\n",
       " 'comp.os.ms-windows.misc',\n",
       " 'comp.sys.ibm.pc.hardware',\n",
       " 'comp.sys.mac.hardware',\n",
       " 'comp.windows.x',\n",
       " 'misc.forsale',\n",
       " 'rec.autos',\n",
       " 'rec.motorcycles',\n",
       " 'rec.sport.baseball',\n",
       " 'rec.sport.hockey',\n",
       " 'sci.crypt',\n",
       " 'sci.electronics',\n",
       " 'sci.med',\n",
       " 'sci.space',\n",
       " 'soc.religion.christian',\n",
       " 'talk.politics.guns',\n",
       " 'talk.politics.mideast',\n",
       " 'talk.politics.misc',\n",
       " 'talk.religion.misc']"
      ]
     },
     "execution_count": 6,
     "metadata": {},
     "output_type": "execute_result"
    }
   ],
   "source": [
    "news.target_names"
   ]
  },
  {
   "cell_type": "code",
   "execution_count": 35,
   "metadata": {
    "collapsed": true
   },
   "outputs": [],
   "source": [
    "processor = CountVectorizer(max_features=5000, stop_words='english')\n",
    "processor.fit(Text_train)\n",
    "Sparse_train = processor.transform(Text_train)\n",
    "Sparse_test = processor.transform(Text_test)"
   ]
  },
  {
   "cell_type": "code",
   "execution_count": 36,
   "metadata": {
    "collapsed": true
   },
   "outputs": [],
   "source": [
    "X_train = np.array(Sparse_train.todense())\n",
    "X_test = np.array(Sparse_test.todense())"
   ]
  },
  {
   "cell_type": "code",
   "execution_count": 37,
   "metadata": {
    "collapsed": true
   },
   "outputs": [],
   "source": [
    "labels = news.target_names\n",
    "vocabulary = processor.vocabulary_"
   ]
  },
  {
   "cell_type": "markdown",
   "metadata": {},
   "source": [
    "#### Dataset with:\n",
    "\n",
    "X_train, X_test, Y_train, Y_test, labels, vocabulary"
   ]
  },
  {
   "cell_type": "code",
   "execution_count": null,
   "metadata": {
    "collapsed": true
   },
   "outputs": [],
   "source": []
  }
 ],
 "metadata": {
  "anaconda-cloud": {},
  "kernelspec": {
   "display_name": "Python 3",
   "language": "python",
   "name": "python3"
  },
  "language_info": {
   "codemirror_mode": {
    "name": "ipython",
    "version": 3
   },
   "file_extension": ".py",
   "mimetype": "text/x-python",
   "name": "python",
   "nbconvert_exporter": "python",
   "pygments_lexer": "ipython3",
   "version": "3.6.1"
  }
 },
 "nbformat": 4,
 "nbformat_minor": 1
}
