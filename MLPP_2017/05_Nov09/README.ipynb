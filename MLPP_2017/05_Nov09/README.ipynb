{
 "cells": [
  {
   "cell_type": "markdown",
   "metadata": {},
   "source": [
    "# Some extra info"
   ]
  },
  {
   "cell_type": "markdown",
   "metadata": {},
   "source": [
    "# More about backpropagation algorithm \n",
    "\n",
    "http://3b1b.co/neural-networks"
   ]
  },
  {
   "cell_type": "markdown",
   "metadata": {},
   "source": [
    "# Deep Learning book\n",
    "\n",
    "http://www.deeplearningbook.org/"
   ]
  },
  {
   "cell_type": "markdown",
   "metadata": {},
   "source": [
    "# More info about MXNet\n",
    "\n",
    "https://mxnet.incubator.apache.org/\n",
    "\n",
    "## for a local installation\n",
    "\n",
    "pip install mxnet --pre --user\n",
    "\n",
    "### if you have CUDA and a GPU available, you can use\n",
    "\n",
    "pip install mxnet-cu75 --pre --user  # for CUDA 7.5\n",
    "pip install mxnet-cu80 --pre --user  # for CUDA 8.0"
   ]
  },
  {
   "cell_type": "code",
   "execution_count": null,
   "metadata": {
    "collapsed": true
   },
   "outputs": [],
   "source": []
  }
 ],
 "metadata": {
  "kernelspec": {
   "display_name": "Python 3",
   "language": "python",
   "name": "python3"
  },
  "language_info": {
   "codemirror_mode": {
    "name": "ipython",
    "version": 3
   },
   "file_extension": ".py",
   "mimetype": "text/x-python",
   "name": "python",
   "nbconvert_exporter": "python",
   "pygments_lexer": "ipython3",
   "version": "3.6.2"
  }
 },
 "nbformat": 4,
 "nbformat_minor": 2
}
