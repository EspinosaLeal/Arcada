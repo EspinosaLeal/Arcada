{
 "cells": [
  {
   "cell_type": "markdown",
   "metadata": {},
   "source": [
    "# github repository\n",
    "\n",
    "https://github.com/EspinosaLeal/Arcada\n",
    "\n",
    "# Email\n",
    "\n",
    "leonardo.espinosaleal@arcada.fi\n",
    "\n",
    "# Homeworks\n",
    "\n",
    "Homeworks should be submitted in a jupyter notebook (python 2 or )\n",
    "\n",
    "# Additional lecture\n",
    "\n",
    "A Few Useful Things to Know about Machine Learning, by Pedro Domingos (in the repo, Reading directory)"
   ]
  }
 ],
 "metadata": {
  "kernelspec": {
   "display_name": "Python [conda env:py3k]",
   "language": "python",
   "name": "conda-env-py3k-py"
  },
  "language_info": {
   "codemirror_mode": {
    "name": "ipython",
    "version": 3
   },
   "file_extension": ".py",
   "mimetype": "text/x-python",
   "name": "python",
   "nbconvert_exporter": "python",
   "pygments_lexer": "ipython3",
   "version": "3.5.2"
  }
 },
 "nbformat": 4,
 "nbformat_minor": 2
}
