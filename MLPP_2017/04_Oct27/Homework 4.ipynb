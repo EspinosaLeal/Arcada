{
 "cells": [
  {
   "cell_type": "markdown",
   "metadata": {},
   "source": [
    "## Homework 4\n",
    "\n",
    "#### Parameter tuning the following tasks on 20 Newsgroups dataset\n",
    "1. Make a pipe from `CountVectorizer()` (see below) and any classifier method.\n",
    "2. Tune parameters of both `CountVectorizer()` and your classifier using grid search. Take 2 different parameters to tune, don't tune everything!\n",
    "3. Print a search grid from `grid_search.cv_results_` for these two parameters. See the book or lecture slides for details.\n",
    "4. Report accuracy and runtime with default parameters, and with your tuned parameters."
   ]
  },
  {
   "cell_type": "markdown",
   "metadata": {},
   "source": [
    "### Code for generating 20 News dataset"
   ]
  },
  {
   "cell_type": "code",
   "execution_count": 3,
   "metadata": {
    "collapsed": true
   },
   "outputs": [],
   "source": [
    "from sklearn.datasets import fetch_20newsgroups\n",
    "from sklearn.feature_extraction.text import CountVectorizer\n",
    "import numpy as np"
   ]
  },
  {
   "cell_type": "code",
   "execution_count": 4,
   "metadata": {
    "collapsed": true
   },
   "outputs": [],
   "source": [
    "news = fetch_20newsgroups(subset='train')\n",
    "Text_train = news.data\n",
    "Y_train = news.target\n",
    "\n",
    "news_test = fetch_20newsgroups(subset='test')\n",
    "Text_test = news_test.data\n",
    "Y_test = news_test.target"
   ]
  },
  {
   "cell_type": "code",
   "execution_count": 5,
   "metadata": {
    "collapsed": true
   },
   "outputs": [],
   "source": [
    "processor = CountVectorizer(max_features=5000, stop_words='english')\n",
    "processor.fit(Text_train)\n",
    "Sparse_train = processor.transform(Text_train)\n",
    "Sparse_test = processor.transform(Text_test)"
   ]
  },
  {
   "cell_type": "code",
   "execution_count": 6,
   "metadata": {
    "collapsed": true
   },
   "outputs": [],
   "source": [
    "X_train = np.array(Sparse_train.todense())\n",
    "X_test = np.array(Sparse_test.todense())"
   ]
  },
  {
   "cell_type": "code",
   "execution_count": 7,
   "metadata": {
    "collapsed": true
   },
   "outputs": [],
   "source": [
    "labels = news.target_names\n",
    "vocabulary = processor.vocabulary_"
   ]
  },
  {
   "cell_type": "markdown",
   "metadata": {},
   "source": [
    "#### Dataset with:\n",
    "\n",
    "X_train, X_test, Y_train, Y_test, labels, vocabulary"
   ]
  },
  {
   "cell_type": "code",
   "execution_count": null,
   "metadata": {
    "collapsed": true
   },
   "outputs": [],
   "source": []
  }
 ],
 "metadata": {
  "anaconda-cloud": {},
  "kernelspec": {
   "display_name": "Python 3",
   "language": "python",
   "name": "python3"
  },
  "language_info": {
   "codemirror_mode": {
    "name": "ipython",
    "version": 3
   },
   "file_extension": ".py",
   "mimetype": "text/x-python",
   "name": "python",
   "nbconvert_exporter": "python",
   "pygments_lexer": "ipython3",
   "version": "3.6.2"
  }
 },
 "nbformat": 4,
 "nbformat_minor": 1
}
