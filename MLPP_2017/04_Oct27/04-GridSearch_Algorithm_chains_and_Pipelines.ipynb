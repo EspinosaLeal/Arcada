{
 "cells": [
  {
   "cell_type": "markdown",
   "metadata": {
    "slideshow": {
     "slide_type": "slide"
    }
   },
   "source": [
    "# **Grid Search, Algorithm Chains and Pipelines**\n",
    "\n",
    "\n",
    "### Machine Learning for Predictive Problems\n",
    "\n",
    "\n",
    "### October 27\n",
    "\n",
    "\n",
    "\n",
    "\n",
    "<a href=\"#/1/1\">(Index)</a>\n"
   ]
  },
  {
   "cell_type": "markdown",
   "metadata": {
    "slideshow": {
     "slide_type": "slide"
    }
   },
   "source": [
    "0\\. <a href=\"#/2/1\">Cross-Validation</a>\n",
    "\n",
    "1\\. <a href=\"#/7/1\">Grid Search</a>:\n",
    "   * Simple.\n",
    "   * <a href=\"#/15/1\">With cross-validation</a>.\n",
    "   \n",
    "2\\. <a href=\"#/25/1\">Algorithm Chains and Pipelines</a>\n",
    "   * <a href=\"#/28/1\">Parameter Selection with Preprocessing</a>.\n",
    "   * <a href=\"#/31/1\">The *Pipeline* Class</a>.\n",
    "   * <a href=\"#/33/1\">An example of Information Leakage</a>.\n",
    "   * <a href=\"#/35/1\">The General Pipeline Interface</a>\n",
    "   \n",
    "3\\. <a href=\"#/42/1\">Conclusions</a>"
   ]
  },
  {
   "cell_type": "markdown",
   "metadata": {
    "slideshow": {
     "slide_type": "slide"
    }
   },
   "source": [
    "# Cross-Validation\n",
    "Cross-validation is primarily a way of measuring the predictive performance of a statistical model. \n",
    "\n",
    "<a href=\"#/1/1\">(Index)</a>"
   ]
  },
  {
   "cell_type": "markdown",
   "metadata": {
    "slideshow": {
     "slide_type": "slide"
    }
   },
   "source": [
    "### K-Fold cross-validation\n",
    "<center><img src=\"./images/04-K-fold_cv.png\" style=\"width: 750px;\"/></center>\n",
    "* Avoid *random* bias during selection of train and test data.\n",
    "* How sensitive is our model to the selection of the training set.\n",
    "* Computational cost is *k*."
   ]
  },
  {
   "cell_type": "markdown",
   "metadata": {
    "slideshow": {
     "slide_type": "slide"
    }
   },
   "source": [
    "### Stratified k-fold cross validation\n",
    "<center><img src=\"./images/04-SK-fold_cv.png\" alt=\"Drawing\" style=\"width: 750px;\"/></center>\n",
    "* Keeps the proportion between classes in each fold as they are in the whole dataset.\n",
    "* Good strategy with Imbalanced datasets (but use other strategies if proportion is more than 9 to 1)."
   ]
  },
  {
   "cell_type": "markdown",
   "metadata": {
    "slideshow": {
     "slide_type": "slide"
    }
   },
   "source": [
    "### Leave-one-out cross-validation\n",
    "<center><img src=\"./images/04-LOO_cv.png\" alt=\"Drawing\" style=\"width: 750px;\"/></center>\n",
    "* Good results in small datasets.\n",
    "* Time consuming for large datasets."
   ]
  },
  {
   "cell_type": "markdown",
   "metadata": {
    "collapsed": true,
    "slideshow": {
     "slide_type": "slide"
    }
   },
   "source": [
    "### Shuffle-split cross-validation\n",
    "<center><img src=\"./images/04-Random_cv.png\" alt=\"Drawing\" style=\"width: 750px;\"/></center>\n",
    "* Good strategy with large datasets."
   ]
  },
  {
   "cell_type": "markdown",
   "metadata": {
    "slideshow": {
     "slide_type": "slide"
    }
   },
   "source": [
    "# Grid Search\n",
    "\n",
    "Improve the models' generalization performance by tuning its parameters.\n",
    "\n",
    "\n",
    "<a href=\"#/1/1\">(Index)</a>"
   ]
  },
  {
   "cell_type": "markdown",
   "metadata": {
    "slideshow": {
     "slide_type": "slide"
    }
   },
   "source": [
    "## Simple Grid Search\n",
    "\n",
    "Using *for* loops over the parameters of a model."
   ]
  },
  {
   "cell_type": "code",
   "execution_count": 1,
   "metadata": {
    "slideshow": {
     "slide_type": "-"
    }
   },
   "outputs": [
    {
     "name": "stdout",
     "output_type": "stream",
     "text": [
      "Size of training set: 112 size of test set: 38\n"
     ]
    }
   ],
   "source": [
    "# naive grid search implementation\n",
    "from sklearn.datasets import load_iris\n",
    "from sklearn.model_selection import train_test_split\n",
    "from sklearn.svm import SVC\n",
    "\n",
    "iris = load_iris()\n",
    "\n",
    "X_train, X_test, y_train, y_test = train_test_split(iris.data, iris.target, random_state=0)\n",
    "print(\"Size of training set: {} size of test set: {}\".format(X_train.shape[0], X_test.shape[0]))"
   ]
  },
  {
   "cell_type": "code",
   "execution_count": 2,
   "metadata": {
    "slideshow": {
     "slide_type": "slide"
    }
   },
   "outputs": [
    {
     "name": "stdout",
     "output_type": "stream",
     "text": [
      "Best score: 0.97\n",
      "Best parameters: {'gamma': 0.001, 'C': 100}\n"
     ]
    }
   ],
   "source": [
    "best_score = 0\n",
    "for gamma in [0.001, 0.01, 0.1, 1, 10, 100]:\n",
    "    for C in [0.001, 0.01, 0.1, 1, 10, 100]:\n",
    "        # for each combination of parameters, train an SVC\n",
    "        svm = SVC(gamma=gamma, C=C)\n",
    "        svm.fit(X_train, y_train)\n",
    "        # evaluate the SVC on the test set\n",
    "        score = svm.score(X_test, y_test)\n",
    "        # if we got a better score, store the score and parameters\n",
    "        if score > best_score:\n",
    "            best_score = score\n",
    "            best_parameters = {'C': C, 'gamma': gamma}\n",
    "\n",
    "print(\"Best score: {:.2f}\".format(best_score))\n",
    "print(\"Best parameters: {}\".format(best_parameters))"
   ]
  },
  {
   "cell_type": "markdown",
   "metadata": {
    "collapsed": true,
    "slideshow": {
     "slide_type": "slide"
    }
   },
   "source": [
    "## Overfiting *parameters* and the Validation Set\n",
    "\n",
    "* We have tried different parameters and select the best ones on the *test set*.\n",
    "* Test data should not be use to assess how good is the model.\n",
    "* A new independent data set is necessary $\\to$ Validation set."
   ]
  },
  {
   "cell_type": "markdown",
   "metadata": {
    "collapsed": true,
    "slideshow": {
     "slide_type": "slide"
    }
   },
   "source": [
    "<center><img src=\"./images/04-TVT_sets.png\" alt=\"Drawing\" style=\"width:1000px\" align=\"middle\"/></center>\n",
    "* **Training set**: build the model.\n",
    "* **Validation set**: select the parameters of the model.\n",
    "* **Test set**: evaluate the performance of the selected parameters.\n",
    "\n",
    "After selecting the best parameters using the validation set, we can rebuild a model using the parameter settings we found, but now training on both the training data and the validation data."
   ]
  },
  {
   "cell_type": "code",
   "execution_count": 3,
   "metadata": {
    "slideshow": {
     "slide_type": "slide"
    }
   },
   "outputs": [
    {
     "name": "stdout",
     "output_type": "stream",
     "text": [
      "Size of training set: 84 size of validation set: 28 size of test set: 38\n",
      "\n"
     ]
    }
   ],
   "source": [
    "from sklearn.svm import SVC\n",
    "\n",
    "# split data into train+validation set and test set\n",
    "X_trainval, X_test, y_trainval, y_test = train_test_split(iris.data, iris.target, random_state=0)\n",
    "\n",
    "# split train+validation set into training and validation sets\n",
    "X_train, X_valid, y_train, y_valid = train_test_split(X_trainval, y_trainval, random_state=1)\n",
    "\n",
    "print(\"Size of training set: {} size of validation set: {} size of test set:\" \n",
    "      \" {}\\n\".format(X_train.shape[0], X_valid.shape[0], X_test.shape[0]))"
   ]
  },
  {
   "cell_type": "code",
   "execution_count": 4,
   "metadata": {
    "collapsed": true,
    "slideshow": {
     "slide_type": "slide"
    }
   },
   "outputs": [],
   "source": [
    "best_score = 0\n",
    "for gamma in [0.001, 0.01, 0.1, 1, 10, 100]:\n",
    "    for C in [0.001, 0.01, 0.1, 1, 10, 100]:\n",
    "        # for each combination of parameters, train an SVC\n",
    "        svm = SVC(gamma=gamma, C=C)\n",
    "        svm.fit(X_train, y_train)\n",
    "        # evaluate the SVC on the test set\n",
    "        score = svm.score(X_valid, y_valid)\n",
    "        # if we got a better score, store the score and parameters\n",
    "        if score > best_score:\n",
    "            best_score = score\n",
    "            best_parameters = {'C': C, 'gamma': gamma}"
   ]
  },
  {
   "cell_type": "code",
   "execution_count": 5,
   "metadata": {
    "slideshow": {
     "slide_type": "slide"
    }
   },
   "outputs": [
    {
     "name": "stdout",
     "output_type": "stream",
     "text": [
      "Best score on validation set: 0.96\n",
      "Best parameters:  {'gamma': 0.001, 'C': 10}\n",
      "Test set score with best parameters: 0.92\n"
     ]
    }
   ],
   "source": [
    "# rebuild a model on the combined training and validation set,\n",
    "# and evaluate it on the test set\n",
    "svm = SVC(**best_parameters)\n",
    "svm.fit(X_trainval, y_trainval)\n",
    "test_score = svm.score(X_test, y_test)\n",
    "print(\"Best score on validation set: {:.2f}\".format(best_score))\n",
    "print(\"Best parameters: \", best_parameters)\n",
    "print(\"Test set score with best parameters: {:.2f}\".format(test_score))"
   ]
  },
  {
   "cell_type": "markdown",
   "metadata": {
    "collapsed": true,
    "slideshow": {
     "slide_type": "slide"
    }
   },
   "source": [
    "## Grid Search with Cross-Validation\n",
    "\n",
    "* For a better estimate of the generalization performance. \n",
    "\n",
    "* Instead of using a single split into a training and a validation set, we can use cross-validation to evaluate the performance of each parameter combination."
   ]
  },
  {
   "cell_type": "code",
   "execution_count": 6,
   "metadata": {
    "slideshow": {
     "slide_type": "slide"
    }
   },
   "outputs": [
    {
     "name": "stdout",
     "output_type": "stream",
     "text": [
      "Best score on validation set: 0.97\n",
      "Best parameters:  {'gamma': 0.01, 'C': 100}\n",
      "Test set score with best parameters: 0.97\n"
     ]
    }
   ],
   "source": [
    "import numpy as np\n",
    "from sklearn.model_selection import cross_val_score\n",
    "\n",
    "for gamma in [0.001, 0.01, 0.1, 1, 10, 100]:\n",
    "    for C in [0.001, 0.01, 0.1, 1, 10, 100]:\n",
    "        # for each combination of parameters,\n",
    "        # train an SVC\n",
    "        svm = SVC(gamma=gamma, C=C)\n",
    "        # perform cross-validation\n",
    "        scores = cross_val_score(svm, X_trainval, y_trainval, cv=5)\n",
    "        # compute mean cross-validation accuracy\n",
    "        score = np.mean(scores)\n",
    "        \n",
    "        # if we got a better score, store the score and parameters\n",
    "        if score > best_score:\n",
    "            best_score = score\n",
    "            best_parameters = {'C': C, 'gamma': gamma}\n",
    "            \n",
    "# rebuild a model on the combined training and validation set\n",
    "svm = SVC(**best_parameters)\n",
    "svm.fit(X_trainval, y_trainval)\n",
    "\n",
    "test_score = svm.score(X_test, y_test)\n",
    "print(\"Best score on validation set: {:.2f}\".format(best_score))\n",
    "print(\"Best parameters: \", best_parameters)\n",
    "print(\"Test set score with best parameters: {:.2f}\".format(test_score))"
   ]
  },
  {
   "cell_type": "code",
   "execution_count": 7,
   "metadata": {
    "slideshow": {
     "slide_type": "slide"
    }
   },
   "outputs": [
    {
     "name": "stdout",
     "output_type": "stream",
     "text": [
      "Test set score: 0.97\n",
      "Best parameters: {'gamma': 0.01, 'C': 100}\n",
      "Best cross-validation score: 0.97\n",
      "\n",
      "Best estimator:\n",
      "SVC(C=100, cache_size=200, class_weight=None, coef0=0.0,\n",
      "  decision_function_shape=None, degree=3, gamma=0.01, kernel='rbf',\n",
      "  max_iter=-1, probability=False, random_state=None, shrinking=True,\n",
      "  tol=0.001, verbose=False)\n"
     ]
    }
   ],
   "source": [
    "from sklearn.model_selection import GridSearchCV\n",
    "from sklearn.svm import SVC\n",
    "\n",
    "param_grid = {'C': [0.001, 0.01, 0.1, 1, 10, 100],\n",
    "              'gamma': [0.001, 0.01, 0.1, 1, 10, 100]}\n",
    "\n",
    "grid_search = GridSearchCV(SVC(), param_grid, cv=5)\n",
    "X_train, X_test, y_train, y_test = train_test_split(iris.data, iris.target, random_state=0)\n",
    "grid_search.fit(X_train, y_train)\n",
    "\n",
    "print(\"Test set score: {:.2f}\".format(grid_search.score(X_test, y_test)))\n",
    "print(\"Best parameters: {}\".format(grid_search.best_params_))\n",
    "print(\"Best cross-validation score: {:.2f}\\n\".format(grid_search.best_score_))\n",
    "print(\"Best estimator:\\n{}\".format(grid_search.best_estimator_))"
   ]
  },
  {
   "cell_type": "markdown",
   "metadata": {
    "slideshow": {
     "slide_type": "-"
    }
   },
   "source": [
    "**best$\\underline{}$score$\\underline{}$** $\\to$ The  mean accuracy over the different splits for the parameters setting. On the training set.\n"
   ]
  },
  {
   "cell_type": "markdown",
   "metadata": {
    "slideshow": {
     "slide_type": "slide"
    }
   },
   "source": [
    "### Analyzing the results (cv$\\underline{}$results$\\underline{}$)\n",
    "\n",
    "We can inspect the results of the cross-validated grid search."
   ]
  },
  {
   "cell_type": "code",
   "execution_count": 8,
   "metadata": {
    "slideshow": {
     "slide_type": "-"
    }
   },
   "outputs": [
    {
     "data": {
      "text/html": [
       "<div>\n",
       "<table border=\"1\" class=\"dataframe\">\n",
       "  <thead>\n",
       "    <tr style=\"text-align: right;\">\n",
       "      <th></th>\n",
       "      <th>mean_fit_time</th>\n",
       "      <th>mean_score_time</th>\n",
       "      <th>mean_test_score</th>\n",
       "      <th>mean_train_score</th>\n",
       "      <th>param_C</th>\n",
       "      <th>param_gamma</th>\n",
       "      <th>params</th>\n",
       "      <th>rank_test_score</th>\n",
       "      <th>split0_test_score</th>\n",
       "      <th>split0_train_score</th>\n",
       "      <th>...</th>\n",
       "      <th>split2_test_score</th>\n",
       "      <th>split2_train_score</th>\n",
       "      <th>split3_test_score</th>\n",
       "      <th>split3_train_score</th>\n",
       "      <th>split4_test_score</th>\n",
       "      <th>split4_train_score</th>\n",
       "      <th>std_fit_time</th>\n",
       "      <th>std_score_time</th>\n",
       "      <th>std_test_score</th>\n",
       "      <th>std_train_score</th>\n",
       "    </tr>\n",
       "  </thead>\n",
       "  <tbody>\n",
       "    <tr>\n",
       "      <th>0</th>\n",
       "      <td>0.001291</td>\n",
       "      <td>0.000479</td>\n",
       "      <td>0.366071</td>\n",
       "      <td>0.366079</td>\n",
       "      <td>0.001</td>\n",
       "      <td>0.001</td>\n",
       "      <td>{'gamma': 0.001, 'C': 0.001}</td>\n",
       "      <td>22</td>\n",
       "      <td>0.375</td>\n",
       "      <td>0.363636</td>\n",
       "      <td>...</td>\n",
       "      <td>0.363636</td>\n",
       "      <td>0.366667</td>\n",
       "      <td>0.363636</td>\n",
       "      <td>0.366667</td>\n",
       "      <td>0.380952</td>\n",
       "      <td>0.362637</td>\n",
       "      <td>0.000176</td>\n",
       "      <td>0.000055</td>\n",
       "      <td>0.011371</td>\n",
       "      <td>0.002852</td>\n",
       "    </tr>\n",
       "    <tr>\n",
       "      <th>1</th>\n",
       "      <td>0.001045</td>\n",
       "      <td>0.000392</td>\n",
       "      <td>0.366071</td>\n",
       "      <td>0.366079</td>\n",
       "      <td>0.001</td>\n",
       "      <td>0.01</td>\n",
       "      <td>{'gamma': 0.01, 'C': 0.001}</td>\n",
       "      <td>22</td>\n",
       "      <td>0.375</td>\n",
       "      <td>0.363636</td>\n",
       "      <td>...</td>\n",
       "      <td>0.363636</td>\n",
       "      <td>0.366667</td>\n",
       "      <td>0.363636</td>\n",
       "      <td>0.366667</td>\n",
       "      <td>0.380952</td>\n",
       "      <td>0.362637</td>\n",
       "      <td>0.000044</td>\n",
       "      <td>0.000029</td>\n",
       "      <td>0.011371</td>\n",
       "      <td>0.002852</td>\n",
       "    </tr>\n",
       "    <tr>\n",
       "      <th>2</th>\n",
       "      <td>0.001342</td>\n",
       "      <td>0.000574</td>\n",
       "      <td>0.366071</td>\n",
       "      <td>0.366079</td>\n",
       "      <td>0.001</td>\n",
       "      <td>0.1</td>\n",
       "      <td>{'gamma': 0.1, 'C': 0.001}</td>\n",
       "      <td>22</td>\n",
       "      <td>0.375</td>\n",
       "      <td>0.363636</td>\n",
       "      <td>...</td>\n",
       "      <td>0.363636</td>\n",
       "      <td>0.366667</td>\n",
       "      <td>0.363636</td>\n",
       "      <td>0.366667</td>\n",
       "      <td>0.380952</td>\n",
       "      <td>0.362637</td>\n",
       "      <td>0.000398</td>\n",
       "      <td>0.000114</td>\n",
       "      <td>0.011371</td>\n",
       "      <td>0.002852</td>\n",
       "    </tr>\n",
       "    <tr>\n",
       "      <th>3</th>\n",
       "      <td>0.001153</td>\n",
       "      <td>0.000424</td>\n",
       "      <td>0.366071</td>\n",
       "      <td>0.366079</td>\n",
       "      <td>0.001</td>\n",
       "      <td>1</td>\n",
       "      <td>{'gamma': 1, 'C': 0.001}</td>\n",
       "      <td>22</td>\n",
       "      <td>0.375</td>\n",
       "      <td>0.363636</td>\n",
       "      <td>...</td>\n",
       "      <td>0.363636</td>\n",
       "      <td>0.366667</td>\n",
       "      <td>0.363636</td>\n",
       "      <td>0.366667</td>\n",
       "      <td>0.380952</td>\n",
       "      <td>0.362637</td>\n",
       "      <td>0.000101</td>\n",
       "      <td>0.000029</td>\n",
       "      <td>0.011371</td>\n",
       "      <td>0.002852</td>\n",
       "    </tr>\n",
       "    <tr>\n",
       "      <th>4</th>\n",
       "      <td>0.001379</td>\n",
       "      <td>0.000664</td>\n",
       "      <td>0.366071</td>\n",
       "      <td>0.366079</td>\n",
       "      <td>0.001</td>\n",
       "      <td>10</td>\n",
       "      <td>{'gamma': 10, 'C': 0.001}</td>\n",
       "      <td>22</td>\n",
       "      <td>0.375</td>\n",
       "      <td>0.363636</td>\n",
       "      <td>...</td>\n",
       "      <td>0.363636</td>\n",
       "      <td>0.366667</td>\n",
       "      <td>0.363636</td>\n",
       "      <td>0.366667</td>\n",
       "      <td>0.380952</td>\n",
       "      <td>0.362637</td>\n",
       "      <td>0.000378</td>\n",
       "      <td>0.000299</td>\n",
       "      <td>0.011371</td>\n",
       "      <td>0.002852</td>\n",
       "    </tr>\n",
       "  </tbody>\n",
       "</table>\n",
       "<p>5 rows × 22 columns</p>\n",
       "</div>"
      ],
      "text/plain": [
       "   mean_fit_time  mean_score_time  mean_test_score  mean_train_score param_C  \\\n",
       "0       0.001291         0.000479         0.366071          0.366079   0.001   \n",
       "1       0.001045         0.000392         0.366071          0.366079   0.001   \n",
       "2       0.001342         0.000574         0.366071          0.366079   0.001   \n",
       "3       0.001153         0.000424         0.366071          0.366079   0.001   \n",
       "4       0.001379         0.000664         0.366071          0.366079   0.001   \n",
       "\n",
       "  param_gamma                        params  rank_test_score  \\\n",
       "0       0.001  {'gamma': 0.001, 'C': 0.001}               22   \n",
       "1        0.01   {'gamma': 0.01, 'C': 0.001}               22   \n",
       "2         0.1    {'gamma': 0.1, 'C': 0.001}               22   \n",
       "3           1      {'gamma': 1, 'C': 0.001}               22   \n",
       "4          10     {'gamma': 10, 'C': 0.001}               22   \n",
       "\n",
       "   split0_test_score  split0_train_score       ...         split2_test_score  \\\n",
       "0              0.375            0.363636       ...                  0.363636   \n",
       "1              0.375            0.363636       ...                  0.363636   \n",
       "2              0.375            0.363636       ...                  0.363636   \n",
       "3              0.375            0.363636       ...                  0.363636   \n",
       "4              0.375            0.363636       ...                  0.363636   \n",
       "\n",
       "   split2_train_score  split3_test_score  split3_train_score  \\\n",
       "0            0.366667           0.363636            0.366667   \n",
       "1            0.366667           0.363636            0.366667   \n",
       "2            0.366667           0.363636            0.366667   \n",
       "3            0.366667           0.363636            0.366667   \n",
       "4            0.366667           0.363636            0.366667   \n",
       "\n",
       "   split4_test_score  split4_train_score  std_fit_time  std_score_time  \\\n",
       "0           0.380952            0.362637      0.000176        0.000055   \n",
       "1           0.380952            0.362637      0.000044        0.000029   \n",
       "2           0.380952            0.362637      0.000398        0.000114   \n",
       "3           0.380952            0.362637      0.000101        0.000029   \n",
       "4           0.380952            0.362637      0.000378        0.000299   \n",
       "\n",
       "   std_test_score  std_train_score  \n",
       "0        0.011371         0.002852  \n",
       "1        0.011371         0.002852  \n",
       "2        0.011371         0.002852  \n",
       "3        0.011371         0.002852  \n",
       "4        0.011371         0.002852  \n",
       "\n",
       "[5 rows x 22 columns]"
      ]
     },
     "metadata": {},
     "output_type": "display_data"
    }
   ],
   "source": [
    "import pandas as pd\n",
    "from IPython.display import display\n",
    "# convert to DataFrame\n",
    "results = pd.DataFrame(grid_search.cv_results_)\n",
    "# show the first 5 rows\n",
    "display(results.head())"
   ]
  },
  {
   "cell_type": "code",
   "execution_count": 9,
   "metadata": {
    "slideshow": {
     "slide_type": "slide"
    }
   },
   "outputs": [
    {
     "data": {
      "text/plain": [
       "<matplotlib.collections.PolyCollection at 0x7face9d04898>"
      ]
     },
     "execution_count": 9,
     "metadata": {},
     "output_type": "execute_result"
    },
    {
     "data": {
      "image/png": "[encoded data removed]",
      "text/plain": [
       "<matplotlib.figure.Figure at 0x7face9f96f28>"
      ]
     },
     "metadata": {},
     "output_type": "display_data"
    }
   ],
   "source": [
    "%matplotlib inline\n",
    "import mglearn\n",
    "import matplotlib.pyplot as plt\n",
    "\n",
    "scores = np.array(results.mean_test_score).reshape(6, 6)\n",
    "# plot the mean cross-validation scores\n",
    "mglearn.tools.heatmap(scores, xlabel='gamma', xticklabels=param_grid['gamma'],\n",
    "ylabel='C', yticklabels=param_grid['C'], cmap=\"viridis\")"
   ]
  },
  {
   "cell_type": "code",
   "execution_count": 10,
   "metadata": {
    "collapsed": true,
    "slideshow": {
     "slide_type": "skip"
    }
   },
   "outputs": [],
   "source": [
    "param_grid_linear = {'C': np.linspace(1, 2, 6),\n",
    "                     'gamma': np.linspace(1, 2, 6)}\n",
    "\n",
    "param_grid_one_log = {'C': np.linspace(1, 2, 6),\n",
    "                      'gamma': np.logspace(-3, 2, 6)}\n",
    "\n",
    "param_grid_range = {'C': np.logspace(-3, 2, 6),\n",
    "                    'gamma': np.logspace(-7, -2, 6)}"
   ]
  },
  {
   "cell_type": "code",
   "execution_count": 11,
   "metadata": {
    "slideshow": {
     "slide_type": "slide"
    }
   },
   "outputs": [
    {
     "data": {
      "text/plain": [
       "<matplotlib.colorbar.Colorbar at 0x7face2da0080>"
      ]
     },
     "execution_count": 11,
     "metadata": {},
     "output_type": "execute_result"
    },
    {
     "data": {
      "image/png": "[encoded data removed]",
      "text/plain": [
       "<matplotlib.figure.Figure at 0x7face2fbfef0>"
      ]
     },
     "metadata": {},
     "output_type": "display_data"
    }
   ],
   "source": [
    "fig, axes = plt.subplots(1, 3, figsize=(15, 5))\n",
    "for param_grid, ax in zip([param_grid_linear, param_grid_one_log,\n",
    "                           param_grid_range], axes):\n",
    "    grid_search = GridSearchCV(SVC(), param_grid, cv=5)\n",
    "    grid_search.fit(X_train, y_train)\n",
    "    scores = grid_search.cv_results_['mean_test_score'].reshape(6, 6)\n",
    "\n",
    "    # plot the mean cross-validation scores\n",
    "    scores_image = mglearn.tools.heatmap(\n",
    "                   scores, xlabel='gamma', ylabel='C', xticklabels=param_grid['gamma'],\n",
    "                   yticklabels=param_grid['C'], cmap=\"viridis\", ax=ax)\n",
    "plt.colorbar(scores_image, ax=axes.tolist())"
   ]
  },
  {
   "cell_type": "markdown",
   "metadata": {
    "collapsed": true,
    "slideshow": {
     "slide_type": "slide"
    }
   },
   "source": [
    "### Search over spaces (not grids)\n",
    "\n",
    "* In general is not a good idea.\n",
    "* But, in some cases is possible to try *all possible* combinations of *all paramenters*.\n",
    "* Pass to GridSearch a **list of dictionaries**. Each dictionary an independent grid."
   ]
  },
  {
   "cell_type": "code",
   "execution_count": 12,
   "metadata": {
    "slideshow": {
     "slide_type": "slide"
    }
   },
   "outputs": [
    {
     "name": "stdout",
     "output_type": "stream",
     "text": [
      "Best parameters: {'gamma': 0.01, 'kernel': 'rbf', 'C': 100}\n",
      "Best cross-validation score: 0.97\n"
     ]
    }
   ],
   "source": [
    "# We test the SVC classifier with two type of kernels.\n",
    "param_grid = [{'kernel': ['rbf'],\n",
    "               'C': [0.001, 0.01, 0.1, 1, 10, 100],\n",
    "               'gamma': [0.001, 0.01, 0.1, 1, 10, 100]},\n",
    "              {'kernel': ['linear'],\n",
    "               'C': [0.001, 0.01, 0.1, 1, 10, 100]}]\n",
    "\n",
    "grid_search = GridSearchCV(SVC(), param_grid, cv=5)\n",
    "grid_search.fit(X_train, y_train)\n",
    "print(\"Best parameters: {}\".format(grid_search.best_params_))\n",
    "print(\"Best cross-validation score: {:.2f}\".format(grid_search.best_score_))"
   ]
  },
  {
   "cell_type": "code",
   "execution_count": 13,
   "metadata": {
    "slideshow": {
     "slide_type": "slide"
    }
   },
   "outputs": [
    {
     "data": {
      "text/html": [
       "<div>\n",
       "<table border=\"1\" class=\"dataframe\">\n",
       "  <thead>\n",
       "    <tr style=\"text-align: right;\">\n",
       "      <th></th>\n",
       "      <th>0</th>\n",
       "      <th>1</th>\n",
       "      <th>2</th>\n",
       "      <th>3</th>\n",
       "      <th>4</th>\n",
       "      <th>5</th>\n",
       "      <th>6</th>\n",
       "      <th>7</th>\n",
       "      <th>8</th>\n",
       "      <th>9</th>\n",
       "      <th>...</th>\n",
       "      <th>32</th>\n",
       "      <th>33</th>\n",
       "      <th>34</th>\n",
       "      <th>35</th>\n",
       "      <th>36</th>\n",
       "      <th>37</th>\n",
       "      <th>38</th>\n",
       "      <th>39</th>\n",
       "      <th>40</th>\n",
       "      <th>41</th>\n",
       "    </tr>\n",
       "  </thead>\n",
       "  <tbody>\n",
       "    <tr>\n",
       "      <th>mean_fit_time</th>\n",
       "      <td>0.00114141</td>\n",
       "      <td>0.00106359</td>\n",
       "      <td>0.00126791</td>\n",
       "      <td>0.0012331</td>\n",
       "      <td>0.00122094</td>\n",
       "      <td>0.00137191</td>\n",
       "      <td>0.00101743</td>\n",
       "      <td>0.000987911</td>\n",
       "      <td>0.00105467</td>\n",
       "      <td>0.00099144</td>\n",
       "      <td>...</td>\n",
       "      <td>0.000536776</td>\n",
       "      <td>0.000734282</td>\n",
       "      <td>0.00133491</td>\n",
       "      <td>0.00138731</td>\n",
       "      <td>0.00064435</td>\n",
       "      <td>0.000588131</td>\n",
       "      <td>0.000499773</td>\n",
       "      <td>0.000495577</td>\n",
       "      <td>0.000488043</td>\n",
       "      <td>0.000505495</td>\n",
       "    </tr>\n",
       "    <tr>\n",
       "      <th>mean_score_time</th>\n",
       "      <td>0.000410795</td>\n",
       "      <td>0.000412178</td>\n",
       "      <td>0.000626564</td>\n",
       "      <td>0.000440979</td>\n",
       "      <td>0.000463486</td>\n",
       "      <td>0.0004951</td>\n",
       "      <td>0.000385857</td>\n",
       "      <td>0.000355053</td>\n",
       "      <td>0.00036149</td>\n",
       "      <td>0.000354528</td>\n",
       "      <td>...</td>\n",
       "      <td>0.00028491</td>\n",
       "      <td>0.000303888</td>\n",
       "      <td>0.000343895</td>\n",
       "      <td>0.000357342</td>\n",
       "      <td>0.000303173</td>\n",
       "      <td>0.000296116</td>\n",
       "      <td>0.000283098</td>\n",
       "      <td>0.000280094</td>\n",
       "      <td>0.000271463</td>\n",
       "      <td>0.000272083</td>\n",
       "    </tr>\n",
       "    <tr>\n",
       "      <th>mean_test_score</th>\n",
       "      <td>0.366071</td>\n",
       "      <td>0.366071</td>\n",
       "      <td>0.366071</td>\n",
       "      <td>0.366071</td>\n",
       "      <td>0.366071</td>\n",
       "      <td>0.366071</td>\n",
       "      <td>0.366071</td>\n",
       "      <td>0.366071</td>\n",
       "      <td>0.366071</td>\n",
       "      <td>0.366071</td>\n",
       "      <td>...</td>\n",
       "      <td>0.955357</td>\n",
       "      <td>0.946429</td>\n",
       "      <td>0.919643</td>\n",
       "      <td>0.5625</td>\n",
       "      <td>0.366071</td>\n",
       "      <td>0.848214</td>\n",
       "      <td>0.946429</td>\n",
       "      <td>0.973214</td>\n",
       "      <td>0.964286</td>\n",
       "      <td>0.964286</td>\n",
       "    </tr>\n",
       "    <tr>\n",
       "      <th>mean_train_score</th>\n",
       "      <td>0.366079</td>\n",
       "      <td>0.366079</td>\n",
       "      <td>0.366079</td>\n",
       "      <td>0.366079</td>\n",
       "      <td>0.366079</td>\n",
       "      <td>0.366079</td>\n",
       "      <td>0.366079</td>\n",
       "      <td>0.366079</td>\n",
       "      <td>0.366079</td>\n",
       "      <td>0.366079</td>\n",
       "      <td>...</td>\n",
       "      <td>0.988788</td>\n",
       "      <td>1</td>\n",
       "      <td>1</td>\n",
       "      <td>1</td>\n",
       "      <td>0.366079</td>\n",
       "      <td>0.855069</td>\n",
       "      <td>0.966538</td>\n",
       "      <td>0.984368</td>\n",
       "      <td>0.988813</td>\n",
       "      <td>0.993258</td>\n",
       "    </tr>\n",
       "    <tr>\n",
       "      <th>param_C</th>\n",
       "      <td>0.001</td>\n",
       "      <td>0.001</td>\n",
       "      <td>0.001</td>\n",
       "      <td>0.001</td>\n",
       "      <td>0.001</td>\n",
       "      <td>0.001</td>\n",
       "      <td>0.01</td>\n",
       "      <td>0.01</td>\n",
       "      <td>0.01</td>\n",
       "      <td>0.01</td>\n",
       "      <td>...</td>\n",
       "      <td>100</td>\n",
       "      <td>100</td>\n",
       "      <td>100</td>\n",
       "      <td>100</td>\n",
       "      <td>0.001</td>\n",
       "      <td>0.01</td>\n",
       "      <td>0.1</td>\n",
       "      <td>1</td>\n",
       "      <td>10</td>\n",
       "      <td>100</td>\n",
       "    </tr>\n",
       "    <tr>\n",
       "      <th>param_gamma</th>\n",
       "      <td>0.001</td>\n",
       "      <td>0.01</td>\n",
       "      <td>0.1</td>\n",
       "      <td>1</td>\n",
       "      <td>10</td>\n",
       "      <td>100</td>\n",
       "      <td>0.001</td>\n",
       "      <td>0.01</td>\n",
       "      <td>0.1</td>\n",
       "      <td>1</td>\n",
       "      <td>...</td>\n",
       "      <td>0.1</td>\n",
       "      <td>1</td>\n",
       "      <td>10</td>\n",
       "      <td>100</td>\n",
       "      <td>NaN</td>\n",
       "      <td>NaN</td>\n",
       "      <td>NaN</td>\n",
       "      <td>NaN</td>\n",
       "      <td>NaN</td>\n",
       "      <td>NaN</td>\n",
       "    </tr>\n",
       "    <tr>\n",
       "      <th>param_kernel</th>\n",
       "      <td>rbf</td>\n",
       "      <td>rbf</td>\n",
       "      <td>rbf</td>\n",
       "      <td>rbf</td>\n",
       "      <td>rbf</td>\n",
       "      <td>rbf</td>\n",
       "      <td>rbf</td>\n",
       "      <td>rbf</td>\n",
       "      <td>rbf</td>\n",
       "      <td>rbf</td>\n",
       "      <td>...</td>\n",
       "      <td>rbf</td>\n",
       "      <td>rbf</td>\n",
       "      <td>rbf</td>\n",
       "      <td>rbf</td>\n",
       "      <td>linear</td>\n",
       "      <td>linear</td>\n",
       "      <td>linear</td>\n",
       "      <td>linear</td>\n",
       "      <td>linear</td>\n",
       "      <td>linear</td>\n",
       "    </tr>\n",
       "    <tr>\n",
       "      <th>params</th>\n",
       "      <td>{'gamma': 0.001, 'kernel': 'rbf', 'C': 0.001}</td>\n",
       "      <td>{'gamma': 0.01, 'kernel': 'rbf', 'C': 0.001}</td>\n",
       "      <td>{'gamma': 0.1, 'kernel': 'rbf', 'C': 0.001}</td>\n",
       "      <td>{'gamma': 1, 'kernel': 'rbf', 'C': 0.001}</td>\n",
       "      <td>{'gamma': 10, 'kernel': 'rbf', 'C': 0.001}</td>\n",
       "      <td>{'gamma': 100, 'kernel': 'rbf', 'C': 0.001}</td>\n",
       "      <td>{'gamma': 0.001, 'kernel': 'rbf', 'C': 0.01}</td>\n",
       "      <td>{'gamma': 0.01, 'kernel': 'rbf', 'C': 0.01}</td>\n",
       "      <td>{'gamma': 0.1, 'kernel': 'rbf', 'C': 0.01}</td>\n",
       "      <td>{'gamma': 1, 'kernel': 'rbf', 'C': 0.01}</td>\n",
       "      <td>...</td>\n",
       "      <td>{'gamma': 0.1, 'kernel': 'rbf', 'C': 100}</td>\n",
       "      <td>{'gamma': 1, 'kernel': 'rbf', 'C': 100}</td>\n",
       "      <td>{'gamma': 10, 'kernel': 'rbf', 'C': 100}</td>\n",
       "      <td>{'gamma': 100, 'kernel': 'rbf', 'C': 100}</td>\n",
       "      <td>{'kernel': 'linear', 'C': 0.001}</td>\n",
       "      <td>{'kernel': 'linear', 'C': 0.01}</td>\n",
       "      <td>{'kernel': 'linear', 'C': 0.1}</td>\n",
       "      <td>{'kernel': 'linear', 'C': 1}</td>\n",
       "      <td>{'kernel': 'linear', 'C': 10}</td>\n",
       "      <td>{'kernel': 'linear', 'C': 100}</td>\n",
       "    </tr>\n",
       "    <tr>\n",
       "      <th>rank_test_score</th>\n",
       "      <td>27</td>\n",
       "      <td>27</td>\n",
       "      <td>27</td>\n",
       "      <td>27</td>\n",
       "      <td>27</td>\n",
       "      <td>27</td>\n",
       "      <td>27</td>\n",
       "      <td>27</td>\n",
       "      <td>27</td>\n",
       "      <td>27</td>\n",
       "      <td>...</td>\n",
       "      <td>9</td>\n",
       "      <td>11</td>\n",
       "      <td>17</td>\n",
       "      <td>24</td>\n",
       "      <td>27</td>\n",
       "      <td>21</td>\n",
       "      <td>11</td>\n",
       "      <td>1</td>\n",
       "      <td>3</td>\n",
       "      <td>3</td>\n",
       "    </tr>\n",
       "    <tr>\n",
       "      <th>split0_test_score</th>\n",
       "      <td>0.375</td>\n",
       "      <td>0.375</td>\n",
       "      <td>0.375</td>\n",
       "      <td>0.375</td>\n",
       "      <td>0.375</td>\n",
       "      <td>0.375</td>\n",
       "      <td>0.375</td>\n",
       "      <td>0.375</td>\n",
       "      <td>0.375</td>\n",
       "      <td>0.375</td>\n",
       "      <td>...</td>\n",
       "      <td>0.958333</td>\n",
       "      <td>0.916667</td>\n",
       "      <td>0.875</td>\n",
       "      <td>0.541667</td>\n",
       "      <td>0.375</td>\n",
       "      <td>0.916667</td>\n",
       "      <td>0.958333</td>\n",
       "      <td>1</td>\n",
       "      <td>0.958333</td>\n",
       "      <td>0.958333</td>\n",
       "    </tr>\n",
       "    <tr>\n",
       "      <th>split0_train_score</th>\n",
       "      <td>0.363636</td>\n",
       "      <td>0.363636</td>\n",
       "      <td>0.363636</td>\n",
       "      <td>0.363636</td>\n",
       "      <td>0.363636</td>\n",
       "      <td>0.363636</td>\n",
       "      <td>0.363636</td>\n",
       "      <td>0.363636</td>\n",
       "      <td>0.363636</td>\n",
       "      <td>0.363636</td>\n",
       "      <td>...</td>\n",
       "      <td>0.988636</td>\n",
       "      <td>1</td>\n",
       "      <td>1</td>\n",
       "      <td>1</td>\n",
       "      <td>0.363636</td>\n",
       "      <td>0.886364</td>\n",
       "      <td>0.965909</td>\n",
       "      <td>0.988636</td>\n",
       "      <td>0.988636</td>\n",
       "      <td>0.988636</td>\n",
       "    </tr>\n",
       "    <tr>\n",
       "      <th>split1_test_score</th>\n",
       "      <td>0.347826</td>\n",
       "      <td>0.347826</td>\n",
       "      <td>0.347826</td>\n",
       "      <td>0.347826</td>\n",
       "      <td>0.347826</td>\n",
       "      <td>0.347826</td>\n",
       "      <td>0.347826</td>\n",
       "      <td>0.347826</td>\n",
       "      <td>0.347826</td>\n",
       "      <td>0.347826</td>\n",
       "      <td>...</td>\n",
       "      <td>1</td>\n",
       "      <td>1</td>\n",
       "      <td>0.956522</td>\n",
       "      <td>0.478261</td>\n",
       "      <td>0.347826</td>\n",
       "      <td>0.826087</td>\n",
       "      <td>0.913043</td>\n",
       "      <td>0.956522</td>\n",
       "      <td>1</td>\n",
       "      <td>1</td>\n",
       "    </tr>\n",
       "    <tr>\n",
       "      <th>split1_train_score</th>\n",
       "      <td>0.370787</td>\n",
       "      <td>0.370787</td>\n",
       "      <td>0.370787</td>\n",
       "      <td>0.370787</td>\n",
       "      <td>0.370787</td>\n",
       "      <td>0.370787</td>\n",
       "      <td>0.370787</td>\n",
       "      <td>0.370787</td>\n",
       "      <td>0.370787</td>\n",
       "      <td>0.370787</td>\n",
       "      <td>...</td>\n",
       "      <td>0.977528</td>\n",
       "      <td>1</td>\n",
       "      <td>1</td>\n",
       "      <td>1</td>\n",
       "      <td>0.370787</td>\n",
       "      <td>0.88764</td>\n",
       "      <td>0.977528</td>\n",
       "      <td>0.977528</td>\n",
       "      <td>0.988764</td>\n",
       "      <td>0.988764</td>\n",
       "    </tr>\n",
       "    <tr>\n",
       "      <th>split2_test_score</th>\n",
       "      <td>0.363636</td>\n",
       "      <td>0.363636</td>\n",
       "      <td>0.363636</td>\n",
       "      <td>0.363636</td>\n",
       "      <td>0.363636</td>\n",
       "      <td>0.363636</td>\n",
       "      <td>0.363636</td>\n",
       "      <td>0.363636</td>\n",
       "      <td>0.363636</td>\n",
       "      <td>0.363636</td>\n",
       "      <td>...</td>\n",
       "      <td>1</td>\n",
       "      <td>1</td>\n",
       "      <td>1</td>\n",
       "      <td>0.590909</td>\n",
       "      <td>0.363636</td>\n",
       "      <td>0.818182</td>\n",
       "      <td>1</td>\n",
       "      <td>1</td>\n",
       "      <td>1</td>\n",
       "      <td>1</td>\n",
       "    </tr>\n",
       "    <tr>\n",
       "      <th>split2_train_score</th>\n",
       "      <td>0.366667</td>\n",
       "      <td>0.366667</td>\n",
       "      <td>0.366667</td>\n",
       "      <td>0.366667</td>\n",
       "      <td>0.366667</td>\n",
       "      <td>0.366667</td>\n",
       "      <td>0.366667</td>\n",
       "      <td>0.366667</td>\n",
       "      <td>0.366667</td>\n",
       "      <td>0.366667</td>\n",
       "      <td>...</td>\n",
       "      <td>0.977778</td>\n",
       "      <td>1</td>\n",
       "      <td>1</td>\n",
       "      <td>1</td>\n",
       "      <td>0.366667</td>\n",
       "      <td>0.866667</td>\n",
       "      <td>0.944444</td>\n",
       "      <td>0.977778</td>\n",
       "      <td>0.977778</td>\n",
       "      <td>0.988889</td>\n",
       "    </tr>\n",
       "    <tr>\n",
       "      <th>split3_test_score</th>\n",
       "      <td>0.363636</td>\n",
       "      <td>0.363636</td>\n",
       "      <td>0.363636</td>\n",
       "      <td>0.363636</td>\n",
       "      <td>0.363636</td>\n",
       "      <td>0.363636</td>\n",
       "      <td>0.363636</td>\n",
       "      <td>0.363636</td>\n",
       "      <td>0.363636</td>\n",
       "      <td>0.363636</td>\n",
       "      <td>...</td>\n",
       "      <td>0.863636</td>\n",
       "      <td>0.863636</td>\n",
       "      <td>0.818182</td>\n",
       "      <td>0.590909</td>\n",
       "      <td>0.363636</td>\n",
       "      <td>0.772727</td>\n",
       "      <td>0.909091</td>\n",
       "      <td>0.954545</td>\n",
       "      <td>0.909091</td>\n",
       "      <td>0.909091</td>\n",
       "    </tr>\n",
       "    <tr>\n",
       "      <th>split3_train_score</th>\n",
       "      <td>0.366667</td>\n",
       "      <td>0.366667</td>\n",
       "      <td>0.366667</td>\n",
       "      <td>0.366667</td>\n",
       "      <td>0.366667</td>\n",
       "      <td>0.366667</td>\n",
       "      <td>0.366667</td>\n",
       "      <td>0.366667</td>\n",
       "      <td>0.366667</td>\n",
       "      <td>0.366667</td>\n",
       "      <td>...</td>\n",
       "      <td>1</td>\n",
       "      <td>1</td>\n",
       "      <td>1</td>\n",
       "      <td>1</td>\n",
       "      <td>0.366667</td>\n",
       "      <td>0.755556</td>\n",
       "      <td>0.977778</td>\n",
       "      <td>0.988889</td>\n",
       "      <td>0.988889</td>\n",
       "      <td>1</td>\n",
       "    </tr>\n",
       "    <tr>\n",
       "      <th>split4_test_score</th>\n",
       "      <td>0.380952</td>\n",
       "      <td>0.380952</td>\n",
       "      <td>0.380952</td>\n",
       "      <td>0.380952</td>\n",
       "      <td>0.380952</td>\n",
       "      <td>0.380952</td>\n",
       "      <td>0.380952</td>\n",
       "      <td>0.380952</td>\n",
       "      <td>0.380952</td>\n",
       "      <td>0.380952</td>\n",
       "      <td>...</td>\n",
       "      <td>0.952381</td>\n",
       "      <td>0.952381</td>\n",
       "      <td>0.952381</td>\n",
       "      <td>0.619048</td>\n",
       "      <td>0.380952</td>\n",
       "      <td>0.904762</td>\n",
       "      <td>0.952381</td>\n",
       "      <td>0.952381</td>\n",
       "      <td>0.952381</td>\n",
       "      <td>0.952381</td>\n",
       "    </tr>\n",
       "    <tr>\n",
       "      <th>split4_train_score</th>\n",
       "      <td>0.362637</td>\n",
       "      <td>0.362637</td>\n",
       "      <td>0.362637</td>\n",
       "      <td>0.362637</td>\n",
       "      <td>0.362637</td>\n",
       "      <td>0.362637</td>\n",
       "      <td>0.362637</td>\n",
       "      <td>0.362637</td>\n",
       "      <td>0.362637</td>\n",
       "      <td>0.362637</td>\n",
       "      <td>...</td>\n",
       "      <td>1</td>\n",
       "      <td>1</td>\n",
       "      <td>1</td>\n",
       "      <td>1</td>\n",
       "      <td>0.362637</td>\n",
       "      <td>0.879121</td>\n",
       "      <td>0.967033</td>\n",
       "      <td>0.989011</td>\n",
       "      <td>1</td>\n",
       "      <td>1</td>\n",
       "    </tr>\n",
       "    <tr>\n",
       "      <th>std_fit_time</th>\n",
       "      <td>8.42781e-05</td>\n",
       "      <td>3.3213e-05</td>\n",
       "      <td>0.000286043</td>\n",
       "      <td>0.000202649</td>\n",
       "      <td>0.000100264</td>\n",
       "      <td>0.000307447</td>\n",
       "      <td>5.10645e-05</td>\n",
       "      <td>1.79456e-05</td>\n",
       "      <td>8.06888e-05</td>\n",
       "      <td>1.33928e-05</td>\n",
       "      <td>...</td>\n",
       "      <td>1.93561e-05</td>\n",
       "      <td>2.31172e-05</td>\n",
       "      <td>5.06827e-05</td>\n",
       "      <td>3.0365e-05</td>\n",
       "      <td>2.97632e-06</td>\n",
       "      <td>5.94499e-06</td>\n",
       "      <td>4.92645e-06</td>\n",
       "      <td>2.17798e-05</td>\n",
       "      <td>2.19842e-05</td>\n",
       "      <td>4.72643e-05</td>\n",
       "    </tr>\n",
       "    <tr>\n",
       "      <th>std_score_time</th>\n",
       "      <td>3.8798e-05</td>\n",
       "      <td>4.74664e-05</td>\n",
       "      <td>0.000353249</td>\n",
       "      <td>7.42319e-05</td>\n",
       "      <td>7.43901e-05</td>\n",
       "      <td>0.000121458</td>\n",
       "      <td>5.40085e-05</td>\n",
       "      <td>6.62855e-06</td>\n",
       "      <td>6.84789e-06</td>\n",
       "      <td>3.24109e-06</td>\n",
       "      <td>...</td>\n",
       "      <td>3.01578e-06</td>\n",
       "      <td>2.125e-06</td>\n",
       "      <td>5.52102e-06</td>\n",
       "      <td>5.84665e-06</td>\n",
       "      <td>3.41064e-06</td>\n",
       "      <td>1.93692e-06</td>\n",
       "      <td>1.26699e-06</td>\n",
       "      <td>7.55813e-06</td>\n",
       "      <td>1.36212e-06</td>\n",
       "      <td>3.48581e-06</td>\n",
       "    </tr>\n",
       "    <tr>\n",
       "      <th>std_test_score</th>\n",
       "      <td>0.0113708</td>\n",
       "      <td>0.0113708</td>\n",
       "      <td>0.0113708</td>\n",
       "      <td>0.0113708</td>\n",
       "      <td>0.0113708</td>\n",
       "      <td>0.0113708</td>\n",
       "      <td>0.0113708</td>\n",
       "      <td>0.0113708</td>\n",
       "      <td>0.0113708</td>\n",
       "      <td>0.0113708</td>\n",
       "      <td>...</td>\n",
       "      <td>0.0495662</td>\n",
       "      <td>0.0519227</td>\n",
       "      <td>0.0647906</td>\n",
       "      <td>0.0496678</td>\n",
       "      <td>0.0113708</td>\n",
       "      <td>0.0547783</td>\n",
       "      <td>0.0332185</td>\n",
       "      <td>0.0223995</td>\n",
       "      <td>0.0338387</td>\n",
       "      <td>0.0338387</td>\n",
       "    </tr>\n",
       "    <tr>\n",
       "      <th>std_train_score</th>\n",
       "      <td>0.00285176</td>\n",
       "      <td>0.00285176</td>\n",
       "      <td>0.00285176</td>\n",
       "      <td>0.00285176</td>\n",
       "      <td>0.00285176</td>\n",
       "      <td>0.00285176</td>\n",
       "      <td>0.00285176</td>\n",
       "      <td>0.00285176</td>\n",
       "      <td>0.00285176</td>\n",
       "      <td>0.00285176</td>\n",
       "      <td>...</td>\n",
       "      <td>0.00999451</td>\n",
       "      <td>0</td>\n",
       "      <td>0</td>\n",
       "      <td>0</td>\n",
       "      <td>0.00285176</td>\n",
       "      <td>0.0503114</td>\n",
       "      <td>0.0121316</td>\n",
       "      <td>0.00548507</td>\n",
       "      <td>0.00702801</td>\n",
       "      <td>0.00550551</td>\n",
       "    </tr>\n",
       "  </tbody>\n",
       "</table>\n",
       "<p>23 rows × 42 columns</p>\n",
       "</div>"
      ],
      "text/plain": [
       "                                                               0   \\\n",
       "mean_fit_time                                          0.00114141   \n",
       "mean_score_time                                       0.000410795   \n",
       "mean_test_score                                          0.366071   \n",
       "mean_train_score                                         0.366079   \n",
       "param_C                                                     0.001   \n",
       "param_gamma                                                 0.001   \n",
       "param_kernel                                                  rbf   \n",
       "params              {'gamma': 0.001, 'kernel': 'rbf', 'C': 0.001}   \n",
       "rank_test_score                                                27   \n",
       "split0_test_score                                           0.375   \n",
       "split0_train_score                                       0.363636   \n",
       "split1_test_score                                        0.347826   \n",
       "split1_train_score                                       0.370787   \n",
       "split2_test_score                                        0.363636   \n",
       "split2_train_score                                       0.366667   \n",
       "split3_test_score                                        0.363636   \n",
       "split3_train_score                                       0.366667   \n",
       "split4_test_score                                        0.380952   \n",
       "split4_train_score                                       0.362637   \n",
       "std_fit_time                                          8.42781e-05   \n",
       "std_score_time                                         3.8798e-05   \n",
       "std_test_score                                          0.0113708   \n",
       "std_train_score                                        0.00285176   \n",
       "\n",
       "                                                              1   \\\n",
       "mean_fit_time                                         0.00106359   \n",
       "mean_score_time                                      0.000412178   \n",
       "mean_test_score                                         0.366071   \n",
       "mean_train_score                                        0.366079   \n",
       "param_C                                                    0.001   \n",
       "param_gamma                                                 0.01   \n",
       "param_kernel                                                 rbf   \n",
       "params              {'gamma': 0.01, 'kernel': 'rbf', 'C': 0.001}   \n",
       "rank_test_score                                               27   \n",
       "split0_test_score                                          0.375   \n",
       "split0_train_score                                      0.363636   \n",
       "split1_test_score                                       0.347826   \n",
       "split1_train_score                                      0.370787   \n",
       "split2_test_score                                       0.363636   \n",
       "split2_train_score                                      0.366667   \n",
       "split3_test_score                                       0.363636   \n",
       "split3_train_score                                      0.366667   \n",
       "split4_test_score                                       0.380952   \n",
       "split4_train_score                                      0.362637   \n",
       "std_fit_time                                          3.3213e-05   \n",
       "std_score_time                                       4.74664e-05   \n",
       "std_test_score                                         0.0113708   \n",
       "std_train_score                                       0.00285176   \n",
       "\n",
       "                                                             2   \\\n",
       "mean_fit_time                                        0.00126791   \n",
       "mean_score_time                                     0.000626564   \n",
       "mean_test_score                                        0.366071   \n",
       "mean_train_score                                       0.366079   \n",
       "param_C                                                   0.001   \n",
       "param_gamma                                                 0.1   \n",
       "param_kernel                                                rbf   \n",
       "params              {'gamma': 0.1, 'kernel': 'rbf', 'C': 0.001}   \n",
       "rank_test_score                                              27   \n",
       "split0_test_score                                         0.375   \n",
       "split0_train_score                                     0.363636   \n",
       "split1_test_score                                      0.347826   \n",
       "split1_train_score                                     0.370787   \n",
       "split2_test_score                                      0.363636   \n",
       "split2_train_score                                     0.366667   \n",
       "split3_test_score                                      0.363636   \n",
       "split3_train_score                                     0.366667   \n",
       "split4_test_score                                      0.380952   \n",
       "split4_train_score                                     0.362637   \n",
       "std_fit_time                                        0.000286043   \n",
       "std_score_time                                      0.000353249   \n",
       "std_test_score                                        0.0113708   \n",
       "std_train_score                                      0.00285176   \n",
       "\n",
       "                                                           3   \\\n",
       "mean_fit_time                                       0.0012331   \n",
       "mean_score_time                                   0.000440979   \n",
       "mean_test_score                                      0.366071   \n",
       "mean_train_score                                     0.366079   \n",
       "param_C                                                 0.001   \n",
       "param_gamma                                                 1   \n",
       "param_kernel                                              rbf   \n",
       "params              {'gamma': 1, 'kernel': 'rbf', 'C': 0.001}   \n",
       "rank_test_score                                            27   \n",
       "split0_test_score                                       0.375   \n",
       "split0_train_score                                   0.363636   \n",
       "split1_test_score                                    0.347826   \n",
       "split1_train_score                                   0.370787   \n",
       "split2_test_score                                    0.363636   \n",
       "split2_train_score                                   0.366667   \n",
       "split3_test_score                                    0.363636   \n",
       "split3_train_score                                   0.366667   \n",
       "split4_test_score                                    0.380952   \n",
       "split4_train_score                                   0.362637   \n",
       "std_fit_time                                      0.000202649   \n",
       "std_score_time                                    7.42319e-05   \n",
       "std_test_score                                      0.0113708   \n",
       "std_train_score                                    0.00285176   \n",
       "\n",
       "                                                            4   \\\n",
       "mean_fit_time                                       0.00122094   \n",
       "mean_score_time                                    0.000463486   \n",
       "mean_test_score                                       0.366071   \n",
       "mean_train_score                                      0.366079   \n",
       "param_C                                                  0.001   \n",
       "param_gamma                                                 10   \n",
       "param_kernel                                               rbf   \n",
       "params              {'gamma': 10, 'kernel': 'rbf', 'C': 0.001}   \n",
       "rank_test_score                                             27   \n",
       "split0_test_score                                        0.375   \n",
       "split0_train_score                                    0.363636   \n",
       "split1_test_score                                     0.347826   \n",
       "split1_train_score                                    0.370787   \n",
       "split2_test_score                                     0.363636   \n",
       "split2_train_score                                    0.366667   \n",
       "split3_test_score                                     0.363636   \n",
       "split3_train_score                                    0.366667   \n",
       "split4_test_score                                     0.380952   \n",
       "split4_train_score                                    0.362637   \n",
       "std_fit_time                                       0.000100264   \n",
       "std_score_time                                     7.43901e-05   \n",
       "std_test_score                                       0.0113708   \n",
       "std_train_score                                     0.00285176   \n",
       "\n",
       "                                                             5   \\\n",
       "mean_fit_time                                        0.00137191   \n",
       "mean_score_time                                       0.0004951   \n",
       "mean_test_score                                        0.366071   \n",
       "mean_train_score                                       0.366079   \n",
       "param_C                                                   0.001   \n",
       "param_gamma                                                 100   \n",
       "param_kernel                                                rbf   \n",
       "params              {'gamma': 100, 'kernel': 'rbf', 'C': 0.001}   \n",
       "rank_test_score                                              27   \n",
       "split0_test_score                                         0.375   \n",
       "split0_train_score                                     0.363636   \n",
       "split1_test_score                                      0.347826   \n",
       "split1_train_score                                     0.370787   \n",
       "split2_test_score                                      0.363636   \n",
       "split2_train_score                                     0.366667   \n",
       "split3_test_score                                      0.363636   \n",
       "split3_train_score                                     0.366667   \n",
       "split4_test_score                                      0.380952   \n",
       "split4_train_score                                     0.362637   \n",
       "std_fit_time                                        0.000307447   \n",
       "std_score_time                                      0.000121458   \n",
       "std_test_score                                        0.0113708   \n",
       "std_train_score                                      0.00285176   \n",
       "\n",
       "                                                              6   \\\n",
       "mean_fit_time                                         0.00101743   \n",
       "mean_score_time                                      0.000385857   \n",
       "mean_test_score                                         0.366071   \n",
       "mean_train_score                                        0.366079   \n",
       "param_C                                                     0.01   \n",
       "param_gamma                                                0.001   \n",
       "param_kernel                                                 rbf   \n",
       "params              {'gamma': 0.001, 'kernel': 'rbf', 'C': 0.01}   \n",
       "rank_test_score                                               27   \n",
       "split0_test_score                                          0.375   \n",
       "split0_train_score                                      0.363636   \n",
       "split1_test_score                                       0.347826   \n",
       "split1_train_score                                      0.370787   \n",
       "split2_test_score                                       0.363636   \n",
       "split2_train_score                                      0.366667   \n",
       "split3_test_score                                       0.363636   \n",
       "split3_train_score                                      0.366667   \n",
       "split4_test_score                                       0.380952   \n",
       "split4_train_score                                      0.362637   \n",
       "std_fit_time                                         5.10645e-05   \n",
       "std_score_time                                       5.40085e-05   \n",
       "std_test_score                                         0.0113708   \n",
       "std_train_score                                       0.00285176   \n",
       "\n",
       "                                                             7   \\\n",
       "mean_fit_time                                       0.000987911   \n",
       "mean_score_time                                     0.000355053   \n",
       "mean_test_score                                        0.366071   \n",
       "mean_train_score                                       0.366079   \n",
       "param_C                                                    0.01   \n",
       "param_gamma                                                0.01   \n",
       "param_kernel                                                rbf   \n",
       "params              {'gamma': 0.01, 'kernel': 'rbf', 'C': 0.01}   \n",
       "rank_test_score                                              27   \n",
       "split0_test_score                                         0.375   \n",
       "split0_train_score                                     0.363636   \n",
       "split1_test_score                                      0.347826   \n",
       "split1_train_score                                     0.370787   \n",
       "split2_test_score                                      0.363636   \n",
       "split2_train_score                                     0.366667   \n",
       "split3_test_score                                      0.363636   \n",
       "split3_train_score                                     0.366667   \n",
       "split4_test_score                                      0.380952   \n",
       "split4_train_score                                     0.362637   \n",
       "std_fit_time                                        1.79456e-05   \n",
       "std_score_time                                      6.62855e-06   \n",
       "std_test_score                                        0.0113708   \n",
       "std_train_score                                      0.00285176   \n",
       "\n",
       "                                                            8   \\\n",
       "mean_fit_time                                       0.00105467   \n",
       "mean_score_time                                     0.00036149   \n",
       "mean_test_score                                       0.366071   \n",
       "mean_train_score                                      0.366079   \n",
       "param_C                                                   0.01   \n",
       "param_gamma                                                0.1   \n",
       "param_kernel                                               rbf   \n",
       "params              {'gamma': 0.1, 'kernel': 'rbf', 'C': 0.01}   \n",
       "rank_test_score                                             27   \n",
       "split0_test_score                                        0.375   \n",
       "split0_train_score                                    0.363636   \n",
       "split1_test_score                                     0.347826   \n",
       "split1_train_score                                    0.370787   \n",
       "split2_test_score                                     0.363636   \n",
       "split2_train_score                                    0.366667   \n",
       "split3_test_score                                     0.363636   \n",
       "split3_train_score                                    0.366667   \n",
       "split4_test_score                                     0.380952   \n",
       "split4_train_score                                    0.362637   \n",
       "std_fit_time                                       8.06888e-05   \n",
       "std_score_time                                     6.84789e-06   \n",
       "std_test_score                                       0.0113708   \n",
       "std_train_score                                     0.00285176   \n",
       "\n",
       "                                                          9   \\\n",
       "mean_fit_time                                     0.00099144   \n",
       "mean_score_time                                  0.000354528   \n",
       "mean_test_score                                     0.366071   \n",
       "mean_train_score                                    0.366079   \n",
       "param_C                                                 0.01   \n",
       "param_gamma                                                1   \n",
       "param_kernel                                             rbf   \n",
       "params              {'gamma': 1, 'kernel': 'rbf', 'C': 0.01}   \n",
       "rank_test_score                                           27   \n",
       "split0_test_score                                      0.375   \n",
       "split0_train_score                                  0.363636   \n",
       "split1_test_score                                   0.347826   \n",
       "split1_train_score                                  0.370787   \n",
       "split2_test_score                                   0.363636   \n",
       "split2_train_score                                  0.366667   \n",
       "split3_test_score                                   0.363636   \n",
       "split3_train_score                                  0.366667   \n",
       "split4_test_score                                   0.380952   \n",
       "split4_train_score                                  0.362637   \n",
       "std_fit_time                                     1.33928e-05   \n",
       "std_score_time                                   3.24109e-06   \n",
       "std_test_score                                     0.0113708   \n",
       "std_train_score                                   0.00285176   \n",
       "\n",
       "                                 ...                \\\n",
       "mean_fit_time                    ...                 \n",
       "mean_score_time                  ...                 \n",
       "mean_test_score                  ...                 \n",
       "mean_train_score                 ...                 \n",
       "param_C                          ...                 \n",
       "param_gamma                      ...                 \n",
       "param_kernel                     ...                 \n",
       "params                           ...                 \n",
       "rank_test_score                  ...                 \n",
       "split0_test_score                ...                 \n",
       "split0_train_score               ...                 \n",
       "split1_test_score                ...                 \n",
       "split1_train_score               ...                 \n",
       "split2_test_score                ...                 \n",
       "split2_train_score               ...                 \n",
       "split3_test_score                ...                 \n",
       "split3_train_score               ...                 \n",
       "split4_test_score                ...                 \n",
       "split4_train_score               ...                 \n",
       "std_fit_time                     ...                 \n",
       "std_score_time                   ...                 \n",
       "std_test_score                   ...                 \n",
       "std_train_score                  ...                 \n",
       "\n",
       "                                                           32  \\\n",
       "mean_fit_time                                     0.000536776   \n",
       "mean_score_time                                    0.00028491   \n",
       "mean_test_score                                      0.955357   \n",
       "mean_train_score                                     0.988788   \n",
       "param_C                                                   100   \n",
       "param_gamma                                               0.1   \n",
       "param_kernel                                              rbf   \n",
       "params              {'gamma': 0.1, 'kernel': 'rbf', 'C': 100}   \n",
       "rank_test_score                                             9   \n",
       "split0_test_score                                    0.958333   \n",
       "split0_train_score                                   0.988636   \n",
       "split1_test_score                                           1   \n",
       "split1_train_score                                   0.977528   \n",
       "split2_test_score                                           1   \n",
       "split2_train_score                                   0.977778   \n",
       "split3_test_score                                    0.863636   \n",
       "split3_train_score                                          1   \n",
       "split4_test_score                                    0.952381   \n",
       "split4_train_score                                          1   \n",
       "std_fit_time                                      1.93561e-05   \n",
       "std_score_time                                    3.01578e-06   \n",
       "std_test_score                                      0.0495662   \n",
       "std_train_score                                    0.00999451   \n",
       "\n",
       "                                                         33  \\\n",
       "mean_fit_time                                   0.000734282   \n",
       "mean_score_time                                 0.000303888   \n",
       "mean_test_score                                    0.946429   \n",
       "mean_train_score                                          1   \n",
       "param_C                                                 100   \n",
       "param_gamma                                               1   \n",
       "param_kernel                                            rbf   \n",
       "params              {'gamma': 1, 'kernel': 'rbf', 'C': 100}   \n",
       "rank_test_score                                          11   \n",
       "split0_test_score                                  0.916667   \n",
       "split0_train_score                                        1   \n",
       "split1_test_score                                         1   \n",
       "split1_train_score                                        1   \n",
       "split2_test_score                                         1   \n",
       "split2_train_score                                        1   \n",
       "split3_test_score                                  0.863636   \n",
       "split3_train_score                                        1   \n",
       "split4_test_score                                  0.952381   \n",
       "split4_train_score                                        1   \n",
       "std_fit_time                                    2.31172e-05   \n",
       "std_score_time                                    2.125e-06   \n",
       "std_test_score                                    0.0519227   \n",
       "std_train_score                                           0   \n",
       "\n",
       "                                                          34  \\\n",
       "mean_fit_time                                     0.00133491   \n",
       "mean_score_time                                  0.000343895   \n",
       "mean_test_score                                     0.919643   \n",
       "mean_train_score                                           1   \n",
       "param_C                                                  100   \n",
       "param_gamma                                               10   \n",
       "param_kernel                                             rbf   \n",
       "params              {'gamma': 10, 'kernel': 'rbf', 'C': 100}   \n",
       "rank_test_score                                           17   \n",
       "split0_test_score                                      0.875   \n",
       "split0_train_score                                         1   \n",
       "split1_test_score                                   0.956522   \n",
       "split1_train_score                                         1   \n",
       "split2_test_score                                          1   \n",
       "split2_train_score                                         1   \n",
       "split3_test_score                                   0.818182   \n",
       "split3_train_score                                         1   \n",
       "split4_test_score                                   0.952381   \n",
       "split4_train_score                                         1   \n",
       "std_fit_time                                     5.06827e-05   \n",
       "std_score_time                                   5.52102e-06   \n",
       "std_test_score                                     0.0647906   \n",
       "std_train_score                                            0   \n",
       "\n",
       "                                                           35  \\\n",
       "mean_fit_time                                      0.00138731   \n",
       "mean_score_time                                   0.000357342   \n",
       "mean_test_score                                        0.5625   \n",
       "mean_train_score                                            1   \n",
       "param_C                                                   100   \n",
       "param_gamma                                               100   \n",
       "param_kernel                                              rbf   \n",
       "params              {'gamma': 100, 'kernel': 'rbf', 'C': 100}   \n",
       "rank_test_score                                            24   \n",
       "split0_test_score                                    0.541667   \n",
       "split0_train_score                                          1   \n",
       "split1_test_score                                    0.478261   \n",
       "split1_train_score                                          1   \n",
       "split2_test_score                                    0.590909   \n",
       "split2_train_score                                          1   \n",
       "split3_test_score                                    0.590909   \n",
       "split3_train_score                                          1   \n",
       "split4_test_score                                    0.619048   \n",
       "split4_train_score                                          1   \n",
       "std_fit_time                                       3.0365e-05   \n",
       "std_score_time                                    5.84665e-06   \n",
       "std_test_score                                      0.0496678   \n",
       "std_train_score                                             0   \n",
       "\n",
       "                                                  36  \\\n",
       "mean_fit_time                             0.00064435   \n",
       "mean_score_time                          0.000303173   \n",
       "mean_test_score                             0.366071   \n",
       "mean_train_score                            0.366079   \n",
       "param_C                                        0.001   \n",
       "param_gamma                                      NaN   \n",
       "param_kernel                                  linear   \n",
       "params              {'kernel': 'linear', 'C': 0.001}   \n",
       "rank_test_score                                   27   \n",
       "split0_test_score                              0.375   \n",
       "split0_train_score                          0.363636   \n",
       "split1_test_score                           0.347826   \n",
       "split1_train_score                          0.370787   \n",
       "split2_test_score                           0.363636   \n",
       "split2_train_score                          0.366667   \n",
       "split3_test_score                           0.363636   \n",
       "split3_train_score                          0.366667   \n",
       "split4_test_score                           0.380952   \n",
       "split4_train_score                          0.362637   \n",
       "std_fit_time                             2.97632e-06   \n",
       "std_score_time                           3.41064e-06   \n",
       "std_test_score                             0.0113708   \n",
       "std_train_score                           0.00285176   \n",
       "\n",
       "                                                 37  \\\n",
       "mean_fit_time                           0.000588131   \n",
       "mean_score_time                         0.000296116   \n",
       "mean_test_score                            0.848214   \n",
       "mean_train_score                           0.855069   \n",
       "param_C                                        0.01   \n",
       "param_gamma                                     NaN   \n",
       "param_kernel                                 linear   \n",
       "params              {'kernel': 'linear', 'C': 0.01}   \n",
       "rank_test_score                                  21   \n",
       "split0_test_score                          0.916667   \n",
       "split0_train_score                         0.886364   \n",
       "split1_test_score                          0.826087   \n",
       "split1_train_score                          0.88764   \n",
       "split2_test_score                          0.818182   \n",
       "split2_train_score                         0.866667   \n",
       "split3_test_score                          0.772727   \n",
       "split3_train_score                         0.755556   \n",
       "split4_test_score                          0.904762   \n",
       "split4_train_score                         0.879121   \n",
       "std_fit_time                            5.94499e-06   \n",
       "std_score_time                          1.93692e-06   \n",
       "std_test_score                            0.0547783   \n",
       "std_train_score                           0.0503114   \n",
       "\n",
       "                                                38  \\\n",
       "mean_fit_time                          0.000499773   \n",
       "mean_score_time                        0.000283098   \n",
       "mean_test_score                           0.946429   \n",
       "mean_train_score                          0.966538   \n",
       "param_C                                        0.1   \n",
       "param_gamma                                    NaN   \n",
       "param_kernel                                linear   \n",
       "params              {'kernel': 'linear', 'C': 0.1}   \n",
       "rank_test_score                                 11   \n",
       "split0_test_score                         0.958333   \n",
       "split0_train_score                        0.965909   \n",
       "split1_test_score                         0.913043   \n",
       "split1_train_score                        0.977528   \n",
       "split2_test_score                                1   \n",
       "split2_train_score                        0.944444   \n",
       "split3_test_score                         0.909091   \n",
       "split3_train_score                        0.977778   \n",
       "split4_test_score                         0.952381   \n",
       "split4_train_score                        0.967033   \n",
       "std_fit_time                           4.92645e-06   \n",
       "std_score_time                         1.26699e-06   \n",
       "std_test_score                           0.0332185   \n",
       "std_train_score                          0.0121316   \n",
       "\n",
       "                                              39  \\\n",
       "mean_fit_time                        0.000495577   \n",
       "mean_score_time                      0.000280094   \n",
       "mean_test_score                         0.973214   \n",
       "mean_train_score                        0.984368   \n",
       "param_C                                        1   \n",
       "param_gamma                                  NaN   \n",
       "param_kernel                              linear   \n",
       "params              {'kernel': 'linear', 'C': 1}   \n",
       "rank_test_score                                1   \n",
       "split0_test_score                              1   \n",
       "split0_train_score                      0.988636   \n",
       "split1_test_score                       0.956522   \n",
       "split1_train_score                      0.977528   \n",
       "split2_test_score                              1   \n",
       "split2_train_score                      0.977778   \n",
       "split3_test_score                       0.954545   \n",
       "split3_train_score                      0.988889   \n",
       "split4_test_score                       0.952381   \n",
       "split4_train_score                      0.989011   \n",
       "std_fit_time                         2.17798e-05   \n",
       "std_score_time                       7.55813e-06   \n",
       "std_test_score                         0.0223995   \n",
       "std_train_score                       0.00548507   \n",
       "\n",
       "                                               40  \\\n",
       "mean_fit_time                         0.000488043   \n",
       "mean_score_time                       0.000271463   \n",
       "mean_test_score                          0.964286   \n",
       "mean_train_score                         0.988813   \n",
       "param_C                                        10   \n",
       "param_gamma                                   NaN   \n",
       "param_kernel                               linear   \n",
       "params              {'kernel': 'linear', 'C': 10}   \n",
       "rank_test_score                                 3   \n",
       "split0_test_score                        0.958333   \n",
       "split0_train_score                       0.988636   \n",
       "split1_test_score                               1   \n",
       "split1_train_score                       0.988764   \n",
       "split2_test_score                               1   \n",
       "split2_train_score                       0.977778   \n",
       "split3_test_score                        0.909091   \n",
       "split3_train_score                       0.988889   \n",
       "split4_test_score                        0.952381   \n",
       "split4_train_score                              1   \n",
       "std_fit_time                          2.19842e-05   \n",
       "std_score_time                        1.36212e-06   \n",
       "std_test_score                          0.0338387   \n",
       "std_train_score                        0.00702801   \n",
       "\n",
       "                                                41  \n",
       "mean_fit_time                          0.000505495  \n",
       "mean_score_time                        0.000272083  \n",
       "mean_test_score                           0.964286  \n",
       "mean_train_score                          0.993258  \n",
       "param_C                                        100  \n",
       "param_gamma                                    NaN  \n",
       "param_kernel                                linear  \n",
       "params              {'kernel': 'linear', 'C': 100}  \n",
       "rank_test_score                                  3  \n",
       "split0_test_score                         0.958333  \n",
       "split0_train_score                        0.988636  \n",
       "split1_test_score                                1  \n",
       "split1_train_score                        0.988764  \n",
       "split2_test_score                                1  \n",
       "split2_train_score                        0.988889  \n",
       "split3_test_score                         0.909091  \n",
       "split3_train_score                               1  \n",
       "split4_test_score                         0.952381  \n",
       "split4_train_score                               1  \n",
       "std_fit_time                           4.72643e-05  \n",
       "std_score_time                         3.48581e-06  \n",
       "std_test_score                           0.0338387  \n",
       "std_train_score                         0.00550551  \n",
       "\n",
       "[23 rows x 42 columns]"
      ]
     },
     "metadata": {},
     "output_type": "display_data"
    }
   ],
   "source": [
    "results = pd.DataFrame(grid_search.cv_results_)\n",
    "# we display the transposed table so that it better fits on the page:\n",
    "display(results.T)"
   ]
  },
  {
   "cell_type": "markdown",
   "metadata": {
    "collapsed": true,
    "slideshow": {
     "slide_type": "slide"
    }
   },
   "source": [
    "## Extra info\n",
    "\n",
    "\n",
    "* You can Parallelize the cross-validation and grid search by passing the option `n_jobs=-1`\n",
    "\n",
    "* GridSearchCV uses stratified *k*-fold cross-validation by default. But you can change it by passing a different\n",
    "instruction to the **cv** variable. eg. \n",
    "\n",
    "    ```from sklearn.model_selection import LeaveOneOut\n",
    "  loo = LeaveOneOut()\n",
    "  grid_search = GridSearchCV(SVC(), param_grid, cv=loo)```\n",
    "\n"
   ]
  },
  {
   "cell_type": "markdown",
   "metadata": {
    "collapsed": true,
    "slideshow": {
     "slide_type": "slide"
    }
   },
   "source": [
    "# Algorithm Chains and Pipelines\n",
    "\n",
    "<a href=\"#/1/1\">(Index)</a>"
   ]
  },
  {
   "cell_type": "markdown",
   "metadata": {
    "collapsed": true,
    "slideshow": {
     "slide_type": "slide"
    }
   },
   "source": [
    "## Pipeline and GridSearchCV Classes\n",
    "\n",
    "A machine learning problem usually includes:\n",
    "\n",
    "* Scaling the data and combining features by hand. Learning features using unsupervised machine learning.\n",
    "\n",
    "* Chaining together many different processing steps and machine learning models."
   ]
  },
  {
   "cell_type": "code",
   "execution_count": 14,
   "metadata": {
    "slideshow": {
     "slide_type": "slide"
    }
   },
   "outputs": [
    {
     "name": "stdout",
     "output_type": "stream",
     "text": [
      "Test score: 0.95\n"
     ]
    }
   ],
   "source": [
    "from sklearn.svm import SVC\n",
    "from sklearn.datasets import load_breast_cancer\n",
    "from sklearn.model_selection import train_test_split\n",
    "from sklearn.preprocessing import MinMaxScaler\n",
    "\n",
    "# load and split the data\n",
    "cancer = load_breast_cancer() \n",
    "X_train, X_test, y_train, y_test = train_test_split(cancer.data, cancer.target, random_state=0)\n",
    "\n",
    "# compute minimum and maximum on the training data\n",
    "scaler = MinMaxScaler().fit(X_train)\n",
    "\n",
    "# rescale the training data\n",
    "X_train_scaled = scaler.transform(X_train)\n",
    "svm = SVC()\n",
    "\n",
    "# learn an SVM on the scaled training data\n",
    "svm.fit(X_train_scaled, y_train)\n",
    "\n",
    "# scale the test data and score the scaled data\n",
    "X_test_scaled = scaler.transform(X_test)\n",
    "print(\"Test score: {:.2f}\".format(svm.score(X_test_scaled, y_test)))"
   ]
  },
  {
   "cell_type": "markdown",
   "metadata": {
    "collapsed": true,
    "slideshow": {
     "slide_type": "slide"
    }
   },
   "source": [
    "## Parameter Selection with Preprocessing\n",
    "\n",
    "* Find the best parameters for *SVC* using *GridSearch* $\\to$ Just add the grid parameters.\n"
   ]
  },
  {
   "cell_type": "code",
   "execution_count": 15,
   "metadata": {
    "scrolled": true,
    "slideshow": {
     "slide_type": "-"
    }
   },
   "outputs": [
    {
     "name": "stdout",
     "output_type": "stream",
     "text": [
      "Best cross-validation accuracy: 0.98\n",
      "Best set score: 0.97\n",
      "Best parameters:  {'gamma': 1, 'C': 1}\n"
     ]
    }
   ],
   "source": [
    "from sklearn.model_selection import GridSearchCV\n",
    "\n",
    "param_grid = {'C': [0.001, 0.01, 0.1, 1, 10, 100],\n",
    "'gamma': [0.001, 0.01, 0.1, 1, 10, 100]}\n",
    "grid = GridSearchCV(SVC(), param_grid=param_grid, cv=5)\n",
    "grid.fit(X_train_scaled, y_train)\n",
    "print(\"Best cross-validation accuracy: {:.2f}\".format(grid.best_score_))\n",
    "print(\"Best set score: {:.2f}\".format(grid.score(X_test_scaled, y_test)))\n",
    "print(\"Best parameters: \", grid.best_params_)"
   ]
  },
  {
   "cell_type": "markdown",
   "metadata": {
    "collapsed": true,
    "slideshow": {
     "slide_type": "slide"
    }
   },
   "source": [
    "# ERROR $\\Rightarrow$ The grid search is done using the scaled data!\n",
    "* But the scaled data was done on the whole data in the training set.\n",
    "* For each split in the cross-validation some information is leaked from the test set into the training set."
   ]
  },
  {
   "cell_type": "markdown",
   "metadata": {
    "slideshow": {
     "slide_type": "slide"
    }
   },
   "source": [
    "<center><img src=\"./images/04-pipelines.png\" alt=\"Drawing\" style=\"width:1500px\" align=\"middle\"/></center>\n",
    "\n",
    "\n"
   ]
  },
  {
   "cell_type": "markdown",
   "metadata": {
    "collapsed": true,
    "slideshow": {
     "slide_type": "slide"
    }
   },
   "source": [
    "# The *Pipeline* Class\n",
    "\n",
    "You can create a *workflow* for training and classification after preprocessing."
   ]
  },
  {
   "cell_type": "code",
   "execution_count": 16,
   "metadata": {
    "slideshow": {
     "slide_type": "-"
    }
   },
   "outputs": [
    {
     "name": "stdout",
     "output_type": "stream",
     "text": [
      "Test score: 0.95\n"
     ]
    }
   ],
   "source": [
    "from sklearn.pipeline import Pipeline\n",
    "pipe = Pipeline([(\"scaler\", MinMaxScaler()), (\"svm\", SVC())])\n",
    "pipe.fit(X_train, y_train)\n",
    "print(\"Test score: {:.2f}\".format(pipe.score(X_test, y_test)))\n"
   ]
  },
  {
   "cell_type": "markdown",
   "metadata": {
    "collapsed": true,
    "slideshow": {
     "slide_type": "slide"
    }
   },
   "source": [
    "## Pipelines in Grid Searches\n",
    "Pipelines and grid search are combined in the same way that any estimator.\n"
   ]
  },
  {
   "cell_type": "code",
   "execution_count": 17,
   "metadata": {
    "scrolled": true,
    "slideshow": {
     "slide_type": "-"
    }
   },
   "outputs": [
    {
     "name": "stdout",
     "output_type": "stream",
     "text": [
      "Best cross-validation accuracy: 0.98\n",
      "Test set score: 0.97\n",
      "Best parameters: {'svm__gamma': 1, 'svm__C': 1}\n"
     ]
    }
   ],
   "source": [
    "param_grid = {'svm__C': [0.001, 0.01, 0.1, 1, 10, 100],\n",
    "               'svm__gamma': [0.001, 0.01, 0.1, 1, 10, 100]}\n",
    "\n",
    "grid = GridSearchCV(pipe, param_grid=param_grid, cv=5)\n",
    "grid.fit(X_train, y_train)\n",
    "print(\"Best cross-validation accuracy: {:.2f}\".format(grid.best_score_))\n",
    "print(\"Test set score: {:.2f}\".format(grid.score(X_test, y_test)))\n",
    "print(\"Best parameters: {}\".format(grid.best_params_))"
   ]
  },
  {
   "cell_type": "markdown",
   "metadata": {
    "collapsed": true,
    "slideshow": {
     "slide_type": "slide"
    }
   },
   "source": [
    "# Information Leakage\n",
    "\n",
    "Example adapted from *The Elements of Statistical Learning*."
   ]
  },
  {
   "cell_type": "code",
   "execution_count": 18,
   "metadata": {
    "collapsed": true,
    "slideshow": {
     "slide_type": "-"
    }
   },
   "outputs": [],
   "source": [
    "rnd = np.random.RandomState(seed=0)\n",
    "X = rnd.normal(size=(100, 10000))\n",
    "y = rnd.normal(size=(100,))"
   ]
  },
  {
   "cell_type": "code",
   "execution_count": 19,
   "metadata": {
    "slideshow": {
     "slide_type": "-"
    }
   },
   "outputs": [
    {
     "name": "stdout",
     "output_type": "stream",
     "text": [
      "X_selected.shape: (100, 500)\n"
     ]
    }
   ],
   "source": [
    "from sklearn.feature_selection import SelectPercentile, f_regression\n",
    "select = SelectPercentile(score_func=f_regression, percentile=5).fit(X, y)\n",
    "X_selected = select.transform(X)\n",
    "print(\"X_selected.shape: {}\".format(X_selected.shape))"
   ]
  },
  {
   "cell_type": "code",
   "execution_count": 20,
   "metadata": {
    "slideshow": {
     "slide_type": "-"
    }
   },
   "outputs": [
    {
     "name": "stdout",
     "output_type": "stream",
     "text": [
      "Cross-validation accuracy (cv only on ridge): 0.91\n"
     ]
    }
   ],
   "source": [
    "from sklearn.model_selection import cross_val_score\n",
    "from sklearn.linear_model import Ridge\n",
    "print(\"Cross-validation accuracy (cv only on ridge): {:.2f}\".format(\n",
    "    np.mean(cross_val_score(Ridge(), X_selected, y, cv=5))))"
   ]
  },
  {
   "cell_type": "markdown",
   "metadata": {
    "slideshow": {
     "slide_type": "-"
    }
   },
   "source": [
    "$R^2$ computed by cross-validation is 0.91 $\\to$ a very good model. **ERROR**"
   ]
  },
  {
   "cell_type": "markdown",
   "metadata": {
    "slideshow": {
     "slide_type": "slide"
    }
   },
   "source": [
    "## Proper model with cross-validation using a pipeline"
   ]
  },
  {
   "cell_type": "code",
   "execution_count": 21,
   "metadata": {
    "slideshow": {
     "slide_type": "-"
    }
   },
   "outputs": [
    {
     "name": "stdout",
     "output_type": "stream",
     "text": [
      "Cross-validation accuracy (pipeline): -0.25\n"
     ]
    }
   ],
   "source": [
    "pipe = Pipeline([(\"select\", SelectPercentile(score_func=f_regression, \n",
    "                                             percentile=5)),\n",
    "               (\"ridge\", Ridge())])\n",
    "print(\"Cross-validation accuracy (pipeline): {:.2f}\".format(\n",
    "np.mean(cross_val_score(pipe, X, y, cv=5))))"
   ]
  },
  {
   "cell_type": "markdown",
   "metadata": {
    "slideshow": {
     "slide_type": "-"
    }
   },
   "source": [
    "a negative $R^2$ score, indicating a very poor model."
   ]
  },
  {
   "cell_type": "markdown",
   "metadata": {
    "slideshow": {
     "slide_type": "slide"
    }
   },
   "source": [
    "## Pipeline Creation with make_pipeline"
   ]
  },
  {
   "cell_type": "code",
   "execution_count": 22,
   "metadata": {
    "slideshow": {
     "slide_type": "-"
    }
   },
   "outputs": [
    {
     "name": "stdout",
     "output_type": "stream",
     "text": [
      "Pipeline steps:\n",
      "[('minmaxscaler', MinMaxScaler(copy=True, feature_range=(0, 1))), ('svc', SVC(C=100, cache_size=200, class_weight=None, coef0=0.0,\n",
      "  decision_function_shape=None, degree=3, gamma='auto', kernel='rbf',\n",
      "  max_iter=-1, probability=False, random_state=None, shrinking=True,\n",
      "  tol=0.001, verbose=False))]\n"
     ]
    }
   ],
   "source": [
    "from sklearn.pipeline import make_pipeline\n",
    "# standard syntax\n",
    "pipe_long = Pipeline([(\"scaler\", MinMaxScaler()), (\"svm\", SVC(C=100))])\n",
    "# abbreviated syntax\n",
    "pipe_short = make_pipeline(MinMaxScaler(), SVC(C=100))\n",
    "\n",
    "print(\"Pipeline steps:\\n{}\".format(pipe_short.steps))"
   ]
  },
  {
   "cell_type": "markdown",
   "metadata": {
    "slideshow": {
     "slide_type": "-"
    }
   },
   "source": [
    "In general, the step names are just lowercase versions of the class names."
   ]
  },
  {
   "cell_type": "code",
   "execution_count": 23,
   "metadata": {
    "slideshow": {
     "slide_type": "slide"
    }
   },
   "outputs": [
    {
     "name": "stdout",
     "output_type": "stream",
     "text": [
      "Pipeline steps:\n",
      "[('standardscaler-1', StandardScaler(copy=True, with_mean=True, with_std=True)), ('pca', PCA(copy=True, iterated_power='auto', n_components=2, random_state=None,\n",
      "  svd_solver='auto', tol=0.0, whiten=False)), ('standardscaler-2', StandardScaler(copy=True, with_mean=True, with_std=True))]\n"
     ]
    }
   ],
   "source": [
    "from sklearn.preprocessing import StandardScaler\n",
    "from sklearn.decomposition import PCA\n",
    "\n",
    "pipe = make_pipeline(StandardScaler(), PCA(n_components=2), StandardScaler())\n",
    "print(\"Pipeline steps:\\n{}\".format(pipe.steps))"
   ]
  },
  {
   "cell_type": "markdown",
   "metadata": {
    "slideshow": {
     "slide_type": "-"
    }
   },
   "source": [
    "**Note:** In this case it might be better to use the Pipeline construction with explicit name."
   ]
  },
  {
   "cell_type": "markdown",
   "metadata": {
    "slideshow": {
     "slide_type": "slide"
    }
   },
   "source": [
    "## Grid-Searching Preprocessing Steps and Model Parameters"
   ]
  },
  {
   "cell_type": "code",
   "execution_count": 24,
   "metadata": {
    "collapsed": true,
    "slideshow": {
     "slide_type": "-"
    }
   },
   "outputs": [],
   "source": [
    "from sklearn.datasets import load_boston\n",
    "from sklearn.preprocessing import PolynomialFeatures\n",
    "\n",
    "boston = load_boston()\n",
    "X_train, X_test, y_train, y_test = train_test_split(boston.data, boston.target,random_state=0)\n",
    "\n",
    "pipe = make_pipeline(StandardScaler(),PolynomialFeatures(),Ridge())"
   ]
  },
  {
   "cell_type": "code",
   "execution_count": 25,
   "metadata": {
    "slideshow": {
     "slide_type": "-"
    }
   },
   "outputs": [
    {
     "data": {
      "text/plain": [
       "GridSearchCV(cv=5, error_score='raise',\n",
       "       estimator=Pipeline(steps=[('standardscaler', StandardScaler(copy=True, with_mean=True, with_std=True)), ('polynomialfeatures', PolynomialFeatures(degree=2, include_bias=True, interaction_only=False)), ('ridge', Ridge(alpha=1.0, copy_X=True, fit_intercept=True, max_iter=None,\n",
       "   normalize=False, random_state=None, solver='auto', tol=0.001))]),\n",
       "       fit_params={}, iid=True, n_jobs=-1,\n",
       "       param_grid={'ridge__alpha': [0.001, 0.01, 0.1, 1, 10, 100], 'polynomialfeatures__degree': [1, 2, 3]},\n",
       "       pre_dispatch='2*n_jobs', refit=True, return_train_score=True,\n",
       "       scoring=None, verbose=0)"
      ]
     },
     "execution_count": 25,
     "metadata": {},
     "output_type": "execute_result"
    }
   ],
   "source": [
    "param_grid = {'polynomialfeatures__degree': [1, 2, 3],\n",
    "              'ridge__alpha': [0.001, 0.01, 0.1, 1, 10, 100]}\n",
    "\n",
    "grid = GridSearchCV(pipe, param_grid=param_grid, cv=5, n_jobs=-1)\n",
    "grid.fit(X_train, y_train)"
   ]
  },
  {
   "cell_type": "code",
   "execution_count": 26,
   "metadata": {
    "slideshow": {
     "slide_type": "slide"
    }
   },
   "outputs": [
    {
     "data": {
      "text/plain": [
       "<matplotlib.colorbar.Colorbar at 0x7face2d46f28>"
      ]
     },
     "execution_count": 26,
     "metadata": {},
     "output_type": "execute_result"
    },
    {
     "data": {
      "text/plain": [
       "<matplotlib.figure.Figure at 0x7face2daba20>"
      ]
     },
     "metadata": {},
     "output_type": "display_data"
    },
    {
     "data": {
      "image/png": "[encoded data removed]",
      "text/plain": [
       "<matplotlib.figure.Figure at 0x7face2ee8dd8>"
      ]
     },
     "metadata": {},
     "output_type": "display_data"
    }
   ],
   "source": [
    "plt.figure(figsize=(12,8))\n",
    "plt.matshow(grid.cv_results_['mean_test_score'].reshape(3, -1),\n",
    "            vmin=0, cmap=\"viridis\")\n",
    "plt.xlabel(\"ridge__alpha\")\n",
    "plt.ylabel(\"polynomialfeatures__degree\")\n",
    "plt.xticks(range(len(param_grid['ridge__alpha'])), param_grid['ridge__alpha'])\n",
    "plt.yticks(range(len(param_grid['polynomialfeatures__degree'])),\n",
    "param_grid['polynomialfeatures__degree'])\n",
    "plt.colorbar()"
   ]
  },
  {
   "cell_type": "code",
   "execution_count": 27,
   "metadata": {
    "slideshow": {
     "slide_type": "-"
    }
   },
   "outputs": [
    {
     "name": "stdout",
     "output_type": "stream",
     "text": [
      "Best parameters: {'ridge__alpha': 10, 'polynomialfeatures__degree': 2}\n",
      "Test-set score: 0.77\n"
     ]
    }
   ],
   "source": [
    "print(\"Best parameters: {}\".format(grid.best_params_))\n",
    "print(\"Test-set score: {:.2f}\".format(grid.score(X_test, y_test)))"
   ]
  },
  {
   "cell_type": "markdown",
   "metadata": {
    "slideshow": {
     "slide_type": "slide"
    }
   },
   "source": [
    "## Exhaustive Grid Search\n",
    "* Again, it is not a recomendable strategy.\n",
    "* If your dataset is large you can try on a random subset."
   ]
  },
  {
   "cell_type": "code",
   "execution_count": 28,
   "metadata": {
    "collapsed": true,
    "slideshow": {
     "slide_type": "-"
    }
   },
   "outputs": [],
   "source": [
    "from sklearn.ensemble import RandomForestClassifier\n",
    "\n",
    "pipe = Pipeline([('preprocessing', StandardScaler()), ('classifier', SVC())])\n",
    "\n",
    "param_grid = [\n",
    "    {'classifier': [SVC()], 'preprocessing': [StandardScaler(), None],\n",
    "     'classifier__gamma': [0.001, 0.01, 0.1, 1, 10, 100],\n",
    "     'classifier__C': [0.001, 0.01, 0.1, 1, 10, 100]},\n",
    "    {'classifier': [RandomForestClassifier(n_estimators=100)],\n",
    "     'preprocessing': [None], 'classifier__max_features': [1, 2, 3]}]"
   ]
  },
  {
   "cell_type": "code",
   "execution_count": 29,
   "metadata": {
    "slideshow": {
     "slide_type": "slide"
    }
   },
   "outputs": [
    {
     "name": "stdout",
     "output_type": "stream",
     "text": [
      "Best params:\n",
      "{'preprocessing': StandardScaler(copy=True, with_mean=True, with_std=True), 'classifier__C': 10, 'classifier__gamma': 0.01, 'classifier': SVC(C=10, cache_size=200, class_weight=None, coef0=0.0,\n",
      "  decision_function_shape=None, degree=3, gamma=0.01, kernel='rbf',\n",
      "  max_iter=-1, probability=False, random_state=None, shrinking=True,\n",
      "  tol=0.001, verbose=False)}\n",
      "\n",
      "Best cross-validation score: 0.99\n",
      "Test-set score: 0.98\n"
     ]
    }
   ],
   "source": [
    "X_train, X_test, y_train, y_test = train_test_split(cancer.data, cancer.target, random_state=0)\n",
    "grid = GridSearchCV(pipe, param_grid, cv=5)\n",
    "grid.fit(X_train, y_train)\n",
    "\n",
    "print(\"Best params:\\n{}\\n\".format(grid.best_params_))\n",
    "print(\"Best cross-validation score: {:.2f}\".format(grid.best_score_))\n",
    "print(\"Test-set score: {:.2f}\".format(grid.score(X_test, y_test)))"
   ]
  },
  {
   "cell_type": "markdown",
   "metadata": {
    "slideshow": {
     "slide_type": "slide"
    }
   },
   "source": [
    "## Randomized Parameter Optimization\n",
    "\n",
    "`RandomizedSearchCV` implements a randomized search over parameters, where each setting is sampled from a distribution over possible parameter values.\n",
    "\n",
    "Advantages:\n",
    "* A budget can be chosen independent of the number of parameters and possible values.\n",
    "* Adding parameters that do not influence the performance does not decrease efficiency.\n",
    "\n",
    "See: Bergstra, J. and Bengio, Y., Random search for hyper-parameter optimization, The Journal of Machine Learning Research (2012)."
   ]
  },
  {
   "cell_type": "markdown",
   "metadata": {
    "slideshow": {
     "slide_type": "slide"
    }
   },
   "source": [
    "# Conclusions\n",
    "* Split into training data for model building, validation data for model and parameter selection, and test data for model evaluation.\n",
    "* The Pipeline class is a general-purpose tool to chain together multiple processing steps in a machine learning workflow.\n",
    "* Choosing the right combination of feature extraction, preprocessing, and models is somewhat of an art, and often requires some trial and error."
   ]
  },
  {
   "cell_type": "markdown",
   "metadata": {
    "slideshow": {
     "slide_type": "slide"
    }
   },
   "source": [
    "## Tips for parameter search\n",
    "\n",
    "* **Specifying an objective metric**. For some applications, other scoring functions are better suited\n",
    "* **Specifying multiple metrics for evaluation**. `GridSearchCV` and `RandomizedSearchCV` allow specifying multiple metrics for the scoring parameter.\n",
    "* **Composite estimators and parameter spaces**. Use pipelines and caching transformers to avoid repeated computation. See `sklearn` manual.\n",
    "* **Model selection: development and evaluation**. This can be done by using `the train_test_split` utility function.\n",
    "* **Parallelism**.\n",
    "* **Robustness to failure**. Setting `error_score=0` (or `=np.NaN`) will make the procedure robust to such failure."
   ]
  },
  {
   "cell_type": "markdown",
   "metadata": {
    "slideshow": {
     "slide_type": "slide"
    }
   },
   "source": [
    "## Alternatives to brute force parameter search\n",
    "\n",
    "* **Model specific cross-validation**. Some models can fit data for a range of values of some parameter almost as efficiently as fitting the estimator for a single value of the parameter. This feature can be leveraged to perform a more efficient cross-validation used for model selection of this parameter. eg. `linear_model.RidgeCV`,\n",
    "`linear_model.RidgeClassifierCV `, `linear_model.LogisticRegressionCV`.\n",
    "* ** Information Criterion**. Some models can offer an information-theoretic closed-form formula of the optimal estimate of the regularization parameter by computing a single regularization path (instead of several when using cross-validation). eg. `linear_model.LassoLarsIC`\n",
    "* **Out of Bag Estimates**. When using ensemble methods base upon bagging, i.e. generating new training sets using sampling with replacement, part of the training set remains unused. For each classifier in the ensemble, a different part of the training set is left out. eg. `ensemble.RandomForestClassifier`, `ensemble.GradientBoostingClassifier`\n",
    "\n",
    "\n"
   ]
  },
  {
   "cell_type": "markdown",
   "metadata": {
    "slideshow": {
     "slide_type": "slide"
    }
   },
   "source": [
    "# Homework 4\n",
    "\n",
    "* On the 20 Newsgroups data set use two classifiers and optimize their parameters using grid-search and pipelines. Report accuracy and computational time. "
   ]
  }
 ],
 "metadata": {
  "kernelspec": {
   "display_name": "Python [default]",
   "language": "python",
   "name": "python3"
  },
  "language_info": {
   "codemirror_mode": {
    "name": "ipython",
    "version": 3
   },
   "file_extension": ".py",
   "mimetype": "text/x-python",
   "name": "python",
   "nbconvert_exporter": "python",
   "pygments_lexer": "ipython3",
   "version": "3.5.2"
  },
  "latex_metadata": {
   "author": "Andreas C. M\\\"ller",
   "title": "Machine Learning with Python"
  }
 },
 "nbformat": 4,
 "nbformat_minor": 1
}
