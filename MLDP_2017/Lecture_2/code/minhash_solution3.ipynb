{
 "cells": [
  {
   "cell_type": "code",
   "execution_count": 5,
   "metadata": {
    "collapsed": true
   },
   "outputs": [],
   "source": [
    "import numpy\n",
    "import os\n",
    "import re\n",
    "import binascii\n",
    "from time import time"
   ]
  },
  {
   "cell_type": "code",
   "execution_count": 6,
   "metadata": {
    "collapsed": true
   },
   "outputs": [],
   "source": [
    "def get_fnames():\n",
    "    \"\"\"Read all text files in a folder.\n",
    "    \"\"\"\n",
    "    fnames = []\n",
    "    for root,_,files in os.walk(\"./awd_1990_00\"):\n",
    "        for fname in files:\n",
    "            if fname[-4:] == \".txt\":\n",
    "                fnames.append(os.path.join(root, fname))\n",
    "    return fnames"
   ]
  },
  {
   "cell_type": "code",
   "execution_count": 7,
   "metadata": {},
   "outputs": [
    {
     "name": "stdout",
     "output_type": "stream",
     "text": [
      "number of different files: 379\n"
     ]
    }
   ],
   "source": [
    "print(\"number of different files: {}\".format(len(get_fnames())))"
   ]
  },
  {
   "cell_type": "code",
   "execution_count": 8,
   "metadata": {},
   "outputs": [
    {
     "name": "stdout",
     "output_type": "stream",
     "text": [
      "This award provides partial travel support for approximately 25 US academic researchers to the Second World Congress on Particulate Technology scheduled for September 19-22, 1990 in Kyoto, Japan. This Congress is expected to draw 250 papers and 500 to 700 attendees from around the world. Topics to be covered include particle formation, dispersion, conveying, agglomeration, attrition, separation, and characterization. Particle processing is of very great importance to the chemical, minerals, energy, and high-tech material industries. The Congress provides a favorable forum for assessing the state-of-the-art world wide, but especially in Japan, of a wide range of topics relevant to particle processing.\n"
     ]
    }
   ],
   "source": [
    "# just open one file and read its abstract\n",
    "def read_file(fname):\n",
    "    with open(fname, 'r') as f:\n",
    "        # skip all lines until abstract\n",
    "        for line in f:\n",
    "            if \"Abstract    :\" in line:\n",
    "                break\n",
    "\n",
    "        # get abstract as a single string\n",
    "        abstract = ' '.join([line[:-1].strip() for line in f])\n",
    "        abstract = re.sub(' +', ' ', abstract)  # remove double spaces\n",
    "        return abstract\n",
    "\n",
    "fname = get_fnames()[1]\n",
    "print(read_file(fname))"
   ]
  },
  {
   "cell_type": "code",
   "execution_count": null,
   "metadata": {
    "collapsed": true
   },
   "outputs": [],
   "source": []
  },
  {
   "cell_type": "code",
   "execution_count": 48,
   "metadata": {
    "collapsed": true
   },
   "outputs": [],
   "source": [
    "def get_shingles(fname, k=5):\n",
    "    \"\"\"Get all shingles from requested file (hashes of these shingles)\n",
    "    \"\"\"\n",
    "    with open(fname, 'r') as f:\n",
    "        # skip all lines until abstract\n",
    "        for line in f:\n",
    "            if \"Abstract    :\" in line:\n",
    "                break\n",
    "\n",
    "        # get abstract as a single string\n",
    "        abstract = ' '.join([line[:-1].strip() for line in f])\n",
    "        abstract = re.sub(' +', ' ', abstract)  # remove double spaces\n",
    "\n",
    "        L = len(abstract)\n",
    "        shingles = set()  # we use a set to automatically eliminate duplicates\n",
    "        for i in range(L-k+1):\n",
    "            shingle = abstract[i:i+k]\n",
    "            crc = binascii.crc32(shingle.encode('utf-8')) #& 0xffffffff  # hash the shingle to a 32-bit integer\n",
    "            shingles.add(crc)\n",
    "        return shingles"
   ]
  },
  {
   "cell_type": "code",
   "execution_count": 50,
   "metadata": {},
   "outputs": [
    {
     "name": "stdout",
     "output_type": "stream",
     "text": [
      "file: ./awd_1990_00/a9000616.txt\n",
      "number of shingles: {3361847299, 2713403395, 1296771077, 137453574, 37695495, 857438213, 2456297481, 2888189962, 14372875, 658997258, 1828335626, 1670995982, 34060303, 4021045262, 430532625, 2113132561, 3216736276, 3154360341, 2863618070, 1125644311, 3245344760, 4015761434, 3308625947, 1727701024, 664975393, 436064291, 501809188, 2469187621, 3785351205, 362821671, 2856216616, 1320001576, 3211124778, 2725929, 1521160241, 2632302643, 163579958, 1901307960, 2464399419, 816592956, 1271562299, 4241432638, 3987564607, 2944514112, 2464337983, 550928451, 2776748101, 1667596359, 4257503303, 640391242, 2931046475, 646971469, 1993803857, 1665697875, 3801481299, 2694608980, 2647879770, 857421914, 1617389660, 3890397274, 2137485406, 880779359, 668231772, 585338670, 1757171810, 3981740130, 4163760227, 2520060005, 2869434469, 3864469612, 309430383, 3285661809, 3877527667, 934627444, 2658050163, 4068431994, 1335406717, 2058692734, 4264804479, 4234197119, 683419777, 895764605, 856719491, 2986479751, 1651011720, 3128488079, 2176290959, 3233564816, 1786366100, 215212182, 3527944350, 167291041, 15169700, 1694079148, 2976727214, 3019176112, 4094681266, 3528243378, 644325555, 950550709, 1433606326, 2948642999, 871733427, 3659055288, 3858413756, 1647044797, 2433763524, 3282262213, 535840966, 2556774601, 4166185165, 1254211789, 3663186128, 3408310485, 3422882006, 806918362, 3461578971, 198734045, 653213917, 2786259165, 1785108706, 4223183076, 423954661, 4001192171, 3916118254, 96741616, 2086938869, 100331768, 3007359227, 3469230344, 882524428, 3609678094, 1382586643, 186394904, 4293165345, 1354830115, 2536870179, 2186670371, 1191665957, 1226387751, 3899087141, 2856050985, 2147021099, 3746046251, 1569435952, 919929138, 1738322228, 3156328757, 695386426, 2896961852, 4154919229, 2042812734, 3061250368, 2105745733, 2647939398, 3152269638, 4037335368, 3052415302, 2140698954, 3159828807, 3509248325, 2027700557, 1158052169, 2472841553, 4241183060, 3622748501, 3807686444, 1682559321, 3926923609, 1996716380, 2527975773, 1406671198, 3075152225, 3863503201, 136751460, 3644148071, 2547921256, 3113120105, 2877696362, 681914731, 3058680172, 1700237677, 1715974510, 3772092785, 2772027762, 3027100019, 1388857715, 478292346, 1506048378, 2229119361, 3466140034, 2303709570, 291359108, 2301729157, 4073593227, 3391379855, 2903048595, 4136753556, 598774172, 3981121951, 863158687, 1282468259, 3843756451, 3088097699, 3935261096, 2157984171, 1257652654, 2376591791, 3427815856, 4167731634, 3147481527, 800479675, 1867114939, 57530815, 4275231168, 2391497152, 4168257986, 1890656707, 32311747, 3940805068, 2325768656, 759017936, 1684326866, 457230803, 411507155, 2353068499, 3353323990, 2571895257, 2313042397, 2370138590, 2813991400, 2658118123, 1268838892, 1803885036, 571339245, 2299578860, 3220195824, 3856011761, 1008538098, 3399979508, 3177343482, 189854203, 1142923772, 1867981311, 3667286528, 3307129343, 110907906, 1237330435, 928403970, 3634242058, 3098888716, 75956749, 225272333, 3404016143, 3682740749, 2936291857, 4076571153, 3134202385, 2613948949, 4177930775, 3754242585, 3582712345, 3995603484, 224508445, 2021337628, 228893213, 3906138657, 1111390754, 2572313121, 3679474219, 3498322475, 3556291119, 1710715440, 803818034, 4026874420, 3376618037, 2482080310, 3966337592, 981725755, 3447192124, 3363308093, 554281531, 1474038335, 3992306243, 3749128772, 2093687364, 1602841158, 2125244998, 1658450504, 4276703811, 2342777411, 2455269963, 1337481804, 2028409419, 1611221584, 348361297, 2597585491, 2017485396, 2197013077, 3587117657, 2515401307, 1681889884, 3978693214, 2258553440, 3480674913, 2215711331, 2086019684, 381258341, 2814327399, 3650140777, 2584296042, 3825576555, 3675560555, 3488596588, 3357917802, 4044317301, 1319563894, 4084796023, 2821542520, 124611193, 1151005302, 4023908989, 2796051069, 934761088, 1331958402, 1277201026, 1557639812, 2363089538, 1779827334, 2092264066, 1878141576, 3606080137, 3836738187, 3536851596, 4174318223, 208730773, 1020330646, 2503142037, 1078477466, 3877806747, 2582409884, 766308103, 1594655390, 239891104, 3407966887, 3612031656, 2869072556, 4248701613, 3667270318, 1162169004, 2871435955, 4218411702, 1813394103, 1130744506, 141152954, 1204921020, 1274196669, 4216888001, 2646072002, 726409924, 3179950789, 3215696583, 2468389576, 1281366728, 3339305674, 1525834444, 623166158, 2557098703, 3327718096, 1417933523, 420823763, 1750706901, 2639168213, 2989114068, 2839980760, 3616895705, 4253307610, 3422210779, 2529426139, 2984276697, 1381042910, 3346125530, 1800456920, 1126042337, 1930945250, 840293091, 4026456805, 914045669, 1288303335, 1656769257, 1703625450, 2311701231, 3618595568, 3614460658, 112685811, 1990648563, 3258622709, 623631095, 3013378808, 151902968, 1121884922, 3438164736, 2896462593, 4010369793, 4164025091, 3314631429, 2440436486, 421997317, 3468231434, 2939716363, 3165909770, 842674958, 135887632, 2417500945, 2414805778, 2953098001, 944491284, 3105319697, 3088114454, 3218270994, 180269843, 136485654, 2113923866, 2794867483, 3460115223, 2894508832, 1409723169, 2593692451, 3914294052, 3759711011, 1105394472, 4255638313, 1931764520, 1586891569, 3967771442, 225936177, 157954866, 998619957, 1117694774, 3735669560, 3255315257, 3533423419, 276628284, 1705872189, 1573172033, 3153926978, 4284123973, 2407531336, 1662262088, 358144846, 811393870, 2324443984, 3819453266, 3008727890, 3578229588, 3546616658, 3587832659, 1577843545, 682767194, 686367587, 818271076, 4104293220, 264627047, 3845038952, 299535211, 4041755499, 1653293935, 1291359782, 2084653938, 3878884210, 1653517172, 431960950, 4264364919, 3691115384, 2560826238, 2038213503, 3561051008, 3180696448, 642433923, 3439545221, 1366381447, 3068140424, 2346904457, 602516361, 3948573578, 1265945484, 207481743, 3249451920, 2565454736, 3585268625, 3167257488, 2290723732, 1957378965, 1239557014, 38273942, 21793684, 152531865, 3524991897, 2805629851, 3240879007, 1461676959, 2276461473, 3835857825, 1744178083, 1983060900, 1027627942, 2054206375, 2371468200, 2850098089, 1300978598, 884726699, 3802471337, 3770848166, 156275629, 4076557227, 805409709, 1985399729, 4182928309, 2951547831, 3846359992, 1132022712, 3704791997, 211428288, 3956798402, 473693122, 2495189956, 4004303811, 3062909895, 991587274, 457247693, 2241512398, 3857271759, 2426727376, 1673923536, 1209910226, 175535059, 2013914068, 1621699546, 1590582236, 1013165021, 4157006812, 1868796896, 3998051297, 1299045347, 2725149668, 1392241638, 1268474855, 541088745, 1592003563, 2290277357, 2015521778, 2920502260, 3091973109, 120792052, 3867024375, 2121026548, 7547897, 20876283, 2336312316, 3181837309, 313228290, 392623111, 2313071626, 913267724, 3788004364, 874220558, 1481841677, 4050152464, 2924837905, 2010205204, 1003101208, 4002778138, 1714912282, 3467381786, 2400758815, 680414240, 942443553, 1402088481, 1121291295, 2388311076, 2316887075, 2807276582, 1269532666, 2821452840, 2923365417, 1515045930, 4084902950, 1634001960, 2163104813, 1451529262, 1808630831, 579955759, 4035503149, 2569655346, 4154104877, 755631158, 2265261112, 4283466810, 4173098046, 1108835391, 3557114949, 2782135367, 1822233672, 2606326857, 3195407435, 705500241, 2940257362, 1031408724, 1938154584, 1270498392, 1211638872, 921930844, 3802276956, 2455479388, 3309110367, 2153100383, 4236897379, 1816568932, 2337600614, 3284509456, 2431220842, 746390635, 3732898924, 57916524, 3088837741, 1312842863, 2263059568, 295365737, 1601459314, 3667692658, 81325172, 2471402610, 156591222, 1851382901, 3709594746, 2694356091, 3158918268, 271494267, 1922864256, 191493251, 2202012805, 3769724037, 1553554569, 1888642186, 473205903, 3606006928, 3529649300, 1931230356, 3090834581, 1169534106, 2891828379, 583271580, 1774427294, 2067057824, 2882061476, 1047733413, 3881026726, 2904188068, 3149100202, 2729028779, 1285067948, 3120293037, 2184434859, 1777646767, 2424493232, 4107197613, 938294450, 930988, 442600629, 1683074230, 3050738871, 2239364279, 2850751669, 3976934586, 2628623547, 252857535, 3599072452, 270095556, 3220466886, 1398232262, 700794054, 3468743881, 919504073, 1273926859, 617012426, 3052944589, 1883221201, 1984419027, 4094835927, 3350480088, 569027806, 2959779039, 2636823775, 2999844065, 2063860963, 3830033636, 1047033061, 2050796774, 1754588391, 3669748968, 4058299622, 936469391, 1027261677, 1791386863, 1995930864, 472147185, 1649233137, 45468914, 1330767090, 1762417910, 2369363193, 3568332025, 4195441913, 4171261180, 4241845501, 1953795322, 1963658491, 922103040, 1971741958, 1959302407, 2549024007, 3191334155, 90948875, 1385256208, 1755168019, 3687963923, 1984795928, 1678986525, 3308530974, 2809820447, 528999714, 3628696866, 97301797, 1741737254, 1619154216, 1852241195, 605840684, 1626436909, 1543742770, 3635086642, 3373929782, 1545887030, 1314618680, 2456180024, 3936972090, 4120231226, 737699130, 1004840252, 1938617662, 2571257151, 2194003263, 3738627393, 526781756, 1578356030, 503334205, 967537992, 963126602, 3434892625, 1646740821, 2658737494, 4256044375, 2564775257, 3383115098, 2773937498, 3625098588, 648832350, 546129249, 3007982946, 1532204389, 3331577189, 1171275111, 454360424, 3907968361, 205839722, 365389161, 2519303526, 2088775023, 1015950704, 1038656880, 2940771702, 1081849209, 2760584569, 2757121404, 3483024767, 933596543, 2053297537, 2921844098, 3382502787, 658875780, 2481466753, 1170646408, 2980507016, 3392060810, 3018028428, 1760501132, 4039546253, 972895631, 3859326354, 3700721044, 2006168984, 2172112282, 3206915483, 2703613339, 621450653, 1810152862, 1468013982, 3161587101, 1036488097, 685481378, 2268323235, 1615349157, 3449908649, 662523305, 179969452, 3778336173, 4274900396, 404835761, 2278423986, 2302956979, 2424567223, 3271079354, 2498624956, 1343665598, 407197120, 2532613568, 2089240005, 3876373957, 2240404934, 1890942410, 2765243853, 1363731918, 1261833677, 2647768526, 1285017041, 2117359057, 2843993556, 2578845141, 985533909, 506533335, 1439663572, 1664613845, 2591747542, 1141296601, 661407197, 201244127, 549539296, 1364424159, 1931496927, 844484067, 3217993186, 2141025769, 1271651823, 2288578034, 269313524, 782964215, 288445944, 789671418, 2199266811, 1894182396, 2905183740, 269714944, 596352516, 1362130437, 530894340, 456287752, 1843785225, 2866761224, 134100488, 2906990091, 4179535369, 3254537742, 1122389517, 3855906314, 506506771, 596971028, 2268677932, 1778187800, 3373702683, 2526352926, 3038823966, 1047916066, 221335078, 2969765415, 3029693992, 4255749673, 361135658, 3282210347, 4088102442, 3890200107, 3997025835, 3651169833, 3983246887, 1156312625, 4086109746, 3645724211, 109915699, 3611315765, 2664025650, 2919188023, 1448599088, 2292784698, 3535994427, 1163116091, 3009834554, 1716762172, 2224481856, 837676610, 4283856451, 3087316550, 3124717126, 49659464, 4184708682, 1253332556, 84633164, 2715813453, 2955660880, 1832132183, 456801879, 2351816282, 3263841884, 3136933469, 4113528415, 2212157024, 3900558944, 1188052577, 1712117346, 1186240100, 1611935332, 1627231841, 2078916200, 760983145, 2295328362, 4062482026, 2751780458, 3707450989, 3410912878, 3460652651, 709867120, 3158199921, 3598276209, 3660725875, 2103690860, 2810070645, 2700328566, 3723189884, 3786456702, 2152799874, 603223683, 3009154691, 2368147077, 1711947398, 871988871, 3187373698, 596559491, 1802286730, 3283123851, 2903185039, 801296017, 1789955730, 1126594193, 3015188114, 2373580439, 4281788056, 1082306204, 3721952926, 3539461791, 3779815074, 251926179, 872603303, 237274796, 844402349, 1135511213, 853886639, 3948971700, 1193563829, 1971484343, 2701979319, 3531077305, 3716845242, 1881218749, 3062740672, 2066613954, 2366146245, 313722567, 459699912, 803446473, 3241490121, 4085515987, 1304133333, 2779113174, 2047162070, 3132937944, 553680600, 4225494747, 276745947, 1722635999, 3571949282, 1674258148, 3554619112, 3067186922, 3947896556, 1138902765, 3206289134, 487298798, 3354949358, 1182899953, 1172313841, 1659274995, 2150958835, 3241623282, 2369730296, 3689254651, 3118044923, 2379636476, 2935133950, 4050093823, 1086652159, 4105223931, 49288962, 2809480962, 233977602, 1467862790, 3140609798, 4147408648, 4120233734, 3621443338, 3077515018, 1017761548, 1859403533, 1132427022, 3939847946, 3301478160, 1611007753, 3442106131, 2462179095, 416745240, 24907545, 2119685917, 3683743517, 1674514210, 1192109858, 1154559780, 955717414, 1383421737, 56862508, 2208223021, 3041789742, 219516719, 591855407, 373856045, 2392860466, 3174119218, 898862900, 1140584245, 2470678326, 3553861430, 851806003, 230584121, 4257216315, 3244824381, 53440318, 838698815, 961568577, 3088711491, 1302218564, 3107704645, 4226799433, 1934630731, 108244812, 742704974, 719605583, 3186014032, 1338529617, 692471630, 1360392023, 2253205336, 2718697307, 3573800800, 365268834, 3548958562, 4043417442, 2118698852, 3184611170, 1275975527, 1440982887, 3717674855, 3553236843, 1153214316, 3494410091, 255016816, 3404162928, 3927865209, 874948475, 2032551807, 2214735743, 3471654786, 1978232709, 615139205, 1025748281, 2846265224, 1461700489, 933091210, 2382776202, 421662604, 2676260745, 2927810446, 656945041, 227876757, 2133038997, 207103896, 934918040, 1793386396, 3102310300, 1963962271, 796600227, 3651063721, 1710790570, 3031820207, 2133194672, 1927079858, 3587626931, 872513458, 4283957174, 754225079, 3231719352, 1350944697, 930492347, 344471489, 913754050, 4261093315, 1090432963, 2507802564, 142634949, 2643695558, 2989301705, 172324814, 3199926224, 1260355537, 2710042581, 3033311189, 568385495, 1347352538, 216190941, 1644298206, 2364073951, 2377392096, 549095396, 3253600229, 2543491044, 306630635, 4240271339, 1874225132, 1351086062, 2761322479, 270667761, 2816202738, 3059083252, 2534936565, 1672116214, 3935739894, 3852697592, 2947162105, 3324651514, 3825204840, 3017089021}\n"
     ]
    }
   ],
   "source": [
    "fname = get_fnames()[0]\n",
    "print(\"file: {}\".format(fname))\n",
    "#print(\"number of shingles: {}\".format(len(get_shingles(fname, k=5))))\n",
    "print(\"number of shingles: {}\".format(get_shingles(fname, k=5)))"
   ]
  },
  {
   "cell_type": "code",
   "execution_count": null,
   "metadata": {
    "collapsed": true
   },
   "outputs": [],
   "source": []
  },
  {
   "cell_type": "code",
   "execution_count": 51,
   "metadata": {
    "collapsed": true
   },
   "outputs": [],
   "source": [
    "# set global parameters to process the whole dataset\n",
    "bands = 10\n",
    "rows = 10\n",
    "nsig = bands*rows  # number of elements in signature, or the number of different random hash functions\n",
    "maxShingleID = 2**32-1  # record the maximum shingle ID that we assigned\n",
    "nextPrime = 4294967311  # next prime number after maxShingleID\n",
    "A = numpy.random.randint(0, nextPrime, size=(nsig,))\n",
    "B = numpy.random.randint(0, nextPrime, size=(nsig,))"
   ]
  },
  {
   "cell_type": "code",
   "execution_count": 52,
   "metadata": {},
   "outputs": [
    {
     "name": "stdout",
     "output_type": "stream",
     "text": [
      "random shingle: 3361847299\n",
      "its hash code by first hash functinon: 505278698\n",
      "its hash code by second hash function: 3450068164\n"
     ]
    }
   ],
   "source": [
    "ShingleID = list(get_shingles(fname, k=5))[0]\n",
    "print(\"random shingle: {}\".format(ShingleID))\n",
    "hashCode = ((A[0]*ShingleID + B[0]) % nextPrime) % maxShingleID\n",
    "print(\"its hash code by first hash functinon: {}\".format(hashCode))\n",
    "hashCode = ((A[1]*ShingleID + B[1]) % nextPrime) % maxShingleID\n",
    "print(\"its hash code by second hash function: {}\".format(hashCode))"
   ]
  },
  {
   "cell_type": "code",
   "execution_count": 53,
   "metadata": {
    "collapsed": true
   },
   "outputs": [],
   "source": [
    "# naive version of Minhash algorithm that computes a signature for a single file\n",
    "# all shingles from that file are given in 'shingles'\n",
    "def minhash(shingles, A, B, nextPrime, maxShingleID, nsig):\n",
    "    signature = []\n",
    "    for i in range(nsig):  # number of hash functions == nsig\n",
    "        minHashCode = maxShingleID + 1\n",
    "        a = A[i]\n",
    "        b = B[i]\n",
    "        \n",
    "        for ShingleID in shingles:\n",
    "            hashCode = ((a*ShingleID + b) % nextPrime) % maxShingleID\n",
    "            if hashCode < minHashCode:\n",
    "                minHashCode = hashCode\n",
    "\n",
    "        signature.append(minHashCode)\n",
    "    return signature"
   ]
  },
  {
   "cell_type": "code",
   "execution_count": 54,
   "metadata": {},
   "outputs": [
    {
     "name": "stdout",
     "output_type": "stream",
     "text": [
      "file signature: [3236070, 984050, 803749, 5282765, 1526231, 338627, 4088367, 375494, 1232181, 5568543, 2833889, 4187450, 9997740, 340279, 3016723, 5064813, 20240709, 13331329, 1423361, 13099848, 12335173, 1585197, 21013701, 933999, 260096, 3206417, 14085154, 31026428, 13293641, 22377114, 170165, 236885, 3430425, 4811368, 3317413, 4478163, 1248240, 5013736, 242631, 7615892, 272256, 11150589, 713659, 14413702, 6457907, 5410789, 190297, 3880986, 1543493, 1195973, 1189788, 467721, 10323431, 6040656, 614194, 167654, 887224, 3726943, 1031740, 7158624, 4325315, 4084224, 12188363, 636242, 2341452, 3028896, 6447750, 2122098, 10631843, 981908, 9621193, 36332187, 12602699, 11417973, 22219451, 4799404, 15137409, 15231260, 109164, 9616412, 5190831, 15574902, 2378536, 2914188, 18618110, 10976922, 1778140, 19853767, 7359066, 4239177, 747242, 888417, 760345, 2769792, 13023505, 2910676, 9379024, 5637575, 5509342, 7361009]\n"
     ]
    }
   ],
   "source": [
    "fname = get_fnames()[3]\n",
    "shingles = get_shingles(fname, k=5)\n",
    "maxShingleID = 2**32-1  # record the maximum shingle ID that we assigned\n",
    "nextPrime = 4294967311  # next prime number after maxShingleID\n",
    "A = numpy.random.randint(0, nextPrime/2, size=(nsig,))\n",
    "B = numpy.random.randint(0, nextPrime/2, size=(nsig,))\n",
    "signature = minhash(shingles, A, B, nextPrime, maxShingleID, nsig)\n",
    "print(\"file signature: {}\".format(signature))"
   ]
  },
  {
   "cell_type": "code",
   "execution_count": 55,
   "metadata": {},
   "outputs": [
    {
     "name": "stdout",
     "output_type": "stream",
     "text": [
      "total signatures: 379\n",
      "took 32.236 seconds\n"
     ]
    }
   ],
   "source": [
    "# compute Minhashes for all files using a slow naive code\n",
    "fnames = get_fnames()\n",
    "signatures = []\n",
    "t = time()\n",
    "for fname in fnames:\n",
    "    shingles = get_shingles(fname, k=5)\n",
    "    signature = minhash(shingles, A, B, nextPrime, maxShingleID, nsig)\n",
    "    signatures.append(signature)\n",
    "t1 = time()-t\n",
    "print(\"total signatures: {}\".format(len(signatures)))\n",
    "print(\"took {:.3f} seconds\".format(t1))"
   ]
  },
  {
   "cell_type": "code",
   "execution_count": 56,
   "metadata": {
    "collapsed": true
   },
   "outputs": [],
   "source": [
    "# fast implementation of Minhash algorithm\n",
    "# computes all random hash functions for a shingle at once, using vector operations\n",
    "# also finds element-wise minimum of two vectors efficiently\n",
    "def minhash_fast(shingles, A, B, nextPrime, maxShingleID, nsig):\n",
    "    signature = numpy.ones((nsig,)) * (maxShingleID + 1)\n",
    "\n",
    "    for ShingleID in shingles:\n",
    "        hashCodes = ((A*ShingleID + B) % nextPrime) % maxShingleID\n",
    "        numpy.minimum(signature, hashCodes, out=signature)\n",
    "\n",
    "    return signature"
   ]
  },
  {
   "cell_type": "code",
   "execution_count": 57,
   "metadata": {},
   "outputs": [
    {
     "name": "stdout",
     "output_type": "stream",
     "text": [
      "slow code took 31.916 seconds\n",
      "slow code took 3.761 seconds\n",
      "speedup 8.485271649799738\n",
      "results are the same: 1.000\n"
     ]
    }
   ],
   "source": [
    "# compare two versions of Minhash code\n",
    "shingles_all_files = []\n",
    "for fname in get_fnames():\n",
    "    shingles_all_files.append(get_shingles(fname, k=5))\n",
    "\n",
    "t = time()\n",
    "signatures_all_files_1 = []\n",
    "for shingles in shingles_all_files:\n",
    "    signature = minhash(shingles, A, B, nextPrime, maxShingleID, nsig)\n",
    "    signatures_all_files_1.append(signature)\n",
    "t1 = time()-t\n",
    "print(\"slow code took {:.3f} seconds\".format(t1))\n",
    "\n",
    "t = time()\n",
    "signatures_all_files_2 = []\n",
    "for shingles in shingles_all_files:\n",
    "    signature = minhash_fast(shingles, A, B, nextPrime, maxShingleID, nsig)\n",
    "    signatures_all_files_2.append(signature)\n",
    "t2 = time()-t\n",
    "print(\"slow code took {:.3f} seconds\".format(t2))\n",
    "\n",
    "print('speedup {}'.format(t1/t2))\n",
    "\n",
    "signatures_all_files_1 = numpy.array(signatures_all_files_1)\n",
    "signatures_all_files_2 = numpy.array(signatures_all_files_2)\n",
    "print(\"results are the same: {:.3f}\".format(numpy.allclose(signatures_all_files_1, signatures_all_files_2)))"
   ]
  },
  {
   "cell_type": "code",
   "execution_count": 58,
   "metadata": {},
   "outputs": [
    {
     "name": "stdout",
     "output_type": "stream",
     "text": [
      "finding candidates took 1.107 seconds\n",
      "found 34 candidates\n",
      "candidate similar pairs of files are:\n",
      "./awd_1990_00/a9000390.txt ./awd_1990_00/a9000379.txt\n",
      "./awd_1990_00/a9000390.txt ./awd_1990_00/a9000927.txt\n",
      "./awd_1990_00/a9000390.txt ./awd_1990_00/a9000378.txt\n",
      "./awd_1990_00/a9000712.txt ./awd_1990_00/a9000594.txt\n",
      "./awd_1990_00/a9000379.txt ./awd_1990_00/a9000927.txt\n",
      "./awd_1990_00/a9000379.txt ./awd_1990_00/a9000378.txt\n",
      "./awd_1990_00/a9000410.txt ./awd_1990_00/a9000409.txt\n",
      "./awd_1990_00/a9000396.txt ./awd_1990_00/a9000528.txt\n",
      "./awd_1990_00/a9000396.txt ./awd_1990_00/a9000404.txt\n",
      "./awd_1990_00/a9000396.txt ./awd_1990_00/a9000222.txt\n",
      "./awd_1990_00/a9000396.txt ./awd_1990_00/a9000944.txt\n",
      "./awd_1990_00/a9000396.txt ./awd_1990_00/a9000221.txt\n",
      "./awd_1990_00/a9000396.txt ./awd_1990_00/a9000223.txt\n",
      "./awd_1990_00/a9000806.txt ./awd_1990_00/a9000594.txt\n",
      "./awd_1990_00/a9000962.txt ./awd_1990_00/a9000356.txt\n",
      "./awd_1990_00/a9000962.txt ./awd_1990_00/a9000527.txt\n",
      "./awd_1990_00/a9000528.txt ./awd_1990_00/a9000404.txt\n",
      "./awd_1990_00/a9000528.txt ./awd_1990_00/a9000222.txt\n",
      "./awd_1990_00/a9000528.txt ./awd_1990_00/a9000944.txt\n",
      "./awd_1990_00/a9000528.txt ./awd_1990_00/a9000221.txt\n",
      "./awd_1990_00/a9000528.txt ./awd_1990_00/a9000223.txt\n",
      "./awd_1990_00/a9000927.txt ./awd_1990_00/a9000378.txt\n",
      "./awd_1990_00/a9000404.txt ./awd_1990_00/a9000222.txt\n",
      "./awd_1990_00/a9000404.txt ./awd_1990_00/a9000944.txt\n",
      "./awd_1990_00/a9000404.txt ./awd_1990_00/a9000221.txt\n",
      "./awd_1990_00/a9000404.txt ./awd_1990_00/a9000223.txt\n",
      "./awd_1990_00/a9000222.txt ./awd_1990_00/a9000944.txt\n",
      "./awd_1990_00/a9000222.txt ./awd_1990_00/a9000221.txt\n",
      "./awd_1990_00/a9000222.txt ./awd_1990_00/a9000223.txt\n",
      "./awd_1990_00/a9000356.txt ./awd_1990_00/a9000527.txt\n",
      "./awd_1990_00/a9000944.txt ./awd_1990_00/a9000221.txt\n",
      "./awd_1990_00/a9000944.txt ./awd_1990_00/a9000223.txt\n",
      "./awd_1990_00/a9000221.txt ./awd_1990_00/a9000223.txt\n",
      "./awd_1990_00/a9000177.txt ./awd_1990_00/a9000458.txt\n"
     ]
    }
   ],
   "source": [
    "# get candidate pairs without Locality-Sensitive Hashing\n",
    "\n",
    "signatures = []  # signatures for all files\n",
    "fnames = get_fnames()\n",
    "for fname in fnames:\n",
    "    shingles = get_shingles(fname, k=5)\n",
    "    signature = minhash_fast(shingles, A, B, nextPrime, maxShingleID, nsig)\n",
    "    signatures.append(signature)\n",
    "\n",
    "s = 0.9  # similarity threshold\n",
    "Nfiles = len(signatures)\n",
    "t = time()\n",
    "candidates = []\n",
    "for i in range(Nfiles):\n",
    "    for j in range(i+1, Nfiles):\n",
    "        Jsim = numpy.mean(signatures[i] == signatures[j])  # average number of similar items in two vectors\n",
    "        if Jsim >= s:\n",
    "            candidates.append((i,j))\n",
    "t2 = time() - t\n",
    "print(\"finding candidates took {:.3f} seconds\".format(t2))\n",
    "print(\"found {} candidates\".format(len(candidates)))\n",
    "print(\"candidate similar pairs of files are:\")\n",
    "for i,j in candidates:\n",
    "    print(fnames[i], fnames[j])"
   ]
  },
  {
   "cell_type": "code",
   "execution_count": 59,
   "metadata": {},
   "outputs": [
    {
     "data": {
      "text/plain": [
       "\"In January 1988 a seismic tomography experiment was carried out on the East Pacific Rise at 9 degrees 30'N to image in three- dimensions the seismic velocity structure of the rise axis. This experiment yielded a seismic data set consisting of more that 8000 records from approximately 500 shots and 15 ocean bottom seismometers. Initial results from the tomographic inversion of P wave delay times indicate substantial heterogeneity in structure both across and along the rise axis; for instance, the axial low velocity anomaly at 2 km depth is 1.5km/s slower than off axis; the along-axis variations in this velocity anomaly exceed 20%. This renewal will continue the investigation of seismic velocity models using improved inversion techniques, will explore methods of utilizing waveform amplitude information to constrain further the 3-D seismic structure, and will analyze and interpret the gravity, magnetic, and microearthquake data obtained during the course of the tomography experiment.\""
      ]
     },
     "execution_count": 59,
     "metadata": {},
     "output_type": "execute_result"
    }
   ],
   "source": [
    "read_file('./awd_1990_00/a9000177.txt')"
   ]
  },
  {
   "cell_type": "code",
   "execution_count": 60,
   "metadata": {},
   "outputs": [
    {
     "data": {
      "text/plain": [
       "\" In February 1988 a seismic tomography experiment was carried out on the East Pacific Rise at 9 degrees 30'N to image in three- dimensions the seismic velocity structure of the rise axis. This experiment yielded a seismic data set consisting of more that 8000 records from approximately 500 shots and 15 ocean bottom seismometers. Initial results from the tomographic inversion of P wave delay times indicate substantial heterogeneity in structure both across and along the rise axis; for instance, the axial low velocity anomaly at 2 km depth is 1.5km/s slower than off axis; the along-axis variations in this velocity anomaly exceed 20%. This renewal will continue the investigation of seismic velocity models using improved inversion techniques, will explore methods of utilizing waveform amplitude information to constrain further the 3-D seismic structure, and will analyze and interpret the gravity, magnetic, and microearthquake data obtained during the course of the tomography experiment.\""
      ]
     },
     "execution_count": 60,
     "metadata": {},
     "output_type": "execute_result"
    }
   ],
   "source": [
    "read_file('./awd_1990_00/a9000458.txt')\n"
   ]
  },
  {
   "cell_type": "code",
   "execution_count": 61,
   "metadata": {},
   "outputs": [
    {
     "name": "stdout",
     "output_type": "stream",
     "text": [
      "(100, 379)\n"
     ]
    }
   ],
   "source": [
    "signatures = numpy.array(signatures).T\n",
    "print(signatures.shape)"
   ]
  },
  {
   "cell_type": "code",
   "execution_count": 44,
   "metadata": {
    "collapsed": true
   },
   "outputs": [],
   "source": [
    "def LSH(signatures, bands, rows, Ab, Bb, nextPrime, maxShingleID):\n",
    "    \"\"\"Locality Sensitive Hashing\n",
    "    \"\"\"\n",
    "    numItems = signatures.shape[1]\n",
    "    signBands = numpy.array_split(signatures, bands, axis=0)\n",
    "    candidates = set()\n",
    "    for nb in range(bands):\n",
    "        hashTable = {}\n",
    "        for ni in range(numItems):\n",
    "            item = signBands[nb][:,ni]\n",
    "            hash = (numpy.dot(Ab[nb,:], item) + Bb[nb]) % nextPrime % maxShingleID\n",
    "            if hash not in hashTable:\n",
    "                hashTable[hash] = [ni]\n",
    "            else:\n",
    "                hashTable[hash].append(ni)\n",
    "        for _,items in hashTable.items():\n",
    "            if len(items) > 1:\n",
    "                L = len(items)\n",
    "                for i in range(L-1):\n",
    "                    for j in range(i+1, L):\n",
    "                        cand = [items[i], items[j]]\n",
    "                        numpy.sort(cand)\n",
    "                        candidates.add(tuple(cand))\n",
    "    return candidates"
   ]
  },
  {
   "cell_type": "code",
   "execution_count": 45,
   "metadata": {},
   "outputs": [
    {
     "name": "stdout",
     "output_type": "stream",
     "text": [
      "finding candidates took 0.017 seconds\n",
      "found 38 candidates\n",
      "candidate similar pairs of files are:\n",
      "./awd_1990_00/a9000404.txt ./awd_1990_00/a9000222.txt\n",
      "./awd_1990_00/a9000396.txt ./awd_1990_00/a9000221.txt\n",
      "./awd_1990_00/a9000528.txt ./awd_1990_00/a9000944.txt\n",
      "./awd_1990_00/a9000390.txt ./awd_1990_00/a9000379.txt\n",
      "./awd_1990_00/a9000528.txt ./awd_1990_00/a9000223.txt\n",
      "./awd_1990_00/a9000528.txt ./awd_1990_00/a9000222.txt\n",
      "./awd_1990_00/a9000404.txt ./awd_1990_00/a9000944.txt\n",
      "./awd_1990_00/a9000222.txt ./awd_1990_00/a9000223.txt\n",
      "./awd_1990_00/a9000404.txt ./awd_1990_00/a9000223.txt\n",
      "./awd_1990_00/a9000222.txt ./awd_1990_00/a9000944.txt\n",
      "./awd_1990_00/a9000379.txt ./awd_1990_00/a9000378.txt\n",
      "./awd_1990_00/a9000390.txt ./awd_1990_00/a9000927.txt\n",
      "./awd_1990_00/a9000712.txt ./awd_1990_00/a9000806.txt\n",
      "./awd_1990_00/a9000390.txt ./awd_1990_00/a9000378.txt\n",
      "./awd_1990_00/a9000396.txt ./awd_1990_00/a9000223.txt\n",
      "./awd_1990_00/a9000221.txt ./awd_1990_00/a9000223.txt\n",
      "./awd_1990_00/a9000356.txt ./awd_1990_00/a9000527.txt\n",
      "./awd_1990_00/a9000712.txt ./awd_1990_00/a9000594.txt\n",
      "./awd_1990_00/a9000962.txt ./awd_1990_00/a9000356.txt\n",
      "./awd_1990_00/a9000410.txt ./awd_1990_00/a9000409.txt\n",
      "./awd_1990_00/a9000528.txt ./awd_1990_00/a9000404.txt\n",
      "./awd_1990_00/a9000177.txt ./awd_1990_00/a9000458.txt\n",
      "./awd_1990_00/a9000806.txt ./awd_1990_00/a9000594.txt\n",
      "./awd_1990_00/a9000944.txt ./awd_1990_00/a9000223.txt\n",
      "./awd_1990_00/a9000396.txt ./awd_1990_00/a9000404.txt\n",
      "./awd_1990_00/a9000046.txt ./awd_1990_00/a9000246.txt\n",
      "./awd_1990_00/a9000046.txt ./awd_1990_00/a9000158.txt\n",
      "./awd_1990_00/a9000222.txt ./awd_1990_00/a9000221.txt\n",
      "./awd_1990_00/a9000404.txt ./awd_1990_00/a9000221.txt\n",
      "./awd_1990_00/a9000379.txt ./awd_1990_00/a9000927.txt\n",
      "./awd_1990_00/a9000246.txt ./awd_1990_00/a9000158.txt\n",
      "./awd_1990_00/a9000396.txt ./awd_1990_00/a9000528.txt\n",
      "./awd_1990_00/a9000396.txt ./awd_1990_00/a9000944.txt\n",
      "./awd_1990_00/a9000528.txt ./awd_1990_00/a9000221.txt\n",
      "./awd_1990_00/a9000396.txt ./awd_1990_00/a9000222.txt\n",
      "./awd_1990_00/a9000962.txt ./awd_1990_00/a9000527.txt\n",
      "./awd_1990_00/a9000944.txt ./awd_1990_00/a9000221.txt\n",
      "./awd_1990_00/a9000927.txt ./awd_1990_00/a9000378.txt\n"
     ]
    }
   ],
   "source": [
    "# find candidates with LSH\n",
    "\n",
    "signatures = []  # signatures for all files\n",
    "fnames = get_fnames()\n",
    "for fname in fnames:\n",
    "    shingles = get_shingles(fname, k=5)\n",
    "    signature = minhash_fast(shingles, A, B, nextPrime, maxShingleID, nsig)\n",
    "    signatures.append(signature)\n",
    "\n",
    "# prepare data for LSH\n",
    "A2 = numpy.random.randint(0, nextPrime/2, size=(bands, rows))  # now we need a vector of A parameters for each band\n",
    "B2 = numpy.random.randint(0, nextPrime/2, size=(bands, ))\n",
    "signatures = numpy.array(signatures).T  # LSH needs a matrix of signatures, not a list of vectors\n",
    "\n",
    "s = 0.9  # similarity threshold\n",
    "Nfiles = signatures.shape[1]  # number of different files\n",
    "t = time()\n",
    "candidates = LSH(signatures, bands, rows, A2, B2, nextPrime, maxShingleID)\n",
    "t2 = time() - t\n",
    "print(\"finding candidates took {:.3f} seconds\".format(t2))\n",
    "print(\"found {} candidates\".format(len(candidates)))\n",
    "print(\"candidate similar pairs of files are:\")\n",
    "for i,j in candidates:\n",
    "    print(fnames[i], fnames[j])"
   ]
  },
  {
   "cell_type": "code",
   "execution_count": 46,
   "metadata": {},
   "outputs": [
    {
     "name": "stdout",
     "output_type": "stream",
     "text": [
      "100 0.9226808345905884\n"
     ]
    },
    {
     "data": {
      "image/png": "[encoded data removed]",
      "text/plain": [
       "<matplotlib.figure.Figure at 0x7f341ef6a518>"
      ]
     },
     "metadata": {},
     "output_type": "display_data"
    }
   ],
   "source": [
    "# example graph with given number of bands 'b1' and rows 'r1'\n",
    "\n",
    "b1 = 5\n",
    "r1 = 20\n",
    "print(b1*r1, (1.0/b1)**(1.0/r1))\n",
    "\n",
    "%matplotlib inline\n",
    "from matplotlib import pyplot\n",
    "t = numpy.linspace(0,1,1000)  # just lots of points between 0 and 1 for plotting\n",
    "p = 1 - numpy.power((1 - numpy.power(t, r1)), b1)  # Formula: p = 1 - (1 - t^r)^b \n",
    "pyplot.plot(t, p)\n",
    "pyplot.show()"
   ]
  },
  {
   "cell_type": "code",
   "execution_count": 47,
   "metadata": {},
   "outputs": [
    {
     "data": {
      "text/plain": [
       "0.311765953881872"
      ]
     },
     "execution_count": 47,
     "metadata": {},
     "output_type": "execute_result"
    }
   ],
   "source": [
    "(1.0/33)**(1.0/3)"
   ]
  },
  {
   "cell_type": "code",
   "execution_count": null,
   "metadata": {
    "collapsed": true
   },
   "outputs": [],
   "source": []
  }
 ],
 "metadata": {
  "anaconda-cloud": {},
  "kernelspec": {
   "display_name": "Python [conda env:py3k]",
   "language": "python",
   "name": "conda-env-py3k-py"
  },
  "language_info": {
   "codemirror_mode": {
    "name": "ipython",
    "version": 3
   },
   "file_extension": ".py",
   "mimetype": "text/x-python",
   "name": "python",
   "nbconvert_exporter": "python",
   "pygments_lexer": "ipython3",
   "version": "3.5.4"
  }
 },
 "nbformat": 4,
 "nbformat_minor": 1
}
