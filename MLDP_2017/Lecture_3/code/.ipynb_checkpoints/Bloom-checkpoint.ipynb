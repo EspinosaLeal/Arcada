{
 "cells": [
  {
   "cell_type": "code",
   "execution_count": 11,
   "metadata": {
    "collapsed": false
   },
   "outputs": [],
   "source": [
    "%matplotlib inline\n",
    "from matplotlib import pyplot\n",
    "import numpy"
   ]
  },
  {
   "cell_type": "code",
   "execution_count": 71,
   "metadata": {
    "collapsed": false
   },
   "outputs": [
    {
     "name": "stdout",
     "output_type": "stream",
     "text": [
      "Minimum False Positives are 67 / 1,000,000\n"
     ]
    },
    {
     "data": {
      "image/png": "[encoded data removed]",
      "text/plain": [
       "<matplotlib.figure.Figure at 0x10d5653d0>"
      ]
     },
     "metadata": {},
     "output_type": "display_data"
    }
   ],
   "source": [
    "# Bloom filter false positives\n",
    "n = 20*1E9\n",
    "m = 1*1E9\n",
    "k = numpy.arange(1, 25)*1.0\n",
    "\n",
    "fp = (1 - numpy.e**(-k*m/n))**k\n",
    "fp *= 1000000\n",
    "print \"Minimum False Positives are %.0f / 1,000,000\" % fp.min()\n",
    "\n",
    "pyplot.plot(k, fp, '-b')\n",
    "pyplot.ylim([0, 1000])\n",
    "pyplot.show()"
   ]
  },
  {
   "cell_type": "code",
   "execution_count": 69,
   "metadata": {
    "collapsed": false
   },
   "outputs": [
    {
     "name": "stdout",
     "output_type": "stream",
     "text": [
      "False Positives re-using memory\n",
      "67 FP / 20 GB RAM / 13 hash functions\n",
      "\n",
      "False positives with multiplied memory requirements\n",
      "48771 FP / 20 GB RAM / 1 hash functions\n",
      "2379 FP / 40 GB RAM / 2 hash functions\n",
      "116 FP / 60 GB RAM / 3 hash functions\n",
      "6 FP / 80 GB RAM / 4 hash functions\n",
      "0 FP / 100 GB RAM / 5 hash functions\n"
     ]
    },
    {
     "data": {
      "image/png": "[encoded data removed]",
      "text/plain": [
       "<matplotlib.figure.Figure at 0x10d5affd0>"
      ]
     },
     "metadata": {},
     "output_type": "display_data"
    }
   ],
   "source": [
    "# false positives with re-using memory, and without\n",
    "fp = (1 - numpy.e**(-k*m/n))**k\n",
    "fp *= 1000000\n",
    "print \"False Positives re-using memory\"\n",
    "print \"%.0f FP / %d GB RAM / %d hash functions\" % (fp.min(), n/1E9, fp.argmin())\n",
    "print\n",
    "\n",
    "fp2 = (1 - numpy.e**(-m/n))**k\n",
    "fp2 *= 1000000\n",
    "print \"False positives with multiplied memory requirements\"\n",
    "for i in range(5):\n",
    "    print \"%.0f FP / %.0f GB RAM / %d hash functions\" % (fp2[i], n*(i+1)/1E9, i+1)\n",
    "\n",
    "pyplot.plot(k, fp, '-b')\n",
    "pyplot.plot(k, fp2, '--r')\n",
    "pyplot.legend(['re-use memory', 'multiply memory reqs'])\n",
    "pyplot.ylim([0, 1000])\n",
    "pyplot.show()"
   ]
  },
  {
   "cell_type": "code",
   "execution_count": 68,
   "metadata": {
    "collapsed": false
   },
   "outputs": [
    {
     "name": "stdout",
     "output_type": "stream",
     "text": [
      "bitarray('0000000000')\n",
      "bitarray('1000000000')\n"
     ]
    }
   ],
   "source": [
    "from bitarray import bitarray\n",
    "a = bitarray(10)\n",
    "a.setall(0)\n",
    "print a\n",
    "a[0] = 1\n",
    "print a"
   ]
  },
  {
   "cell_type": "code",
   "execution_count": 104,
   "metadata": {
    "collapsed": false
   },
   "outputs": [
    {
     "name": "stdout",
     "output_type": "stream",
     "text": [
      "0000000000000000000000000000000000000000000000000000000000010100\n"
     ]
    },
    {
     "data": {
      "text/plain": [
       "2"
      ]
     },
     "execution_count": 104,
     "metadata": {},
     "output_type": "execute_result"
    }
   ],
   "source": [
    "def count_lead_and_trail_zeroes(d):\n",
    "    \"\"\"Count the number of leading and trailing zeroes in an integer.\"\"\"\n",
    "    b = \"{:064b}\".format(d)\n",
    "    try:\n",
    "        return 63 - b.rindex(\"1\")\n",
    "    except ValueError:  # \"stubsting not found\" error - did not find any '1' in the string\n",
    "        return 64\n",
    "\n",
    "k = 20\n",
    "print  \"{:064b}\".format(k)\n",
    "count_lead_and_trail_zeroes(k)"
   ]
  },
  {
   "cell_type": "code",
   "execution_count": null,
   "metadata": {
    "collapsed": true
   },
   "outputs": [],
   "source": []
  }
 ],
 "metadata": {
  "anaconda-cloud": {},
  "kernelspec": {
   "display_name": "Python [conda root]",
   "language": "python",
   "name": "conda-root-py"
  },
  "language_info": {
   "codemirror_mode": {
    "name": "ipython",
    "version": 2
   },
   "file_extension": ".py",
   "mimetype": "text/x-python",
   "name": "python",
   "nbconvert_exporter": "python",
   "pygments_lexer": "ipython2",
   "version": "2.7.12"
  }
 },
 "nbformat": 4,
 "nbformat_minor": 1
}
